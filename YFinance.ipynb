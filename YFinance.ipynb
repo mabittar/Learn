{
  "nbformat": 4,
  "nbformat_minor": 0,
  "metadata": {
    "colab": {
      "name": "YFinance.ipynb",
      "provenance": [],
      "authorship_tag": "ABX9TyNY4R1QTcP2S3ogpSdx892J",
      "include_colab_link": true
    },
    "kernelspec": {
      "name": "python3",
      "display_name": "Python 3"
    }
  },
  "cells": [
    {
      "cell_type": "markdown",
      "metadata": {
        "id": "view-in-github",
        "colab_type": "text"
      },
      "source": [
        "<a href=\"https://colab.research.google.com/github/mabittar/Learn/blob/master/YFinance.ipynb\" target=\"_parent\"><img src=\"https://colab.research.google.com/assets/colab-badge.svg\" alt=\"Open In Colab\"/></a>"
      ]
    },
    {
      "cell_type": "code",
      "metadata": {
        "id": "3XIZdSYTLZnu",
        "colab_type": "code",
        "outputId": "69a8266d-66e4-4b31-8717-4ddd3c58bd18",
        "colab": {
          "base_uri": "https://localhost:8080/",
          "height": 357
        }
      },
      "source": [
        "!pip install yfinance\n",
        "\n"
      ],
      "execution_count": 0,
      "outputs": [
        {
          "output_type": "stream",
          "text": [
            "Collecting yfinance\n",
            "  Downloading https://files.pythonhosted.org/packages/c2/31/8b374a12b90def92a4e27d0fc595fc43635f395984e36a075244d98bd265/yfinance-0.1.54.tar.gz\n",
            "Requirement already satisfied: pandas>=0.24 in /usr/local/lib/python3.6/dist-packages (from yfinance) (0.25.3)\n",
            "Requirement already satisfied: numpy>=1.15 in /usr/local/lib/python3.6/dist-packages (from yfinance) (1.17.5)\n",
            "Requirement already satisfied: requests>=2.20 in /usr/local/lib/python3.6/dist-packages (from yfinance) (2.21.0)\n",
            "Requirement already satisfied: multitasking>=0.0.7 in /usr/local/lib/python3.6/dist-packages (from yfinance) (0.0.9)\n",
            "Requirement already satisfied: pytz>=2017.2 in /usr/local/lib/python3.6/dist-packages (from pandas>=0.24->yfinance) (2018.9)\n",
            "Requirement already satisfied: python-dateutil>=2.6.1 in /usr/local/lib/python3.6/dist-packages (from pandas>=0.24->yfinance) (2.6.1)\n",
            "Requirement already satisfied: chardet<3.1.0,>=3.0.2 in /usr/local/lib/python3.6/dist-packages (from requests>=2.20->yfinance) (3.0.4)\n",
            "Requirement already satisfied: idna<2.9,>=2.5 in /usr/local/lib/python3.6/dist-packages (from requests>=2.20->yfinance) (2.8)\n",
            "Requirement already satisfied: certifi>=2017.4.17 in /usr/local/lib/python3.6/dist-packages (from requests>=2.20->yfinance) (2019.11.28)\n",
            "Requirement already satisfied: urllib3<1.25,>=1.21.1 in /usr/local/lib/python3.6/dist-packages (from requests>=2.20->yfinance) (1.24.3)\n",
            "Requirement already satisfied: six>=1.5 in /usr/local/lib/python3.6/dist-packages (from python-dateutil>=2.6.1->pandas>=0.24->yfinance) (1.12.0)\n",
            "Building wheels for collected packages: yfinance\n",
            "  Building wheel for yfinance (setup.py) ... \u001b[?25l\u001b[?25hdone\n",
            "  Created wheel for yfinance: filename=yfinance-0.1.54-py2.py3-none-any.whl size=22411 sha256=576c8570f1f55467d671f91a293e5e30f25bb297cc503ffe3bca7f65512e4184\n",
            "  Stored in directory: /root/.cache/pip/wheels/f9/e3/5b/ec24dd2984b12d61e0abf26289746c2436a0e7844f26f2515c\n",
            "Successfully built yfinance\n",
            "Installing collected packages: yfinance\n",
            "Successfully installed yfinance-0.1.54\n"
          ],
          "name": "stdout"
        }
      ]
    },
    {
      "cell_type": "code",
      "metadata": {
        "id": "bm04qIPx4GRF",
        "colab_type": "code",
        "outputId": "f89c5efd-df25-4ca1-d3f2-1a1605cd99b7",
        "colab": {
          "base_uri": "https://localhost:8080/",
          "height": 51
        }
      },
      "source": [
        "#Enter the ticker or stock\n",
        "print (\"Digite o ticker\")\n",
        "user_ticker = input ()"
      ],
      "execution_count": 0,
      "outputs": [
        {
          "output_type": "stream",
          "text": [
            "Digite o ticker\n",
            "GOOG\n"
          ],
          "name": "stdout"
        }
      ]
    },
    {
      "cell_type": "code",
      "metadata": {
        "id": "-9ANFNUk5y8a",
        "colab_type": "code",
        "outputId": "f86b55e4-c7f0-4768-e232-267d510f562a",
        "colab": {
          "base_uri": "https://localhost:8080/",
          "height": 51
        }
      },
      "source": [
        "#enter start date\n",
        "print (\"Digite a data de inicio - YYYY-MM-DD ou max\")\n",
        "user_start = input ()"
      ],
      "execution_count": 0,
      "outputs": [
        {
          "output_type": "stream",
          "text": [
            "Digite a data de inicio - YYYY-MM-DD ou max\n",
            "2019-07-01\n"
          ],
          "name": "stdout"
        }
      ]
    },
    {
      "cell_type": "code",
      "metadata": {
        "id": "h331OyDe6LF1",
        "colab_type": "code",
        "outputId": "cb454665-478c-498f-8f32-05c1c13e248f",
        "colab": {
          "base_uri": "https://localhost:8080/",
          "height": 51
        }
      },
      "source": [
        "#enter finish date\n",
        "print (\"Digite a data final - YYYY-MM-DD ou max\")\n",
        "user_end = input ()"
      ],
      "execution_count": 0,
      "outputs": [
        {
          "output_type": "stream",
          "text": [
            "Digite a data final - YYYY-MM-DD ou max\n",
            "2020-02-01\n"
          ],
          "name": "stdout"
        }
      ]
    },
    {
      "cell_type": "code",
      "metadata": {
        "id": "ppheHuv0Lqcj",
        "colab_type": "code",
        "outputId": "e8224648-10b4-4a4d-9639-d3bd79827c8f",
        "colab": {
          "base_uri": "https://localhost:8080/",
          "height": 467
        }
      },
      "source": [
        "from pandas_datareader import data as pdr\n",
        "import yfinance as yf\n",
        "yf.pdr_override()\n",
        "\n",
        "#define the ticker symbol\n",
        "tickerSymbol = user_ticker\n",
        "\n",
        "#get data on this ticker\n",
        "tickerData = yf.Ticker(tickerSymbol)\n",
        "\n",
        "#get the historical prices for this ticker\n",
        "#tickerDf = tickerData.history(period='1d', start= user_start, end= user_end, index_col=0)\n",
        "tickerDf = pdr.get_data_yahoo(str(tickerSymbol), start= user_start, end= user_end)\n",
        "\n",
        "#see your data\n",
        "tickerDf\n"
      ],
      "execution_count": 0,
      "outputs": [
        {
          "output_type": "stream",
          "text": [
            "\r[*********************100%***********************]  1 of 1 completed\n"
          ],
          "name": "stdout"
        },
        {
          "output_type": "execute_result",
          "data": {
            "text/html": [
              "<div>\n",
              "<style scoped>\n",
              "    .dataframe tbody tr th:only-of-type {\n",
              "        vertical-align: middle;\n",
              "    }\n",
              "\n",
              "    .dataframe tbody tr th {\n",
              "        vertical-align: top;\n",
              "    }\n",
              "\n",
              "    .dataframe thead th {\n",
              "        text-align: right;\n",
              "    }\n",
              "</style>\n",
              "<table border=\"1\" class=\"dataframe\">\n",
              "  <thead>\n",
              "    <tr style=\"text-align: right;\">\n",
              "      <th></th>\n",
              "      <th>Open</th>\n",
              "      <th>High</th>\n",
              "      <th>Low</th>\n",
              "      <th>Close</th>\n",
              "      <th>Adj Close</th>\n",
              "      <th>Volume</th>\n",
              "    </tr>\n",
              "    <tr>\n",
              "      <th>Date</th>\n",
              "      <th></th>\n",
              "      <th></th>\n",
              "      <th></th>\n",
              "      <th></th>\n",
              "      <th></th>\n",
              "      <th></th>\n",
              "    </tr>\n",
              "  </thead>\n",
              "  <tbody>\n",
              "    <tr>\n",
              "      <th>2019-07-01</th>\n",
              "      <td>1098.000000</td>\n",
              "      <td>1107.579956</td>\n",
              "      <td>1093.703003</td>\n",
              "      <td>1097.949951</td>\n",
              "      <td>1097.949951</td>\n",
              "      <td>1436300</td>\n",
              "    </tr>\n",
              "    <tr>\n",
              "      <th>2019-07-02</th>\n",
              "      <td>1102.239990</td>\n",
              "      <td>1111.770020</td>\n",
              "      <td>1098.170044</td>\n",
              "      <td>1111.250000</td>\n",
              "      <td>1111.250000</td>\n",
              "      <td>991600</td>\n",
              "    </tr>\n",
              "    <tr>\n",
              "      <th>2019-07-03</th>\n",
              "      <td>1117.410034</td>\n",
              "      <td>1126.760010</td>\n",
              "      <td>1113.859985</td>\n",
              "      <td>1121.579956</td>\n",
              "      <td>1121.579956</td>\n",
              "      <td>767000</td>\n",
              "    </tr>\n",
              "    <tr>\n",
              "      <th>2019-07-05</th>\n",
              "      <td>1117.800049</td>\n",
              "      <td>1132.880005</td>\n",
              "      <td>1116.140015</td>\n",
              "      <td>1131.589966</td>\n",
              "      <td>1131.589966</td>\n",
              "      <td>1264300</td>\n",
              "    </tr>\n",
              "    <tr>\n",
              "      <th>2019-07-08</th>\n",
              "      <td>1125.170044</td>\n",
              "      <td>1125.979980</td>\n",
              "      <td>1111.209961</td>\n",
              "      <td>1116.349976</td>\n",
              "      <td>1116.349976</td>\n",
              "      <td>1236400</td>\n",
              "    </tr>\n",
              "    <tr>\n",
              "      <th>...</th>\n",
              "      <td>...</td>\n",
              "      <td>...</td>\n",
              "      <td>...</td>\n",
              "      <td>...</td>\n",
              "      <td>...</td>\n",
              "      <td>...</td>\n",
              "    </tr>\n",
              "    <tr>\n",
              "      <th>2020-01-27</th>\n",
              "      <td>1431.000000</td>\n",
              "      <td>1438.069946</td>\n",
              "      <td>1421.199951</td>\n",
              "      <td>1433.900024</td>\n",
              "      <td>1433.900024</td>\n",
              "      <td>1755200</td>\n",
              "    </tr>\n",
              "    <tr>\n",
              "      <th>2020-01-28</th>\n",
              "      <td>1443.000000</td>\n",
              "      <td>1456.000000</td>\n",
              "      <td>1432.469971</td>\n",
              "      <td>1452.560059</td>\n",
              "      <td>1452.560059</td>\n",
              "      <td>1577400</td>\n",
              "    </tr>\n",
              "    <tr>\n",
              "      <th>2020-01-29</th>\n",
              "      <td>1458.800049</td>\n",
              "      <td>1465.430054</td>\n",
              "      <td>1446.739990</td>\n",
              "      <td>1458.630005</td>\n",
              "      <td>1458.630005</td>\n",
              "      <td>1077700</td>\n",
              "    </tr>\n",
              "    <tr>\n",
              "      <th>2020-01-30</th>\n",
              "      <td>1439.959961</td>\n",
              "      <td>1457.280029</td>\n",
              "      <td>1436.400024</td>\n",
              "      <td>1455.839966</td>\n",
              "      <td>1455.839966</td>\n",
              "      <td>1339400</td>\n",
              "    </tr>\n",
              "    <tr>\n",
              "      <th>2020-01-31</th>\n",
              "      <td>1468.900024</td>\n",
              "      <td>1470.130005</td>\n",
              "      <td>1428.530029</td>\n",
              "      <td>1434.229980</td>\n",
              "      <td>1434.229980</td>\n",
              "      <td>2415600</td>\n",
              "    </tr>\n",
              "  </tbody>\n",
              "</table>\n",
              "<p>149 rows × 6 columns</p>\n",
              "</div>"
            ],
            "text/plain": [
              "                   Open         High  ...    Adj Close   Volume\n",
              "Date                                  ...                      \n",
              "2019-07-01  1098.000000  1107.579956  ...  1097.949951  1436300\n",
              "2019-07-02  1102.239990  1111.770020  ...  1111.250000   991600\n",
              "2019-07-03  1117.410034  1126.760010  ...  1121.579956   767000\n",
              "2019-07-05  1117.800049  1132.880005  ...  1131.589966  1264300\n",
              "2019-07-08  1125.170044  1125.979980  ...  1116.349976  1236400\n",
              "...                 ...          ...  ...          ...      ...\n",
              "2020-01-27  1431.000000  1438.069946  ...  1433.900024  1755200\n",
              "2020-01-28  1443.000000  1456.000000  ...  1452.560059  1577400\n",
              "2020-01-29  1458.800049  1465.430054  ...  1458.630005  1077700\n",
              "2020-01-30  1439.959961  1457.280029  ...  1455.839966  1339400\n",
              "2020-01-31  1468.900024  1470.130005  ...  1434.229980  2415600\n",
              "\n",
              "[149 rows x 6 columns]"
            ]
          },
          "metadata": {
            "tags": []
          },
          "execution_count": 6
        }
      ]
    },
    {
      "cell_type": "code",
      "metadata": {
        "id": "s7jRmPA87QDW",
        "colab_type": "code",
        "outputId": "7ba8fb53-ea0e-4b14-8d95-ee85514681f4",
        "colab": {
          "base_uri": "https://localhost:8080/",
          "height": 34
        }
      },
      "source": [
        "print(tickerDf.shape)"
      ],
      "execution_count": 0,
      "outputs": [
        {
          "output_type": "stream",
          "text": [
            "(149, 6)\n"
          ],
          "name": "stdout"
        }
      ]
    },
    {
      "cell_type": "code",
      "metadata": {
        "colab_type": "code",
        "outputId": "b96dc8f2-c5e3-46ae-de6c-ce31b8d56afd",
        "id": "TYSuKaVG_uur",
        "colab": {
          "base_uri": "https://localhost:8080/",
          "height": 1000
        }
      },
      "source": [
        "tickerData.info"
      ],
      "execution_count": 0,
      "outputs": [
        {
          "output_type": "execute_result",
          "data": {
            "text/plain": [
              "{'52WeekChange': 0.28516936,\n",
              " 'SandP52WeekChange': 0.20507026,\n",
              " 'address1': '1600 Amphitheatre Parkway',\n",
              " 'algorithm': None,\n",
              " 'annualHoldingsTurnover': None,\n",
              " 'annualReportExpenseRatio': None,\n",
              " 'ask': 1438.4,\n",
              " 'askSize': 1200,\n",
              " 'averageDailyVolume10Day': 1614442,\n",
              " 'averageVolume': 1381973,\n",
              " 'averageVolume10days': 1614442,\n",
              " 'beta': 1.018755,\n",
              " 'beta3Year': None,\n",
              " 'bid': 1435.36,\n",
              " 'bidSize': 2900,\n",
              " 'bookValue': 282.193,\n",
              " 'category': None,\n",
              " 'circulatingSupply': None,\n",
              " 'city': 'Mountain View',\n",
              " 'companyOfficers': [],\n",
              " 'country': 'United States',\n",
              " 'currency': 'USD',\n",
              " 'dateShortInterest': 1579046400,\n",
              " 'dayHigh': 1470.12,\n",
              " 'dayLow': 1428.53,\n",
              " 'dividendRate': None,\n",
              " 'dividendYield': None,\n",
              " 'earningsQuarterlyGrowth': -0.231,\n",
              " 'enterpriseToEbitda': 20.034,\n",
              " 'enterpriseToRevenue': 5.694,\n",
              " 'enterpriseValue': 882866454528,\n",
              " 'exDividendDate': None,\n",
              " 'exchange': 'NMS',\n",
              " 'exchangeTimezoneName': 'America/New_York',\n",
              " 'exchangeTimezoneShortName': 'EST',\n",
              " 'expireDate': None,\n",
              " 'fiftyDayAverage': 1406.9413,\n",
              " 'fiftyTwoWeekHigh': 1503.214,\n",
              " 'fiftyTwoWeekLow': 1025,\n",
              " 'fiveYearAverageReturn': None,\n",
              " 'fiveYearAvgDividendYield': None,\n",
              " 'floatShares': 617980645,\n",
              " 'forwardEps': 54.36,\n",
              " 'forwardPE': 26.38392,\n",
              " 'fromCurrency': None,\n",
              " 'fullTimeEmployees': 114096,\n",
              " 'fundFamily': None,\n",
              " 'fundInceptionDate': None,\n",
              " 'gmtOffSetMilliseconds': '-18000000',\n",
              " 'heldPercentInsiders': 0.05626,\n",
              " 'heldPercentInstitutions': 0.70414,\n",
              " 'industry': 'Internet Content & Information',\n",
              " 'isEsgPopulated': False,\n",
              " 'lastCapGain': None,\n",
              " 'lastDividendValue': None,\n",
              " 'lastFiscalYearEnd': 1546214400,\n",
              " 'lastMarket': None,\n",
              " 'lastSplitDate': 1430092800,\n",
              " 'lastSplitFactor': '10000000:10000000',\n",
              " 'legalType': None,\n",
              " 'logo_url': 'https://logo.clearbit.com/abc.xyz',\n",
              " 'longBusinessSummary': 'Alphabet Inc. provides online advertising services in the United States, Europe, the Middle East, Africa, the Asia-Pacific, Canada, and Latin America. It offers performance and brand advertising services. The company operates through Google and Other Bets segments. The Google segment offers products, such as Ads, Android, Chrome, Google Cloud, Google Maps, Google Play, Hardware, Search, and YouTube, as well as technical infrastructure. This segment also offers digital content, cloud services, hardware devices, and other miscellaneous products and services. The Other Bets segment includes businesses, including Access, Calico, CapitalG, GV, Verily, Waymo, and X, as well as Internet and television services. Alphabet Inc. was founded in 1998 and is headquartered in Mountain View, California.',\n",
              " 'longName': 'Alphabet Inc.',\n",
              " 'market': 'us_market',\n",
              " 'marketCap': 988627599360,\n",
              " 'maxAge': 1,\n",
              " 'maxSupply': None,\n",
              " 'messageBoardId': 'finmb_29096',\n",
              " 'morningStarOverallRating': None,\n",
              " 'morningStarRiskRating': None,\n",
              " 'mostRecentQuarter': 1569801600,\n",
              " 'navPrice': None,\n",
              " 'netIncomeToCommon': 32619999232,\n",
              " 'nextFiscalYearEnd': 1609372800,\n",
              " 'open': 1468.9,\n",
              " 'openInterest': None,\n",
              " 'payoutRatio': 0,\n",
              " 'pegRatio': 1.98,\n",
              " 'phone': '650-253-0000',\n",
              " 'previousClose': 1455.84,\n",
              " 'priceHint': 2,\n",
              " 'priceToBook': 5.0824437,\n",
              " 'priceToSalesTrailing12Months': 6.375857,\n",
              " 'profitMargins': 0.21037,\n",
              " 'quoteType': 'EQUITY',\n",
              " 'regularMarketDayHigh': 1470.12,\n",
              " 'regularMarketDayLow': 1428.53,\n",
              " 'regularMarketOpen': 1468.9,\n",
              " 'regularMarketPreviousClose': 1455.84,\n",
              " 'regularMarketPrice': 1468.9,\n",
              " 'regularMarketVolume': 2417214,\n",
              " 'revenueQuarterlyGrowth': None,\n",
              " 'sector': 'Communication Services',\n",
              " 'sharesOutstanding': 343551008,\n",
              " 'sharesPercentSharesOut': 0.005,\n",
              " 'sharesShort': 3480684,\n",
              " 'sharesShortPreviousMonthDate': 1576195200,\n",
              " 'sharesShortPriorMonth': 3474839,\n",
              " 'shortName': 'Alphabet Inc.',\n",
              " 'shortPercentOfFloat': None,\n",
              " 'shortRatio': 2.46,\n",
              " 'startDate': None,\n",
              " 'state': 'CA',\n",
              " 'strikePrice': None,\n",
              " 'symbol': 'GOOG',\n",
              " 'threeYearAverageReturn': None,\n",
              " 'totalAssets': None,\n",
              " 'tradeable': True,\n",
              " 'trailingAnnualDividendRate': None,\n",
              " 'trailingAnnualDividendYield': None,\n",
              " 'trailingEps': 46.601,\n",
              " 'trailingPE': 30.776806,\n",
              " 'twoHundredDayAverage': 1275.8438,\n",
              " 'volume': 2417214,\n",
              " 'volume24Hr': None,\n",
              " 'volumeAllCurrencies': None,\n",
              " 'website': 'http://www.abc.xyz',\n",
              " 'yield': None,\n",
              " 'ytdReturn': None,\n",
              " 'zip': '94043'}"
            ]
          },
          "metadata": {
            "tags": []
          },
          "execution_count": 100
        }
      ]
    },
    {
      "cell_type": "markdown",
      "metadata": {
        "id": "uMx939w3L17i",
        "colab_type": "text"
      },
      "source": [
        "period: the frequency at which to gather the data; common options would include ‘1d’ (daily), ‘1mo’ (monthly), ‘1y’ (yearly)\n",
        "start: the date to start gathering the data. For example ‘2010–1–1’\n",
        "end: the date to end gathering the data. For example ‘2020–1–25’\n",
        "\n",
        "Open: the stock price at the beginning of that day/month/year\n",
        "Close: the stock price at the end of that day/month/year\n",
        "High: the highest price the stock achieved that day/month/year\n",
        "Low: the lowest price the stock achieved that day/month/year\n",
        "Volume: How many shares were traded that day/month/year"
      ]
    },
    {
      "cell_type": "code",
      "metadata": {
        "colab_type": "code",
        "outputId": "e3c64fa9-8634-4d1b-ab64-5d1e083670bb",
        "id": "k6cFrNwp9Gx7",
        "colab": {
          "base_uri": "https://localhost:8080/",
          "height": 450
        }
      },
      "source": [
        "#get recommendation data for ticker\n",
        "tickerData.recommendations"
      ],
      "execution_count": 0,
      "outputs": [
        {
          "output_type": "execute_result",
          "data": {
            "text/html": [
              "<div>\n",
              "<style scoped>\n",
              "    .dataframe tbody tr th:only-of-type {\n",
              "        vertical-align: middle;\n",
              "    }\n",
              "\n",
              "    .dataframe tbody tr th {\n",
              "        vertical-align: top;\n",
              "    }\n",
              "\n",
              "    .dataframe thead th {\n",
              "        text-align: right;\n",
              "    }\n",
              "</style>\n",
              "<table border=\"1\" class=\"dataframe\">\n",
              "  <thead>\n",
              "    <tr style=\"text-align: right;\">\n",
              "      <th></th>\n",
              "      <th>Firm</th>\n",
              "      <th>To Grade</th>\n",
              "      <th>From Grade</th>\n",
              "      <th>Action</th>\n",
              "    </tr>\n",
              "    <tr>\n",
              "      <th>Date</th>\n",
              "      <th></th>\n",
              "      <th></th>\n",
              "      <th></th>\n",
              "      <th></th>\n",
              "    </tr>\n",
              "  </thead>\n",
              "  <tbody>\n",
              "    <tr>\n",
              "      <th>2014-12-17</th>\n",
              "      <td>Pivotal Research</td>\n",
              "      <td>Buy</td>\n",
              "      <td></td>\n",
              "      <td>up</td>\n",
              "    </tr>\n",
              "    <tr>\n",
              "      <th>2015-01-08</th>\n",
              "      <td>Stifel</td>\n",
              "      <td>Hold</td>\n",
              "      <td></td>\n",
              "      <td>down</td>\n",
              "    </tr>\n",
              "    <tr>\n",
              "      <th>2015-01-14</th>\n",
              "      <td>Credit Suisse</td>\n",
              "      <td>Outperform</td>\n",
              "      <td></td>\n",
              "      <td>main</td>\n",
              "    </tr>\n",
              "    <tr>\n",
              "      <th>2015-01-30</th>\n",
              "      <td>Citigroup</td>\n",
              "      <td>Buy</td>\n",
              "      <td></td>\n",
              "      <td>main</td>\n",
              "    </tr>\n",
              "    <tr>\n",
              "      <th>2015-01-30</th>\n",
              "      <td>Barclays</td>\n",
              "      <td>Overweight</td>\n",
              "      <td></td>\n",
              "      <td>main</td>\n",
              "    </tr>\n",
              "    <tr>\n",
              "      <th>...</th>\n",
              "      <td>...</td>\n",
              "      <td>...</td>\n",
              "      <td>...</td>\n",
              "      <td>...</td>\n",
              "    </tr>\n",
              "    <tr>\n",
              "      <th>2019-12-03</th>\n",
              "      <td>PiperJaffray</td>\n",
              "      <td>Overweight</td>\n",
              "      <td></td>\n",
              "      <td>init</td>\n",
              "    </tr>\n",
              "    <tr>\n",
              "      <th>2019-12-03</th>\n",
              "      <td>Piper Jaffray</td>\n",
              "      <td>Overweight</td>\n",
              "      <td></td>\n",
              "      <td>init</td>\n",
              "    </tr>\n",
              "    <tr>\n",
              "      <th>2019-12-05</th>\n",
              "      <td>Stifel Nicolaus</td>\n",
              "      <td>Buy</td>\n",
              "      <td>Hold</td>\n",
              "      <td>up</td>\n",
              "    </tr>\n",
              "    <tr>\n",
              "      <th>2020-01-06</th>\n",
              "      <td>Pivotal Research</td>\n",
              "      <td>Buy</td>\n",
              "      <td>Hold</td>\n",
              "      <td>up</td>\n",
              "    </tr>\n",
              "    <tr>\n",
              "      <th>2020-01-10</th>\n",
              "      <td>Bernstein</td>\n",
              "      <td>Outperform</td>\n",
              "      <td></td>\n",
              "      <td>init</td>\n",
              "    </tr>\n",
              "  </tbody>\n",
              "</table>\n",
              "<p>151 rows × 4 columns</p>\n",
              "</div>"
            ],
            "text/plain": [
              "                        Firm    To Grade From Grade Action\n",
              "Date                                                      \n",
              "2014-12-17  Pivotal Research         Buy                up\n",
              "2015-01-08            Stifel        Hold              down\n",
              "2015-01-14     Credit Suisse  Outperform              main\n",
              "2015-01-30         Citigroup         Buy              main\n",
              "2015-01-30          Barclays  Overweight              main\n",
              "...                      ...         ...        ...    ...\n",
              "2019-12-03      PiperJaffray  Overweight              init\n",
              "2019-12-03     Piper Jaffray  Overweight              init\n",
              "2019-12-05   Stifel Nicolaus         Buy       Hold     up\n",
              "2020-01-06  Pivotal Research         Buy       Hold     up\n",
              "2020-01-10         Bernstein  Outperform              init\n",
              "\n",
              "[151 rows x 4 columns]"
            ]
          },
          "metadata": {
            "tags": []
          },
          "execution_count": 101
        }
      ]
    },
    {
      "cell_type": "code",
      "metadata": {
        "id": "0MPRWGhINTi9",
        "colab_type": "code",
        "outputId": "425e7c31-585b-4c51-bb92-033c63e7473b",
        "colab": {
          "base_uri": "https://localhost:8080/",
          "height": 249
        }
      },
      "source": [
        "tickerData.calendar"
      ],
      "execution_count": 0,
      "outputs": [
        {
          "output_type": "execute_result",
          "data": {
            "text/html": [
              "<div>\n",
              "<style scoped>\n",
              "    .dataframe tbody tr th:only-of-type {\n",
              "        vertical-align: middle;\n",
              "    }\n",
              "\n",
              "    .dataframe tbody tr th {\n",
              "        vertical-align: top;\n",
              "    }\n",
              "\n",
              "    .dataframe thead th {\n",
              "        text-align: right;\n",
              "    }\n",
              "</style>\n",
              "<table border=\"1\" class=\"dataframe\">\n",
              "  <thead>\n",
              "    <tr style=\"text-align: right;\">\n",
              "      <th></th>\n",
              "    </tr>\n",
              "  </thead>\n",
              "  <tbody>\n",
              "    <tr>\n",
              "      <th>Earnings Date</th>\n",
              "    </tr>\n",
              "    <tr>\n",
              "      <th>Earnings Average</th>\n",
              "    </tr>\n",
              "    <tr>\n",
              "      <th>Earnings Low</th>\n",
              "    </tr>\n",
              "    <tr>\n",
              "      <th>Earnings High</th>\n",
              "    </tr>\n",
              "    <tr>\n",
              "      <th>Revenue Average</th>\n",
              "    </tr>\n",
              "    <tr>\n",
              "      <th>Revenue Low</th>\n",
              "    </tr>\n",
              "    <tr>\n",
              "      <th>Revenue High</th>\n",
              "    </tr>\n",
              "  </tbody>\n",
              "</table>\n",
              "</div>"
            ],
            "text/plain": [
              "Empty DataFrame\n",
              "Columns: []\n",
              "Index: [Earnings Date, Earnings Average, Earnings Low, Earnings High, Revenue Average, Revenue Low, Revenue High]"
            ]
          },
          "metadata": {
            "tags": []
          },
          "execution_count": 103
        }
      ]
    },
    {
      "cell_type": "code",
      "metadata": {
        "id": "i-nI6x9JOd5v",
        "colab_type": "code",
        "outputId": "e0b17c74-e914-4b86-f68c-1feea3b34769",
        "colab": {
          "base_uri": "https://localhost:8080/",
          "height": 235
        }
      },
      "source": [
        "import numpy as np\n",
        "import pandas as pd\n",
        "\n",
        "tickerDf.tail ()\n",
        "\n"
      ],
      "execution_count": 0,
      "outputs": [
        {
          "output_type": "execute_result",
          "data": {
            "text/html": [
              "<div>\n",
              "<style scoped>\n",
              "    .dataframe tbody tr th:only-of-type {\n",
              "        vertical-align: middle;\n",
              "    }\n",
              "\n",
              "    .dataframe tbody tr th {\n",
              "        vertical-align: top;\n",
              "    }\n",
              "\n",
              "    .dataframe thead th {\n",
              "        text-align: right;\n",
              "    }\n",
              "</style>\n",
              "<table border=\"1\" class=\"dataframe\">\n",
              "  <thead>\n",
              "    <tr style=\"text-align: right;\">\n",
              "      <th></th>\n",
              "      <th>Open</th>\n",
              "      <th>High</th>\n",
              "      <th>Low</th>\n",
              "      <th>Close</th>\n",
              "      <th>Adj Close</th>\n",
              "      <th>Volume</th>\n",
              "    </tr>\n",
              "    <tr>\n",
              "      <th>Date</th>\n",
              "      <th></th>\n",
              "      <th></th>\n",
              "      <th></th>\n",
              "      <th></th>\n",
              "      <th></th>\n",
              "      <th></th>\n",
              "    </tr>\n",
              "  </thead>\n",
              "  <tbody>\n",
              "    <tr>\n",
              "      <th>2020-01-27</th>\n",
              "      <td>1431.000000</td>\n",
              "      <td>1438.069946</td>\n",
              "      <td>1421.199951</td>\n",
              "      <td>1433.900024</td>\n",
              "      <td>1433.900024</td>\n",
              "      <td>1755200</td>\n",
              "    </tr>\n",
              "    <tr>\n",
              "      <th>2020-01-28</th>\n",
              "      <td>1443.000000</td>\n",
              "      <td>1456.000000</td>\n",
              "      <td>1432.469971</td>\n",
              "      <td>1452.560059</td>\n",
              "      <td>1452.560059</td>\n",
              "      <td>1577400</td>\n",
              "    </tr>\n",
              "    <tr>\n",
              "      <th>2020-01-29</th>\n",
              "      <td>1458.800049</td>\n",
              "      <td>1465.430054</td>\n",
              "      <td>1446.739990</td>\n",
              "      <td>1458.630005</td>\n",
              "      <td>1458.630005</td>\n",
              "      <td>1077700</td>\n",
              "    </tr>\n",
              "    <tr>\n",
              "      <th>2020-01-30</th>\n",
              "      <td>1439.959961</td>\n",
              "      <td>1457.280029</td>\n",
              "      <td>1436.400024</td>\n",
              "      <td>1455.839966</td>\n",
              "      <td>1455.839966</td>\n",
              "      <td>1339400</td>\n",
              "    </tr>\n",
              "    <tr>\n",
              "      <th>2020-01-31</th>\n",
              "      <td>1468.900024</td>\n",
              "      <td>1470.130005</td>\n",
              "      <td>1428.530029</td>\n",
              "      <td>1434.229980</td>\n",
              "      <td>1434.229980</td>\n",
              "      <td>2415600</td>\n",
              "    </tr>\n",
              "  </tbody>\n",
              "</table>\n",
              "</div>"
            ],
            "text/plain": [
              "                   Open         High  ...    Adj Close   Volume\n",
              "Date                                  ...                      \n",
              "2020-01-27  1431.000000  1438.069946  ...  1433.900024  1755200\n",
              "2020-01-28  1443.000000  1456.000000  ...  1452.560059  1577400\n",
              "2020-01-29  1458.800049  1465.430054  ...  1458.630005  1077700\n",
              "2020-01-30  1439.959961  1457.280029  ...  1455.839966  1339400\n",
              "2020-01-31  1468.900024  1470.130005  ...  1434.229980  2415600\n",
              "\n",
              "[5 rows x 6 columns]"
            ]
          },
          "metadata": {
            "tags": []
          },
          "execution_count": 8
        }
      ]
    },
    {
      "cell_type": "code",
      "metadata": {
        "id": "jv9IXvZQGD1D",
        "colab_type": "code",
        "colab": {}
      },
      "source": [
        "#bypass collumn date creating a new collumn \n",
        "tickerDf['Date'] = tickerDf.index"
      ],
      "execution_count": 0,
      "outputs": []
    },
    {
      "cell_type": "code",
      "metadata": {
        "id": "DbignO_VGfGW",
        "colab_type": "code",
        "outputId": "e0ebe1e0-2f55-4e39-849a-0478e8b103a9",
        "colab": {
          "base_uri": "https://localhost:8080/",
          "height": 272
        }
      },
      "source": [
        "tickerDf.info"
      ],
      "execution_count": 0,
      "outputs": [
        {
          "output_type": "execute_result",
          "data": {
            "text/plain": [
              "<bound method DataFrame.info of                    Open         High  ...   Volume       Date\n",
              "Date                                  ...                    \n",
              "2019-07-01  1098.000000  1107.579956  ...  1436300 2019-07-01\n",
              "2019-07-02  1102.239990  1111.770020  ...   991600 2019-07-02\n",
              "2019-07-03  1117.410034  1126.760010  ...   767000 2019-07-03\n",
              "2019-07-05  1117.800049  1132.880005  ...  1264300 2019-07-05\n",
              "2019-07-08  1125.170044  1125.979980  ...  1236400 2019-07-08\n",
              "...                 ...          ...  ...      ...        ...\n",
              "2020-01-27  1431.000000  1438.069946  ...  1755200 2020-01-27\n",
              "2020-01-28  1443.000000  1456.000000  ...  1577400 2020-01-28\n",
              "2020-01-29  1458.800049  1465.430054  ...  1077700 2020-01-29\n",
              "2020-01-30  1439.959961  1457.280029  ...  1339400 2020-01-30\n",
              "2020-01-31  1468.900024  1470.130005  ...  2415600 2020-01-31\n",
              "\n",
              "[149 rows x 7 columns]>"
            ]
          },
          "metadata": {
            "tags": []
          },
          "execution_count": 12
        }
      ]
    },
    {
      "cell_type": "code",
      "metadata": {
        "id": "yT3KV-MjGuTI",
        "colab_type": "code",
        "colab": {}
      },
      "source": [
        "#defening new collumn date to datetime\n",
        "from datetime import datetime\n",
        "tickerDf['Date']= pd.to_datetime(tickerDf['Date']) "
      ],
      "execution_count": 0,
      "outputs": []
    },
    {
      "cell_type": "code",
      "metadata": {
        "id": "_Kmr-mj1LKte",
        "colab_type": "code",
        "outputId": "24618c53-ce2f-4f1a-ff47-deb628fc1d03",
        "colab": {
          "base_uri": "https://localhost:8080/",
          "height": 34
        }
      },
      "source": [
        "list(tickerDf.columns) "
      ],
      "execution_count": 0,
      "outputs": [
        {
          "output_type": "execute_result",
          "data": {
            "text/plain": [
              "['Open', 'High', 'Low', 'Close', 'Adj Close', 'Volume', 'Date']"
            ]
          },
          "metadata": {
            "tags": []
          },
          "execution_count": 16
        }
      ]
    },
    {
      "cell_type": "code",
      "metadata": {
        "id": "gf3wg6hQAqtT",
        "colab_type": "code",
        "outputId": "a2c72baf-06cf-487a-ad21-18a8021b5c49",
        "colab": {
          "base_uri": "https://localhost:8080/",
          "height": 34
        }
      },
      "source": [
        "tickerDf.columns"
      ],
      "execution_count": 0,
      "outputs": [
        {
          "output_type": "execute_result",
          "data": {
            "text/plain": [
              "Index(['Open', 'High', 'Low', 'Close', 'Adj Close', 'Volume', 'Date'], dtype='object')"
            ]
          },
          "metadata": {
            "tags": []
          },
          "execution_count": 17
        }
      ]
    },
    {
      "cell_type": "code",
      "metadata": {
        "id": "Rh_j8fdBLkU4",
        "colab_type": "code",
        "outputId": "a52eed37-8cb7-47b4-f257-f7919b7fd328",
        "colab": {
          "base_uri": "https://localhost:8080/",
          "height": 136
        }
      },
      "source": [
        "# iterating the columns \n",
        "for col in tickerDf.columns: \n",
        "    print(col) "
      ],
      "execution_count": 0,
      "outputs": [
        {
          "output_type": "stream",
          "text": [
            "Open\n",
            "High\n",
            "Low\n",
            "Close\n",
            "Adj Close\n",
            "Volume\n",
            "Date\n"
          ],
          "name": "stdout"
        }
      ]
    },
    {
      "cell_type": "code",
      "metadata": {
        "id": "SVObK9ONLVhz",
        "colab_type": "code",
        "outputId": "3c430d25-df96-428b-a481-780c45acaa5e",
        "colab": {
          "base_uri": "https://localhost:8080/",
          "height": 450
        }
      },
      "source": [
        "# Preparing Data to visualise\n",
        "\n",
        "ticker_close = tickerDf [['Close', 'Open']] # The columns which we require \n",
        "\n",
        "\n",
        "\n",
        "# More on this in the upcoming section on 'Pandas'\n",
        "\n",
        "ticker_close"
      ],
      "execution_count": 0,
      "outputs": [
        {
          "output_type": "execute_result",
          "data": {
            "text/html": [
              "<div>\n",
              "<style scoped>\n",
              "    .dataframe tbody tr th:only-of-type {\n",
              "        vertical-align: middle;\n",
              "    }\n",
              "\n",
              "    .dataframe tbody tr th {\n",
              "        vertical-align: top;\n",
              "    }\n",
              "\n",
              "    .dataframe thead th {\n",
              "        text-align: right;\n",
              "    }\n",
              "</style>\n",
              "<table border=\"1\" class=\"dataframe\">\n",
              "  <thead>\n",
              "    <tr style=\"text-align: right;\">\n",
              "      <th></th>\n",
              "      <th>Close</th>\n",
              "      <th>Open</th>\n",
              "    </tr>\n",
              "    <tr>\n",
              "      <th>Date</th>\n",
              "      <th></th>\n",
              "      <th></th>\n",
              "    </tr>\n",
              "  </thead>\n",
              "  <tbody>\n",
              "    <tr>\n",
              "      <th>2019-07-01</th>\n",
              "      <td>1097.949951</td>\n",
              "      <td>1098.000000</td>\n",
              "    </tr>\n",
              "    <tr>\n",
              "      <th>2019-07-02</th>\n",
              "      <td>1111.250000</td>\n",
              "      <td>1102.239990</td>\n",
              "    </tr>\n",
              "    <tr>\n",
              "      <th>2019-07-03</th>\n",
              "      <td>1121.579956</td>\n",
              "      <td>1117.410034</td>\n",
              "    </tr>\n",
              "    <tr>\n",
              "      <th>2019-07-05</th>\n",
              "      <td>1131.589966</td>\n",
              "      <td>1117.800049</td>\n",
              "    </tr>\n",
              "    <tr>\n",
              "      <th>2019-07-08</th>\n",
              "      <td>1116.349976</td>\n",
              "      <td>1125.170044</td>\n",
              "    </tr>\n",
              "    <tr>\n",
              "      <th>...</th>\n",
              "      <td>...</td>\n",
              "      <td>...</td>\n",
              "    </tr>\n",
              "    <tr>\n",
              "      <th>2020-01-27</th>\n",
              "      <td>1433.900024</td>\n",
              "      <td>1431.000000</td>\n",
              "    </tr>\n",
              "    <tr>\n",
              "      <th>2020-01-28</th>\n",
              "      <td>1452.560059</td>\n",
              "      <td>1443.000000</td>\n",
              "    </tr>\n",
              "    <tr>\n",
              "      <th>2020-01-29</th>\n",
              "      <td>1458.630005</td>\n",
              "      <td>1458.800049</td>\n",
              "    </tr>\n",
              "    <tr>\n",
              "      <th>2020-01-30</th>\n",
              "      <td>1455.839966</td>\n",
              "      <td>1439.959961</td>\n",
              "    </tr>\n",
              "    <tr>\n",
              "      <th>2020-01-31</th>\n",
              "      <td>1434.229980</td>\n",
              "      <td>1468.900024</td>\n",
              "    </tr>\n",
              "  </tbody>\n",
              "</table>\n",
              "<p>149 rows × 2 columns</p>\n",
              "</div>"
            ],
            "text/plain": [
              "                  Close         Open\n",
              "Date                                \n",
              "2019-07-01  1097.949951  1098.000000\n",
              "2019-07-02  1111.250000  1102.239990\n",
              "2019-07-03  1121.579956  1117.410034\n",
              "2019-07-05  1131.589966  1117.800049\n",
              "2019-07-08  1116.349976  1125.170044\n",
              "...                 ...          ...\n",
              "2020-01-27  1433.900024  1431.000000\n",
              "2020-01-28  1452.560059  1443.000000\n",
              "2020-01-29  1458.630005  1458.800049\n",
              "2020-01-30  1455.839966  1439.959961\n",
              "2020-01-31  1434.229980  1468.900024\n",
              "\n",
              "[149 rows x 2 columns]"
            ]
          },
          "metadata": {
            "tags": []
          },
          "execution_count": 19
        }
      ]
    },
    {
      "cell_type": "code",
      "metadata": {
        "id": "rznvgaup87EI",
        "colab_type": "code",
        "outputId": "e27f4026-559b-4a25-ccff-11954ee98e26",
        "colab": {
          "base_uri": "https://localhost:8080/",
          "height": 370
        }
      },
      "source": [
        "import matplotlib.pyplot as plt\n",
        "%matplotlib inline\n",
        "pd.plotting.register_matplotlib_converters()\n",
        "# This customizes the size of the plot as per the inputs. Here 21,5 represents the breadth and length of the plot.\n",
        "plt.figure(figsize = (21,5))\n",
        "plt.grid(True)\n",
        "\n",
        "\n",
        "plt.plot(ticker_close[\"Close\"], lw=1.5, label = 'Preço Fechamento')\n",
        "plt.plot(ticker_close[\"Open\"], lw=1.5, label = 'Preço Abertura')\n",
        "\n",
        "plt.legend(loc=0)\n",
        "# This labels the axis \n",
        "plt.xlabel('Dia')\n",
        "plt.ylabel('Preco')\n",
        "plt.title ('Grafico ' +str(user_ticker))\n",
        "\n",
        "plt.show()\n"
      ],
      "execution_count": 0,
      "outputs": [
        {
          "output_type": "display_data",
          "data": {
            "image/png": "[encoded data removed]",
            "text/plain": [
              "<Figure size 1512x360 with 1 Axes>"
            ]
          },
          "metadata": {
            "tags": []
          }
        }
      ]
    },
    {
      "cell_type": "markdown",
      "metadata": {
        "id": "vrn6NG1U21Is",
        "colab_type": "text"
      },
      "source": [
        "#Candlestickies"
      ]
    },
    {
      "cell_type": "code",
      "metadata": {
        "id": "oHxrEYC_OGBt",
        "colab_type": "code",
        "outputId": "91def37d-e81e-49f2-af3b-eacd256e1f08",
        "colab": {
          "base_uri": "https://localhost:8080/",
          "height": 34
        }
      },
      "source": [
        "list(tickerDf.columns) "
      ],
      "execution_count": 0,
      "outputs": [
        {
          "output_type": "execute_result",
          "data": {
            "text/plain": [
              "['Open', 'High', 'Low', 'Close', 'Adj Close', 'Volume', 'Date']"
            ]
          },
          "metadata": {
            "tags": []
          },
          "execution_count": 21
        }
      ]
    },
    {
      "cell_type": "code",
      "metadata": {
        "id": "SIEXTw3R24Fo",
        "colab_type": "code",
        "outputId": "a385801b-8504-4c53-8e2c-9bdedc65d973",
        "colab": {
          "base_uri": "https://localhost:8080/",
          "height": 542
        }
      },
      "source": [
        "import plotly.graph_objects as go\n",
        "\n",
        "# importar os dados csv->dataframe\n",
        "df = tickerDf\n",
        "\n",
        "# criar um gráfico interativo com o Plotly\n",
        "\n",
        "# gráfico XP (candlestick)\n",
        "trace1 = {\n",
        "    'x' : df.Date,\n",
        "    'open': df.Open,\n",
        "    'close': df.Close,\n",
        "    'high': df.High,\n",
        "    'low': df.Low,\n",
        "    'type': 'candlestick',\n",
        "    'name': str(user_ticker),\n",
        "    'showlegend': False\n",
        "}\n",
        "\n",
        "# informar todos os dados e gráficos em uma lista\n",
        "data = [trace1]\n",
        "\n",
        "# configurar o layout do gráfico\n",
        "layout = go.Layout({\n",
        "    'title': {\n",
        "        'text': 'Gráfico de Candlestick - ' +str(user_ticker),\n",
        "        'font': {\n",
        "            'size': 20\n",
        "        }\n",
        "    }\n",
        "})\n",
        "\n",
        "# instanciar objeto Figure e plotar o gráfico\n",
        "fig = go.Figure(data=data, layout=layout)\n",
        "fig.show()\n"
      ],
      "execution_count": 0,
      "outputs": [
        {
          "output_type": "display_data",
          "data": {
            "text/html": [
              "<html>\n",
              "<head><meta charset=\"utf-8\" /></head>\n",
              "<body>\n",
              "    <div>\n",
              "            <script src=\"https://cdnjs.cloudflare.com/ajax/libs/mathjax/2.7.5/MathJax.js?config=TeX-AMS-MML_SVG\"></script><script type=\"text/javascript\">if (window.MathJax) {MathJax.Hub.Config({SVG: {font: \"STIX-Web\"}});}</script>\n",
              "                <script type=\"text/javascript\">window.PlotlyConfig = {MathJaxConfig: 'local'};</script>\n",
              "        <script src=\"https://cdn.plot.ly/plotly-latest.min.js\"></script>    \n",
              "            <div id=\"ad433823-c799-481e-a901-46c70b638887\" class=\"plotly-graph-div\" style=\"height:525px; width:100%;\"></div>\n",
              "            <script type=\"text/javascript\">\n",
              "                \n",
              "                    window.PLOTLYENV=window.PLOTLYENV || {};\n",
              "                    \n",
              "                if (document.getElementById(\"ad433823-c799-481e-a901-46c70b638887\")) {\n",
              "                    Plotly.newPlot(\n",
              "                        'ad433823-c799-481e-a901-46c70b638887',\n",
              "                        [{\"close\": [1097.949951171875, 1111.25, 1121.5799560546875, 1131.5899658203125, 1116.3499755859375, 1124.8299560546875, 1140.47998046875, 1144.2099609375, 1144.9000244140625, 1150.3399658203125, 1153.5799560546875, 1146.3499755859375, 1146.3299560546875, 1130.0999755859375, 1138.0699462890625, 1146.2099609375, 1137.81005859375, 1132.1199951171875, 1250.4100341796875, 1239.4100341796875, 1225.1400146484375, 1216.6800537109375, 1209.010009765625, 1193.989990234375, 1152.3199462890625, 1169.949951171875, 1173.989990234375, 1204.800048828125, 1188.010009765625, 1174.7099609375, 1197.27001953125, 1164.2900390625, 1167.260009765625, 1177.5999755859375, 1198.449951171875, 1182.68994140625, 1191.25, 1189.530029296875, 1151.2900390625, 1168.8900146484375, 1167.8399658203125, 1171.02001953125, 1192.8499755859375, 1188.0999755859375, 1168.3900146484375, 1181.4100341796875, 1211.3800048828125, 1204.9300537109375, 1204.4100341796875, 1206.0, 1220.1700439453125, 1234.25, 1239.56005859375, 1231.300048828125, 1229.1500244140625, 1232.4100341796875, 1238.7099609375, 1229.9300537109375, 1234.030029296875, 1218.760009765625, 1246.52001953125, 1241.3900146484375, 1225.0899658203125, 1219.0, 1205.0999755859375, 1176.6300048828125, 1187.8299560546875, 1209.0, 1207.6800537109375, 1189.1300048828125, 1202.31005859375, 1208.6700439453125, 1215.449951171875, 1217.1400146484375, 1243.010009765625, 1243.6400146484375, 1253.0699462890625, 1245.489990234375, 1246.1500244140625, 1242.800048828125, 1259.1300048828125, 1260.989990234375, 1265.1300048828125, 1290.0, 1262.6199951171875, 1261.2900390625, 1260.1099853515625, 1273.739990234375, 1291.3699951171875, 1292.030029296875, 1291.800048828125, 1308.8599853515625, 1311.3699951171875, 1299.18994140625, 1298.800048828125, 1298.0, 1311.4599609375, 1334.8699951171875, 1320.699951171875, 1315.4599609375, 1303.050048828125, 1301.3499755859375, 1295.3399658203125, 1306.68994140625, 1313.550048828125, 1312.989990234375, 1304.9599609375, 1289.9200439453125, 1295.280029296875, 1320.5400390625, 1328.1300048828125, 1340.6199951171875, 1343.56005859375, 1344.6600341796875, 1345.02001953125, 1350.27001953125, 1347.8299560546875, 1361.1700439453125, 1355.1199951171875, 1352.6199951171875, 1356.0400390625, 1349.5899658203125, 1348.8399658203125, 1343.56005859375, 1360.4000244140625, 1351.8900146484375, 1336.1400146484375, 1337.02001953125, 1367.3699951171875, 1360.6600341796875, 1394.2099609375, 1393.3399658203125, 1404.3199462890625, 1419.8299560546875, 1429.72998046875, 1439.22998046875, 1430.8800048828125, 1439.199951171875, 1451.699951171875, 1480.3900146484375, 1484.4000244140625, 1485.949951171875, 1486.6500244140625, 1466.7099609375, 1433.9000244140625, 1452.56005859375, 1458.6300048828125, 1455.8399658203125, 1434.22998046875], \"high\": [1107.5799560546875, 1111.77001953125, 1126.760009765625, 1132.8800048828125, 1125.97998046875, 1128.0250244140625, 1142.050048828125, 1153.0699462890625, 1147.3399658203125, 1150.8199462890625, 1158.5799560546875, 1158.3599853515625, 1147.60498046875, 1151.1400146484375, 1139.25, 1146.9000244140625, 1144.0, 1141.699951171875, 1265.550048828125, 1247.3699951171875, 1234.8699951171875, 1234.0, 1234.1099853515625, 1206.9000244140625, 1175.239990234375, 1179.9599609375, 1178.4449462890625, 1205.010009765625, 1203.8800048828125, 1184.9599609375, 1204.780029296875, 1182.300048828125, 1175.8399658203125, 1182.719970703125, 1206.989990234375, 1196.06005859375, 1199.0, 1198.011962890625, 1194.0799560546875, 1169.469970703125, 1182.4000244140625, 1176.4200439453125, 1196.06005859375, 1198.5, 1186.8900146484375, 1183.47998046875, 1213.0400390625, 1212.0150146484375, 1220.0, 1210.0, 1222.5999755859375, 1241.8599853515625, 1240.8800048828125, 1239.56005859375, 1235.0, 1235.6099853515625, 1244.43994140625, 1243.3199462890625, 1239.0899658203125, 1246.739990234375, 1248.300048828125, 1245.0, 1244.02001953125, 1226.0, 1231.22998046875, 1196.97998046875, 1189.06005859375, 1211.43994140625, 1218.2039794921875, 1206.0799560546875, 1208.3499755859375, 1215.0, 1228.3900146484375, 1226.3299560546875, 1247.3299560546875, 1254.739990234375, 1263.324951171875, 1258.8900146484375, 1254.6290283203125, 1250.5999755859375, 1259.8900146484375, 1264.0, 1269.5999755859375, 1299.31005859375, 1281.5899658203125, 1269.3599853515625, 1267.6700439453125, 1274.6199951171875, 1294.1300048828125, 1298.9300537109375, 1293.72998046875, 1323.739990234375, 1318.0, 1306.425048828125, 1310.0, 1304.300048828125, 1317.0, 1334.8800048828125, 1335.529052734375, 1327.699951171875, 1315.0, 1312.5899658203125, 1308.72998046875, 1311.31005859375, 1314.800048828125, 1318.3599853515625, 1310.2049560546875, 1305.8299560546875, 1298.4610595703125, 1325.800048828125, 1329.3580322265625, 1344.0, 1359.449951171875, 1349.9749755859375, 1351.199951171875, 1355.7750244140625, 1353.093017578125, 1364.6800537109375, 1365.0, 1360.469970703125, 1358.0999755859375, 1363.6400146484375, 1359.800048828125, 1350.260009765625, 1361.3270263671875, 1364.530029296875, 1353.0, 1338.0, 1368.1400146484375, 1372.5, 1396.5, 1402.989990234375, 1411.5799560546875, 1427.3299560546875, 1434.928955078125, 1440.52001953125, 1441.800048828125, 1441.39501953125, 1451.989990234375, 1481.2950439453125, 1491.8499755859375, 1503.2139892578125, 1495.52001953125, 1495.4949951171875, 1438.0699462890625, 1456.0, 1465.4300537109375, 1457.280029296875, 1470.1300048828125], \"low\": [1093.7030029296875, 1098.1700439453125, 1113.8599853515625, 1116.1400146484375, 1111.2099609375, 1107.1700439453125, 1130.969970703125, 1139.5799560546875, 1138.780029296875, 1139.4000244140625, 1145.0, 1145.77001953125, 1132.72998046875, 1129.6199951171875, 1124.239990234375, 1131.800048828125, 1126.989990234375, 1120.9200439453125, 1224.0, 1228.22998046875, 1223.300048828125, 1207.7640380859375, 1205.719970703125, 1188.93994140625, 1140.1400146484375, 1160.0, 1149.6240234375, 1173.02001953125, 1183.60302734375, 1167.6719970703125, 1171.4599609375, 1160.5400390625, 1162.1099853515625, 1171.81005859375, 1190.0899658203125, 1182.1099853515625, 1187.4300537109375, 1178.5799560546875, 1147.75, 1152.9599609375, 1161.449951171875, 1157.300048828125, 1181.1199951171875, 1183.802978515625, 1163.199951171875, 1171.0, 1191.530029296875, 1202.52197265625, 1192.6199951171875, 1194.5799560546875, 1202.199951171875, 1223.02001953125, 1227.010009765625, 1225.6099853515625, 1223.68994140625, 1216.530029296875, 1232.02001953125, 1223.0799560546875, 1224.1700439453125, 1210.6800537109375, 1210.0899658203125, 1232.2679443359375, 1214.449951171875, 1212.300048828125, 1203.5799560546875, 1171.2900390625, 1162.4300537109375, 1189.1700439453125, 1203.75, 1189.010009765625, 1197.6300048828125, 1197.3399658203125, 1213.739990234375, 1211.760009765625, 1220.4000244140625, 1238.449951171875, 1249.93994140625, 1241.0799560546875, 1240.5999755859375, 1241.3800048828125, 1242.3599853515625, 1253.7149658203125, 1250.010009765625, 1272.5400390625, 1257.2120361328125, 1252.0, 1250.843017578125, 1260.5, 1276.35498046875, 1291.22900390625, 1282.5, 1294.2449951171875, 1304.364990234375, 1297.4100341796875, 1295.77001953125, 1293.510009765625, 1295.6500244140625, 1314.280029296875, 1317.5, 1312.800048828125, 1291.1500244140625, 1293.0, 1291.4100341796875, 1298.1300048828125, 1305.0899658203125, 1309.6300048828125, 1303.969970703125, 1281.0, 1279.0, 1304.8699951171875, 1316.43994140625, 1333.43994140625, 1337.8399658203125, 1336.0400390625, 1342.6700439453125, 1340.5, 1343.8699951171875, 1352.6700439453125, 1351.322998046875, 1351.0, 1348.9849853515625, 1349.0, 1346.510009765625, 1342.780029296875, 1344.469970703125, 1349.31005859375, 1334.02001953125, 1329.0849609375, 1341.550048828125, 1345.5439453125, 1350.0, 1390.3800048828125, 1390.8399658203125, 1410.27001953125, 1418.3499755859375, 1426.02001953125, 1428.3699951171875, 1430.2099609375, 1440.9200439453125, 1458.219970703125, 1471.199951171875, 1484.9300537109375, 1482.0999755859375, 1465.25, 1421.199951171875, 1432.469970703125, 1446.739990234375, 1436.4000244140625, 1428.530029296875], \"name\": \"GOOG\", \"open\": [1098.0, 1102.239990234375, 1117.4100341796875, 1117.800048828125, 1125.1700439453125, 1111.800048828125, 1131.219970703125, 1143.25, 1143.989990234375, 1146.8599853515625, 1146.0, 1150.969970703125, 1141.739990234375, 1148.18994140625, 1133.449951171875, 1144.0, 1131.9000244140625, 1137.8199462890625, 1224.0400390625, 1241.050048828125, 1225.4100341796875, 1223.0, 1214.030029296875, 1200.739990234375, 1170.0400390625, 1163.31005859375, 1156.0, 1182.8299560546875, 1197.989990234375, 1179.2099609375, 1171.4599609375, 1176.31005859375, 1163.5, 1179.550048828125, 1190.0899658203125, 1195.25, 1193.1500244140625, 1194.0699462890625, 1181.989990234375, 1157.260009765625, 1180.530029296875, 1161.7099609375, 1181.1199951171875, 1198.5, 1177.030029296875, 1176.7099609375, 1191.530029296875, 1208.1300048828125, 1204.0, 1195.1500244140625, 1203.4100341796875, 1224.300048828125, 1231.3499755859375, 1229.52001953125, 1230.4000244140625, 1227.510009765625, 1232.06005859375, 1233.1199951171875, 1226.0, 1240.0, 1215.8199462890625, 1241.9599609375, 1243.010009765625, 1220.969970703125, 1219.0, 1196.97998046875, 1180.0, 1191.8900146484375, 1204.4000244140625, 1197.5899658203125, 1199.3499755859375, 1198.5799560546875, 1222.2099609375, 1212.3399658203125, 1220.4000244140625, 1241.1700439453125, 1250.9300537109375, 1253.4599609375, 1252.260009765625, 1247.8499755859375, 1242.3599853515625, 1260.9000244140625, 1251.030029296875, 1275.449951171875, 1276.22998046875, 1252.969970703125, 1261.280029296875, 1265.0, 1276.449951171875, 1292.8900146484375, 1289.4599609375, 1294.280029296875, 1305.280029296875, 1303.1800537109375, 1300.0, 1294.0699462890625, 1297.5, 1318.93994140625, 1332.219970703125, 1327.699951171875, 1311.739990234375, 1301.47998046875, 1305.6199951171875, 1299.1800537109375, 1309.8599853515625, 1315.0, 1307.1199951171875, 1301.0, 1279.5699462890625, 1307.010009765625, 1328.0, 1333.43994140625, 1338.0400390625, 1341.5, 1350.8399658203125, 1345.93994140625, 1347.949951171875, 1356.5, 1362.8900146484375, 1356.5999755859375, 1351.8199462890625, 1363.3499755859375, 1355.8699951171875, 1348.5, 1346.1700439453125, 1362.989990234375, 1350.0, 1330.1099853515625, 1341.550048828125, 1347.8599853515625, 1350.0, 1397.93994140625, 1392.0799560546875, 1420.5699462890625, 1427.56005859375, 1436.1300048828125, 1439.010009765625, 1430.2099609375, 1447.43994140625, 1462.9100341796875, 1479.1199951171875, 1491.0, 1487.6400146484375, 1493.5899658203125, 1431.0, 1443.0, 1458.800048828125, 1439.9599609375, 1468.9000244140625], \"showlegend\": false, \"type\": \"candlestick\", \"x\": [\"2019-07-01T00:00:00\", \"2019-07-02T00:00:00\", \"2019-07-03T00:00:00\", \"2019-07-05T00:00:00\", \"2019-07-08T00:00:00\", \"2019-07-09T00:00:00\", \"2019-07-10T00:00:00\", \"2019-07-11T00:00:00\", \"2019-07-12T00:00:00\", \"2019-07-15T00:00:00\", \"2019-07-16T00:00:00\", \"2019-07-17T00:00:00\", \"2019-07-18T00:00:00\", \"2019-07-19T00:00:00\", \"2019-07-22T00:00:00\", \"2019-07-23T00:00:00\", \"2019-07-24T00:00:00\", \"2019-07-25T00:00:00\", \"2019-07-26T00:00:00\", \"2019-07-29T00:00:00\", \"2019-07-30T00:00:00\", \"2019-07-31T00:00:00\", \"2019-08-01T00:00:00\", \"2019-08-02T00:00:00\", \"2019-08-05T00:00:00\", \"2019-08-06T00:00:00\", \"2019-08-07T00:00:00\", \"2019-08-08T00:00:00\", \"2019-08-09T00:00:00\", \"2019-08-12T00:00:00\", \"2019-08-13T00:00:00\", \"2019-08-14T00:00:00\", \"2019-08-15T00:00:00\", \"2019-08-16T00:00:00\", \"2019-08-19T00:00:00\", \"2019-08-20T00:00:00\", \"2019-08-21T00:00:00\", \"2019-08-22T00:00:00\", \"2019-08-23T00:00:00\", \"2019-08-26T00:00:00\", \"2019-08-27T00:00:00\", \"2019-08-28T00:00:00\", \"2019-08-29T00:00:00\", \"2019-08-30T00:00:00\", \"2019-09-03T00:00:00\", \"2019-09-04T00:00:00\", \"2019-09-05T00:00:00\", \"2019-09-06T00:00:00\", \"2019-09-09T00:00:00\", \"2019-09-10T00:00:00\", \"2019-09-11T00:00:00\", \"2019-09-12T00:00:00\", \"2019-09-13T00:00:00\", \"2019-09-16T00:00:00\", \"2019-09-17T00:00:00\", \"2019-09-18T00:00:00\", \"2019-09-19T00:00:00\", \"2019-09-20T00:00:00\", \"2019-09-23T00:00:00\", \"2019-09-24T00:00:00\", \"2019-09-25T00:00:00\", \"2019-09-26T00:00:00\", \"2019-09-27T00:00:00\", \"2019-09-30T00:00:00\", \"2019-10-01T00:00:00\", \"2019-10-02T00:00:00\", \"2019-10-03T00:00:00\", \"2019-10-04T00:00:00\", \"2019-10-07T00:00:00\", \"2019-10-08T00:00:00\", \"2019-10-09T00:00:00\", \"2019-10-10T00:00:00\", \"2019-10-11T00:00:00\", \"2019-10-14T00:00:00\", \"2019-10-15T00:00:00\", \"2019-10-16T00:00:00\", \"2019-10-17T00:00:00\", \"2019-10-18T00:00:00\", \"2019-10-21T00:00:00\", \"2019-10-22T00:00:00\", \"2019-10-23T00:00:00\", \"2019-10-24T00:00:00\", \"2019-10-25T00:00:00\", \"2019-10-28T00:00:00\", \"2019-10-29T00:00:00\", \"2019-10-30T00:00:00\", \"2019-10-31T00:00:00\", \"2019-11-01T00:00:00\", \"2019-11-04T00:00:00\", \"2019-11-05T00:00:00\", \"2019-11-06T00:00:00\", \"2019-11-07T00:00:00\", \"2019-11-08T00:00:00\", \"2019-11-11T00:00:00\", \"2019-11-12T00:00:00\", \"2019-11-13T00:00:00\", \"2019-11-14T00:00:00\", \"2019-11-15T00:00:00\", \"2019-11-18T00:00:00\", \"2019-11-19T00:00:00\", \"2019-11-20T00:00:00\", \"2019-11-21T00:00:00\", \"2019-11-22T00:00:00\", \"2019-11-25T00:00:00\", \"2019-11-26T00:00:00\", \"2019-11-27T00:00:00\", \"2019-11-29T00:00:00\", \"2019-12-02T00:00:00\", \"2019-12-03T00:00:00\", \"2019-12-04T00:00:00\", \"2019-12-05T00:00:00\", \"2019-12-06T00:00:00\", \"2019-12-09T00:00:00\", \"2019-12-10T00:00:00\", \"2019-12-11T00:00:00\", \"2019-12-12T00:00:00\", \"2019-12-13T00:00:00\", \"2019-12-16T00:00:00\", \"2019-12-17T00:00:00\", \"2019-12-18T00:00:00\", \"2019-12-19T00:00:00\", \"2019-12-20T00:00:00\", \"2019-12-23T00:00:00\", \"2019-12-24T00:00:00\", \"2019-12-26T00:00:00\", \"2019-12-27T00:00:00\", \"2019-12-30T00:00:00\", \"2019-12-31T00:00:00\", \"2020-01-02T00:00:00\", \"2020-01-03T00:00:00\", \"2020-01-06T00:00:00\", \"2020-01-07T00:00:00\", \"2020-01-08T00:00:00\", \"2020-01-09T00:00:00\", \"2020-01-10T00:00:00\", \"2020-01-13T00:00:00\", \"2020-01-14T00:00:00\", \"2020-01-15T00:00:00\", \"2020-01-16T00:00:00\", \"2020-01-17T00:00:00\", \"2020-01-21T00:00:00\", \"2020-01-22T00:00:00\", \"2020-01-23T00:00:00\", \"2020-01-24T00:00:00\", \"2020-01-27T00:00:00\", \"2020-01-28T00:00:00\", \"2020-01-29T00:00:00\", \"2020-01-30T00:00:00\", \"2020-01-31T00:00:00\"]}],\n",
              "                        {\"template\": {\"data\": {\"bar\": [{\"error_x\": {\"color\": \"#2a3f5f\"}, \"error_y\": {\"color\": \"#2a3f5f\"}, \"marker\": {\"line\": {\"color\": \"#E5ECF6\", \"width\": 0.5}}, \"type\": \"bar\"}], \"barpolar\": [{\"marker\": {\"line\": {\"color\": \"#E5ECF6\", \"width\": 0.5}}, \"type\": \"barpolar\"}], \"carpet\": [{\"aaxis\": {\"endlinecolor\": \"#2a3f5f\", \"gridcolor\": \"white\", \"linecolor\": \"white\", \"minorgridcolor\": \"white\", \"startlinecolor\": \"#2a3f5f\"}, \"baxis\": {\"endlinecolor\": \"#2a3f5f\", \"gridcolor\": \"white\", \"linecolor\": \"white\", \"minorgridcolor\": \"white\", \"startlinecolor\": \"#2a3f5f\"}, \"type\": \"carpet\"}], \"choropleth\": [{\"colorbar\": {\"outlinewidth\": 0, \"ticks\": \"\"}, \"type\": \"choropleth\"}], \"contour\": [{\"colorbar\": {\"outlinewidth\": 0, \"ticks\": \"\"}, \"colorscale\": [[0.0, \"#0d0887\"], [0.1111111111111111, \"#46039f\"], [0.2222222222222222, \"#7201a8\"], [0.3333333333333333, \"#9c179e\"], [0.4444444444444444, \"#bd3786\"], [0.5555555555555556, \"#d8576b\"], [0.6666666666666666, \"#ed7953\"], [0.7777777777777778, \"#fb9f3a\"], [0.8888888888888888, \"#fdca26\"], [1.0, \"#f0f921\"]], \"type\": \"contour\"}], \"contourcarpet\": [{\"colorbar\": {\"outlinewidth\": 0, \"ticks\": \"\"}, \"type\": \"contourcarpet\"}], \"heatmap\": [{\"colorbar\": {\"outlinewidth\": 0, \"ticks\": \"\"}, \"colorscale\": [[0.0, \"#0d0887\"], [0.1111111111111111, \"#46039f\"], [0.2222222222222222, \"#7201a8\"], [0.3333333333333333, \"#9c179e\"], [0.4444444444444444, \"#bd3786\"], [0.5555555555555556, \"#d8576b\"], [0.6666666666666666, \"#ed7953\"], [0.7777777777777778, \"#fb9f3a\"], [0.8888888888888888, \"#fdca26\"], [1.0, \"#f0f921\"]], \"type\": \"heatmap\"}], \"heatmapgl\": [{\"colorbar\": {\"outlinewidth\": 0, \"ticks\": \"\"}, \"colorscale\": [[0.0, \"#0d0887\"], [0.1111111111111111, \"#46039f\"], [0.2222222222222222, \"#7201a8\"], [0.3333333333333333, \"#9c179e\"], [0.4444444444444444, \"#bd3786\"], [0.5555555555555556, \"#d8576b\"], [0.6666666666666666, \"#ed7953\"], [0.7777777777777778, \"#fb9f3a\"], [0.8888888888888888, \"#fdca26\"], [1.0, \"#f0f921\"]], \"type\": \"heatmapgl\"}], \"histogram\": [{\"marker\": {\"colorbar\": {\"outlinewidth\": 0, \"ticks\": \"\"}}, \"type\": \"histogram\"}], \"histogram2d\": [{\"colorbar\": {\"outlinewidth\": 0, \"ticks\": \"\"}, \"colorscale\": [[0.0, \"#0d0887\"], [0.1111111111111111, \"#46039f\"], [0.2222222222222222, \"#7201a8\"], [0.3333333333333333, \"#9c179e\"], [0.4444444444444444, \"#bd3786\"], [0.5555555555555556, \"#d8576b\"], [0.6666666666666666, \"#ed7953\"], [0.7777777777777778, \"#fb9f3a\"], [0.8888888888888888, \"#fdca26\"], [1.0, \"#f0f921\"]], \"type\": \"histogram2d\"}], \"histogram2dcontour\": [{\"colorbar\": {\"outlinewidth\": 0, \"ticks\": \"\"}, \"colorscale\": [[0.0, \"#0d0887\"], [0.1111111111111111, \"#46039f\"], [0.2222222222222222, \"#7201a8\"], [0.3333333333333333, \"#9c179e\"], [0.4444444444444444, \"#bd3786\"], [0.5555555555555556, \"#d8576b\"], [0.6666666666666666, \"#ed7953\"], [0.7777777777777778, \"#fb9f3a\"], [0.8888888888888888, \"#fdca26\"], [1.0, \"#f0f921\"]], \"type\": \"histogram2dcontour\"}], \"mesh3d\": [{\"colorbar\": {\"outlinewidth\": 0, \"ticks\": \"\"}, \"type\": \"mesh3d\"}], \"parcoords\": [{\"line\": {\"colorbar\": {\"outlinewidth\": 0, \"ticks\": \"\"}}, \"type\": \"parcoords\"}], \"pie\": [{\"automargin\": true, \"type\": \"pie\"}], \"scatter\": [{\"marker\": {\"colorbar\": {\"outlinewidth\": 0, \"ticks\": \"\"}}, \"type\": \"scatter\"}], \"scatter3d\": [{\"line\": {\"colorbar\": {\"outlinewidth\": 0, \"ticks\": \"\"}}, \"marker\": {\"colorbar\": {\"outlinewidth\": 0, \"ticks\": \"\"}}, \"type\": \"scatter3d\"}], \"scattercarpet\": [{\"marker\": {\"colorbar\": {\"outlinewidth\": 0, \"ticks\": \"\"}}, \"type\": \"scattercarpet\"}], \"scattergeo\": [{\"marker\": {\"colorbar\": {\"outlinewidth\": 0, \"ticks\": \"\"}}, \"type\": \"scattergeo\"}], \"scattergl\": [{\"marker\": {\"colorbar\": {\"outlinewidth\": 0, \"ticks\": \"\"}}, \"type\": \"scattergl\"}], \"scattermapbox\": [{\"marker\": {\"colorbar\": {\"outlinewidth\": 0, \"ticks\": \"\"}}, \"type\": \"scattermapbox\"}], \"scatterpolar\": [{\"marker\": {\"colorbar\": {\"outlinewidth\": 0, \"ticks\": \"\"}}, \"type\": \"scatterpolar\"}], \"scatterpolargl\": [{\"marker\": {\"colorbar\": {\"outlinewidth\": 0, \"ticks\": \"\"}}, \"type\": \"scatterpolargl\"}], \"scatterternary\": [{\"marker\": {\"colorbar\": {\"outlinewidth\": 0, \"ticks\": \"\"}}, \"type\": \"scatterternary\"}], \"surface\": [{\"colorbar\": {\"outlinewidth\": 0, \"ticks\": \"\"}, \"colorscale\": [[0.0, \"#0d0887\"], [0.1111111111111111, \"#46039f\"], [0.2222222222222222, \"#7201a8\"], [0.3333333333333333, \"#9c179e\"], [0.4444444444444444, \"#bd3786\"], [0.5555555555555556, \"#d8576b\"], [0.6666666666666666, \"#ed7953\"], [0.7777777777777778, \"#fb9f3a\"], [0.8888888888888888, \"#fdca26\"], [1.0, \"#f0f921\"]], \"type\": \"surface\"}], \"table\": [{\"cells\": {\"fill\": {\"color\": \"#EBF0F8\"}, \"line\": {\"color\": \"white\"}}, \"header\": {\"fill\": {\"color\": \"#C8D4E3\"}, \"line\": {\"color\": \"white\"}}, \"type\": \"table\"}]}, \"layout\": {\"annotationdefaults\": {\"arrowcolor\": \"#2a3f5f\", \"arrowhead\": 0, \"arrowwidth\": 1}, \"coloraxis\": {\"colorbar\": {\"outlinewidth\": 0, \"ticks\": \"\"}}, \"colorscale\": {\"diverging\": [[0, \"#8e0152\"], [0.1, \"#c51b7d\"], [0.2, \"#de77ae\"], [0.3, \"#f1b6da\"], [0.4, \"#fde0ef\"], [0.5, \"#f7f7f7\"], [0.6, \"#e6f5d0\"], [0.7, \"#b8e186\"], [0.8, \"#7fbc41\"], [0.9, \"#4d9221\"], [1, \"#276419\"]], \"sequential\": [[0.0, \"#0d0887\"], [0.1111111111111111, \"#46039f\"], [0.2222222222222222, \"#7201a8\"], [0.3333333333333333, \"#9c179e\"], [0.4444444444444444, \"#bd3786\"], [0.5555555555555556, \"#d8576b\"], [0.6666666666666666, \"#ed7953\"], [0.7777777777777778, \"#fb9f3a\"], [0.8888888888888888, \"#fdca26\"], [1.0, \"#f0f921\"]], \"sequentialminus\": [[0.0, \"#0d0887\"], [0.1111111111111111, \"#46039f\"], [0.2222222222222222, \"#7201a8\"], [0.3333333333333333, \"#9c179e\"], [0.4444444444444444, \"#bd3786\"], [0.5555555555555556, \"#d8576b\"], [0.6666666666666666, \"#ed7953\"], [0.7777777777777778, \"#fb9f3a\"], [0.8888888888888888, \"#fdca26\"], [1.0, \"#f0f921\"]]}, \"colorway\": [\"#636efa\", \"#EF553B\", \"#00cc96\", \"#ab63fa\", \"#FFA15A\", \"#19d3f3\", \"#FF6692\", \"#B6E880\", \"#FF97FF\", \"#FECB52\"], \"font\": {\"color\": \"#2a3f5f\"}, \"geo\": {\"bgcolor\": \"white\", \"lakecolor\": \"white\", \"landcolor\": \"#E5ECF6\", \"showlakes\": true, \"showland\": true, \"subunitcolor\": \"white\"}, \"hoverlabel\": {\"align\": \"left\"}, \"hovermode\": \"closest\", \"mapbox\": {\"style\": \"light\"}, \"paper_bgcolor\": \"white\", \"plot_bgcolor\": \"#E5ECF6\", \"polar\": {\"angularaxis\": {\"gridcolor\": \"white\", \"linecolor\": \"white\", \"ticks\": \"\"}, \"bgcolor\": \"#E5ECF6\", \"radialaxis\": {\"gridcolor\": \"white\", \"linecolor\": \"white\", \"ticks\": \"\"}}, \"scene\": {\"xaxis\": {\"backgroundcolor\": \"#E5ECF6\", \"gridcolor\": \"white\", \"gridwidth\": 2, \"linecolor\": \"white\", \"showbackground\": true, \"ticks\": \"\", \"zerolinecolor\": \"white\"}, \"yaxis\": {\"backgroundcolor\": \"#E5ECF6\", \"gridcolor\": \"white\", \"gridwidth\": 2, \"linecolor\": \"white\", \"showbackground\": true, \"ticks\": \"\", \"zerolinecolor\": \"white\"}, \"zaxis\": {\"backgroundcolor\": \"#E5ECF6\", \"gridcolor\": \"white\", \"gridwidth\": 2, \"linecolor\": \"white\", \"showbackground\": true, \"ticks\": \"\", \"zerolinecolor\": \"white\"}}, \"shapedefaults\": {\"line\": {\"color\": \"#2a3f5f\"}}, \"ternary\": {\"aaxis\": {\"gridcolor\": \"white\", \"linecolor\": \"white\", \"ticks\": \"\"}, \"baxis\": {\"gridcolor\": \"white\", \"linecolor\": \"white\", \"ticks\": \"\"}, \"bgcolor\": \"#E5ECF6\", \"caxis\": {\"gridcolor\": \"white\", \"linecolor\": \"white\", \"ticks\": \"\"}}, \"title\": {\"x\": 0.05}, \"xaxis\": {\"automargin\": true, \"gridcolor\": \"white\", \"linecolor\": \"white\", \"ticks\": \"\", \"title\": {\"standoff\": 15}, \"zerolinecolor\": \"white\", \"zerolinewidth\": 2}, \"yaxis\": {\"automargin\": true, \"gridcolor\": \"white\", \"linecolor\": \"white\", \"ticks\": \"\", \"title\": {\"standoff\": 15}, \"zerolinecolor\": \"white\", \"zerolinewidth\": 2}}}, \"title\": {\"font\": {\"size\": 20}, \"text\": \"Gr\\u00e1fico de Candlestick - GOOG\"}},\n",
              "                        {\"responsive\": true}\n",
              "                    ).then(function(){\n",
              "                            \n",
              "var gd = document.getElementById('ad433823-c799-481e-a901-46c70b638887');\n",
              "var x = new MutationObserver(function (mutations, observer) {{\n",
              "        var display = window.getComputedStyle(gd).display;\n",
              "        if (!display || display === 'none') {{\n",
              "            console.log([gd, 'removed!']);\n",
              "            Plotly.purge(gd);\n",
              "            observer.disconnect();\n",
              "        }}\n",
              "}});\n",
              "\n",
              "// Listen for the removal of the full notebook cells\n",
              "var notebookContainer = gd.closest('#notebook-container');\n",
              "if (notebookContainer) {{\n",
              "    x.observe(notebookContainer, {childList: true});\n",
              "}}\n",
              "\n",
              "// Listen for the clearing of the current output cell\n",
              "var outputEl = gd.closest('.output');\n",
              "if (outputEl) {{\n",
              "    x.observe(outputEl, {childList: true});\n",
              "}}\n",
              "\n",
              "                        })\n",
              "                };\n",
              "                \n",
              "            </script>\n",
              "        </div>\n",
              "</body>\n",
              "</html>"
            ]
          },
          "metadata": {
            "tags": []
          }
        }
      ]
    },
    {
      "cell_type": "code",
      "metadata": {
        "id": "a737EE7uP480",
        "colab_type": "code",
        "outputId": "677f83aa-2d02-4ca7-c952-7ddf9c20c5c2",
        "colab": {
          "base_uri": "https://localhost:8080/",
          "height": 34
        }
      },
      "source": [
        "list(tickerDf.columns) "
      ],
      "execution_count": 0,
      "outputs": [
        {
          "output_type": "execute_result",
          "data": {
            "text/plain": [
              "['Open', 'High', 'Low', 'Close', 'Adj Close', 'Volume', 'Date']"
            ]
          },
          "metadata": {
            "tags": []
          },
          "execution_count": 23
        }
      ]
    },
    {
      "cell_type": "markdown",
      "metadata": {
        "id": "vdATcJl2JuJM",
        "colab_type": "text"
      },
      "source": [
        "##add Moving Average"
      ]
    },
    {
      "cell_type": "code",
      "metadata": {
        "id": "NUfx8DmM3-Ry",
        "colab_type": "code",
        "outputId": "af9b966f-f49c-4d5a-91b3-f7d1ca6137f1",
        "colab": {
          "base_uri": "https://localhost:8080/",
          "height": 542
        }
      },
      "source": [
        "import plotly.graph_objects as go\n",
        "avg_1 = df.Close.rolling(window=17, min_periods=1).mean()\n",
        "\n",
        "\n",
        "# gráfico (candlestick)\n",
        "\n",
        "trace1 = {\n",
        "    'x' : df.Date, #collumn date\n",
        "    'open': df.Open,\n",
        "    'close': df.Close,\n",
        "    'high': df.High,\n",
        "    'low': df.Low,\n",
        "    'type': 'candlestick',\n",
        "    'name': str(user_ticker),\n",
        "    'showlegend': False\n",
        "}\n",
        "\n",
        "\n",
        "trace2 = {\n",
        "    'x' : df.Date, #collumn date\n",
        "    'y': avg_1,\n",
        "    'type': 'scatter',\n",
        "    'mode': 'lines',\n",
        "    'line': {\n",
        "        'width': 1,\n",
        "        'color': 'green'\n",
        "    },\n",
        "    'name': 'Média (7 dias)'\n",
        "} \n",
        "\n",
        "data = [trace1, trace2 ]\n",
        "\n",
        "# configurar o layout do gráfico\n",
        "layout = go.Layout({\n",
        "    'title': {\n",
        "        'text': 'Gráfico de Candlestick - '  +str(user_ticker),\n",
        "        'font': {\n",
        "            'size': 20\n",
        "        }\n",
        "    }\n",
        "})\n",
        " \n",
        "# instanciar objeto Figure e plotar o gráfico\n",
        "fig = go.Figure(data=data, layout=layout)\n",
        "fig.show()"
      ],
      "execution_count": 0,
      "outputs": [
        {
          "output_type": "display_data",
          "data": {
            "text/html": [
              "<html>\n",
              "<head><meta charset=\"utf-8\" /></head>\n",
              "<body>\n",
              "    <div>\n",
              "            <script src=\"https://cdnjs.cloudflare.com/ajax/libs/mathjax/2.7.5/MathJax.js?config=TeX-AMS-MML_SVG\"></script><script type=\"text/javascript\">if (window.MathJax) {MathJax.Hub.Config({SVG: {font: \"STIX-Web\"}});}</script>\n",
              "                <script type=\"text/javascript\">window.PlotlyConfig = {MathJaxConfig: 'local'};</script>\n",
              "        <script src=\"https://cdn.plot.ly/plotly-latest.min.js\"></script>    \n",
              "            <div id=\"a01e8f91-c48c-4162-9ff5-e81322137d6c\" class=\"plotly-graph-div\" style=\"height:525px; width:100%;\"></div>\n",
              "            <script type=\"text/javascript\">\n",
              "                \n",
              "                    window.PLOTLYENV=window.PLOTLYENV || {};\n",
              "                    \n",
              "                if (document.getElementById(\"a01e8f91-c48c-4162-9ff5-e81322137d6c\")) {\n",
              "                    Plotly.newPlot(\n",
              "                        'a01e8f91-c48c-4162-9ff5-e81322137d6c',\n",
              "                        [{\"close\": [1097.949951171875, 1111.25, 1121.5799560546875, 1131.5899658203125, 1116.3499755859375, 1124.8299560546875, 1140.47998046875, 1144.2099609375, 1144.9000244140625, 1150.3399658203125, 1153.5799560546875, 1146.3499755859375, 1146.3299560546875, 1130.0999755859375, 1138.0699462890625, 1146.2099609375, 1137.81005859375, 1132.1199951171875, 1250.4100341796875, 1239.4100341796875, 1225.1400146484375, 1216.6800537109375, 1209.010009765625, 1193.989990234375, 1152.3199462890625, 1169.949951171875, 1173.989990234375, 1204.800048828125, 1188.010009765625, 1174.7099609375, 1197.27001953125, 1164.2900390625, 1167.260009765625, 1177.5999755859375, 1198.449951171875, 1182.68994140625, 1191.25, 1189.530029296875, 1151.2900390625, 1168.8900146484375, 1167.8399658203125, 1171.02001953125, 1192.8499755859375, 1188.0999755859375, 1168.3900146484375, 1181.4100341796875, 1211.3800048828125, 1204.9300537109375, 1204.4100341796875, 1206.0, 1220.1700439453125, 1234.25, 1239.56005859375, 1231.300048828125, 1229.1500244140625, 1232.4100341796875, 1238.7099609375, 1229.9300537109375, 1234.030029296875, 1218.760009765625, 1246.52001953125, 1241.3900146484375, 1225.0899658203125, 1219.0, 1205.0999755859375, 1176.6300048828125, 1187.8299560546875, 1209.0, 1207.6800537109375, 1189.1300048828125, 1202.31005859375, 1208.6700439453125, 1215.449951171875, 1217.1400146484375, 1243.010009765625, 1243.6400146484375, 1253.0699462890625, 1245.489990234375, 1246.1500244140625, 1242.800048828125, 1259.1300048828125, 1260.989990234375, 1265.1300048828125, 1290.0, 1262.6199951171875, 1261.2900390625, 1260.1099853515625, 1273.739990234375, 1291.3699951171875, 1292.030029296875, 1291.800048828125, 1308.8599853515625, 1311.3699951171875, 1299.18994140625, 1298.800048828125, 1298.0, 1311.4599609375, 1334.8699951171875, 1320.699951171875, 1315.4599609375, 1303.050048828125, 1301.3499755859375, 1295.3399658203125, 1306.68994140625, 1313.550048828125, 1312.989990234375, 1304.9599609375, 1289.9200439453125, 1295.280029296875, 1320.5400390625, 1328.1300048828125, 1340.6199951171875, 1343.56005859375, 1344.6600341796875, 1345.02001953125, 1350.27001953125, 1347.8299560546875, 1361.1700439453125, 1355.1199951171875, 1352.6199951171875, 1356.0400390625, 1349.5899658203125, 1348.8399658203125, 1343.56005859375, 1360.4000244140625, 1351.8900146484375, 1336.1400146484375, 1337.02001953125, 1367.3699951171875, 1360.6600341796875, 1394.2099609375, 1393.3399658203125, 1404.3199462890625, 1419.8299560546875, 1429.72998046875, 1439.22998046875, 1430.8800048828125, 1439.199951171875, 1451.699951171875, 1480.3900146484375, 1484.4000244140625, 1485.949951171875, 1486.6500244140625, 1466.7099609375, 1433.9000244140625, 1452.56005859375, 1458.6300048828125, 1455.8399658203125, 1434.22998046875], \"high\": [1107.5799560546875, 1111.77001953125, 1126.760009765625, 1132.8800048828125, 1125.97998046875, 1128.0250244140625, 1142.050048828125, 1153.0699462890625, 1147.3399658203125, 1150.8199462890625, 1158.5799560546875, 1158.3599853515625, 1147.60498046875, 1151.1400146484375, 1139.25, 1146.9000244140625, 1144.0, 1141.699951171875, 1265.550048828125, 1247.3699951171875, 1234.8699951171875, 1234.0, 1234.1099853515625, 1206.9000244140625, 1175.239990234375, 1179.9599609375, 1178.4449462890625, 1205.010009765625, 1203.8800048828125, 1184.9599609375, 1204.780029296875, 1182.300048828125, 1175.8399658203125, 1182.719970703125, 1206.989990234375, 1196.06005859375, 1199.0, 1198.011962890625, 1194.0799560546875, 1169.469970703125, 1182.4000244140625, 1176.4200439453125, 1196.06005859375, 1198.5, 1186.8900146484375, 1183.47998046875, 1213.0400390625, 1212.0150146484375, 1220.0, 1210.0, 1222.5999755859375, 1241.8599853515625, 1240.8800048828125, 1239.56005859375, 1235.0, 1235.6099853515625, 1244.43994140625, 1243.3199462890625, 1239.0899658203125, 1246.739990234375, 1248.300048828125, 1245.0, 1244.02001953125, 1226.0, 1231.22998046875, 1196.97998046875, 1189.06005859375, 1211.43994140625, 1218.2039794921875, 1206.0799560546875, 1208.3499755859375, 1215.0, 1228.3900146484375, 1226.3299560546875, 1247.3299560546875, 1254.739990234375, 1263.324951171875, 1258.8900146484375, 1254.6290283203125, 1250.5999755859375, 1259.8900146484375, 1264.0, 1269.5999755859375, 1299.31005859375, 1281.5899658203125, 1269.3599853515625, 1267.6700439453125, 1274.6199951171875, 1294.1300048828125, 1298.9300537109375, 1293.72998046875, 1323.739990234375, 1318.0, 1306.425048828125, 1310.0, 1304.300048828125, 1317.0, 1334.8800048828125, 1335.529052734375, 1327.699951171875, 1315.0, 1312.5899658203125, 1308.72998046875, 1311.31005859375, 1314.800048828125, 1318.3599853515625, 1310.2049560546875, 1305.8299560546875, 1298.4610595703125, 1325.800048828125, 1329.3580322265625, 1344.0, 1359.449951171875, 1349.9749755859375, 1351.199951171875, 1355.7750244140625, 1353.093017578125, 1364.6800537109375, 1365.0, 1360.469970703125, 1358.0999755859375, 1363.6400146484375, 1359.800048828125, 1350.260009765625, 1361.3270263671875, 1364.530029296875, 1353.0, 1338.0, 1368.1400146484375, 1372.5, 1396.5, 1402.989990234375, 1411.5799560546875, 1427.3299560546875, 1434.928955078125, 1440.52001953125, 1441.800048828125, 1441.39501953125, 1451.989990234375, 1481.2950439453125, 1491.8499755859375, 1503.2139892578125, 1495.52001953125, 1495.4949951171875, 1438.0699462890625, 1456.0, 1465.4300537109375, 1457.280029296875, 1470.1300048828125], \"low\": [1093.7030029296875, 1098.1700439453125, 1113.8599853515625, 1116.1400146484375, 1111.2099609375, 1107.1700439453125, 1130.969970703125, 1139.5799560546875, 1138.780029296875, 1139.4000244140625, 1145.0, 1145.77001953125, 1132.72998046875, 1129.6199951171875, 1124.239990234375, 1131.800048828125, 1126.989990234375, 1120.9200439453125, 1224.0, 1228.22998046875, 1223.300048828125, 1207.7640380859375, 1205.719970703125, 1188.93994140625, 1140.1400146484375, 1160.0, 1149.6240234375, 1173.02001953125, 1183.60302734375, 1167.6719970703125, 1171.4599609375, 1160.5400390625, 1162.1099853515625, 1171.81005859375, 1190.0899658203125, 1182.1099853515625, 1187.4300537109375, 1178.5799560546875, 1147.75, 1152.9599609375, 1161.449951171875, 1157.300048828125, 1181.1199951171875, 1183.802978515625, 1163.199951171875, 1171.0, 1191.530029296875, 1202.52197265625, 1192.6199951171875, 1194.5799560546875, 1202.199951171875, 1223.02001953125, 1227.010009765625, 1225.6099853515625, 1223.68994140625, 1216.530029296875, 1232.02001953125, 1223.0799560546875, 1224.1700439453125, 1210.6800537109375, 1210.0899658203125, 1232.2679443359375, 1214.449951171875, 1212.300048828125, 1203.5799560546875, 1171.2900390625, 1162.4300537109375, 1189.1700439453125, 1203.75, 1189.010009765625, 1197.6300048828125, 1197.3399658203125, 1213.739990234375, 1211.760009765625, 1220.4000244140625, 1238.449951171875, 1249.93994140625, 1241.0799560546875, 1240.5999755859375, 1241.3800048828125, 1242.3599853515625, 1253.7149658203125, 1250.010009765625, 1272.5400390625, 1257.2120361328125, 1252.0, 1250.843017578125, 1260.5, 1276.35498046875, 1291.22900390625, 1282.5, 1294.2449951171875, 1304.364990234375, 1297.4100341796875, 1295.77001953125, 1293.510009765625, 1295.6500244140625, 1314.280029296875, 1317.5, 1312.800048828125, 1291.1500244140625, 1293.0, 1291.4100341796875, 1298.1300048828125, 1305.0899658203125, 1309.6300048828125, 1303.969970703125, 1281.0, 1279.0, 1304.8699951171875, 1316.43994140625, 1333.43994140625, 1337.8399658203125, 1336.0400390625, 1342.6700439453125, 1340.5, 1343.8699951171875, 1352.6700439453125, 1351.322998046875, 1351.0, 1348.9849853515625, 1349.0, 1346.510009765625, 1342.780029296875, 1344.469970703125, 1349.31005859375, 1334.02001953125, 1329.0849609375, 1341.550048828125, 1345.5439453125, 1350.0, 1390.3800048828125, 1390.8399658203125, 1410.27001953125, 1418.3499755859375, 1426.02001953125, 1428.3699951171875, 1430.2099609375, 1440.9200439453125, 1458.219970703125, 1471.199951171875, 1484.9300537109375, 1482.0999755859375, 1465.25, 1421.199951171875, 1432.469970703125, 1446.739990234375, 1436.4000244140625, 1428.530029296875], \"name\": \"GOOG\", \"open\": [1098.0, 1102.239990234375, 1117.4100341796875, 1117.800048828125, 1125.1700439453125, 1111.800048828125, 1131.219970703125, 1143.25, 1143.989990234375, 1146.8599853515625, 1146.0, 1150.969970703125, 1141.739990234375, 1148.18994140625, 1133.449951171875, 1144.0, 1131.9000244140625, 1137.8199462890625, 1224.0400390625, 1241.050048828125, 1225.4100341796875, 1223.0, 1214.030029296875, 1200.739990234375, 1170.0400390625, 1163.31005859375, 1156.0, 1182.8299560546875, 1197.989990234375, 1179.2099609375, 1171.4599609375, 1176.31005859375, 1163.5, 1179.550048828125, 1190.0899658203125, 1195.25, 1193.1500244140625, 1194.0699462890625, 1181.989990234375, 1157.260009765625, 1180.530029296875, 1161.7099609375, 1181.1199951171875, 1198.5, 1177.030029296875, 1176.7099609375, 1191.530029296875, 1208.1300048828125, 1204.0, 1195.1500244140625, 1203.4100341796875, 1224.300048828125, 1231.3499755859375, 1229.52001953125, 1230.4000244140625, 1227.510009765625, 1232.06005859375, 1233.1199951171875, 1226.0, 1240.0, 1215.8199462890625, 1241.9599609375, 1243.010009765625, 1220.969970703125, 1219.0, 1196.97998046875, 1180.0, 1191.8900146484375, 1204.4000244140625, 1197.5899658203125, 1199.3499755859375, 1198.5799560546875, 1222.2099609375, 1212.3399658203125, 1220.4000244140625, 1241.1700439453125, 1250.9300537109375, 1253.4599609375, 1252.260009765625, 1247.8499755859375, 1242.3599853515625, 1260.9000244140625, 1251.030029296875, 1275.449951171875, 1276.22998046875, 1252.969970703125, 1261.280029296875, 1265.0, 1276.449951171875, 1292.8900146484375, 1289.4599609375, 1294.280029296875, 1305.280029296875, 1303.1800537109375, 1300.0, 1294.0699462890625, 1297.5, 1318.93994140625, 1332.219970703125, 1327.699951171875, 1311.739990234375, 1301.47998046875, 1305.6199951171875, 1299.1800537109375, 1309.8599853515625, 1315.0, 1307.1199951171875, 1301.0, 1279.5699462890625, 1307.010009765625, 1328.0, 1333.43994140625, 1338.0400390625, 1341.5, 1350.8399658203125, 1345.93994140625, 1347.949951171875, 1356.5, 1362.8900146484375, 1356.5999755859375, 1351.8199462890625, 1363.3499755859375, 1355.8699951171875, 1348.5, 1346.1700439453125, 1362.989990234375, 1350.0, 1330.1099853515625, 1341.550048828125, 1347.8599853515625, 1350.0, 1397.93994140625, 1392.0799560546875, 1420.5699462890625, 1427.56005859375, 1436.1300048828125, 1439.010009765625, 1430.2099609375, 1447.43994140625, 1462.9100341796875, 1479.1199951171875, 1491.0, 1487.6400146484375, 1493.5899658203125, 1431.0, 1443.0, 1458.800048828125, 1439.9599609375, 1468.9000244140625], \"showlegend\": false, \"type\": \"candlestick\", \"x\": [\"2019-07-01T00:00:00\", \"2019-07-02T00:00:00\", \"2019-07-03T00:00:00\", \"2019-07-05T00:00:00\", \"2019-07-08T00:00:00\", \"2019-07-09T00:00:00\", \"2019-07-10T00:00:00\", \"2019-07-11T00:00:00\", \"2019-07-12T00:00:00\", \"2019-07-15T00:00:00\", \"2019-07-16T00:00:00\", \"2019-07-17T00:00:00\", \"2019-07-18T00:00:00\", \"2019-07-19T00:00:00\", \"2019-07-22T00:00:00\", \"2019-07-23T00:00:00\", \"2019-07-24T00:00:00\", \"2019-07-25T00:00:00\", \"2019-07-26T00:00:00\", \"2019-07-29T00:00:00\", \"2019-07-30T00:00:00\", \"2019-07-31T00:00:00\", \"2019-08-01T00:00:00\", \"2019-08-02T00:00:00\", \"2019-08-05T00:00:00\", \"2019-08-06T00:00:00\", \"2019-08-07T00:00:00\", \"2019-08-08T00:00:00\", \"2019-08-09T00:00:00\", \"2019-08-12T00:00:00\", \"2019-08-13T00:00:00\", \"2019-08-14T00:00:00\", \"2019-08-15T00:00:00\", \"2019-08-16T00:00:00\", \"2019-08-19T00:00:00\", \"2019-08-20T00:00:00\", \"2019-08-21T00:00:00\", \"2019-08-22T00:00:00\", \"2019-08-23T00:00:00\", \"2019-08-26T00:00:00\", \"2019-08-27T00:00:00\", \"2019-08-28T00:00:00\", \"2019-08-29T00:00:00\", \"2019-08-30T00:00:00\", \"2019-09-03T00:00:00\", \"2019-09-04T00:00:00\", \"2019-09-05T00:00:00\", \"2019-09-06T00:00:00\", \"2019-09-09T00:00:00\", \"2019-09-10T00:00:00\", \"2019-09-11T00:00:00\", \"2019-09-12T00:00:00\", \"2019-09-13T00:00:00\", \"2019-09-16T00:00:00\", \"2019-09-17T00:00:00\", \"2019-09-18T00:00:00\", \"2019-09-19T00:00:00\", \"2019-09-20T00:00:00\", \"2019-09-23T00:00:00\", \"2019-09-24T00:00:00\", \"2019-09-25T00:00:00\", \"2019-09-26T00:00:00\", \"2019-09-27T00:00:00\", \"2019-09-30T00:00:00\", \"2019-10-01T00:00:00\", \"2019-10-02T00:00:00\", \"2019-10-03T00:00:00\", \"2019-10-04T00:00:00\", \"2019-10-07T00:00:00\", \"2019-10-08T00:00:00\", \"2019-10-09T00:00:00\", \"2019-10-10T00:00:00\", \"2019-10-11T00:00:00\", \"2019-10-14T00:00:00\", \"2019-10-15T00:00:00\", \"2019-10-16T00:00:00\", \"2019-10-17T00:00:00\", \"2019-10-18T00:00:00\", \"2019-10-21T00:00:00\", \"2019-10-22T00:00:00\", \"2019-10-23T00:00:00\", \"2019-10-24T00:00:00\", \"2019-10-25T00:00:00\", \"2019-10-28T00:00:00\", \"2019-10-29T00:00:00\", \"2019-10-30T00:00:00\", \"2019-10-31T00:00:00\", \"2019-11-01T00:00:00\", \"2019-11-04T00:00:00\", \"2019-11-05T00:00:00\", \"2019-11-06T00:00:00\", \"2019-11-07T00:00:00\", \"2019-11-08T00:00:00\", \"2019-11-11T00:00:00\", \"2019-11-12T00:00:00\", \"2019-11-13T00:00:00\", \"2019-11-14T00:00:00\", \"2019-11-15T00:00:00\", \"2019-11-18T00:00:00\", \"2019-11-19T00:00:00\", \"2019-11-20T00:00:00\", \"2019-11-21T00:00:00\", \"2019-11-22T00:00:00\", \"2019-11-25T00:00:00\", \"2019-11-26T00:00:00\", \"2019-11-27T00:00:00\", \"2019-11-29T00:00:00\", \"2019-12-02T00:00:00\", \"2019-12-03T00:00:00\", \"2019-12-04T00:00:00\", \"2019-12-05T00:00:00\", \"2019-12-06T00:00:00\", \"2019-12-09T00:00:00\", \"2019-12-10T00:00:00\", \"2019-12-11T00:00:00\", \"2019-12-12T00:00:00\", \"2019-12-13T00:00:00\", \"2019-12-16T00:00:00\", \"2019-12-17T00:00:00\", \"2019-12-18T00:00:00\", \"2019-12-19T00:00:00\", \"2019-12-20T00:00:00\", \"2019-12-23T00:00:00\", \"2019-12-24T00:00:00\", \"2019-12-26T00:00:00\", \"2019-12-27T00:00:00\", \"2019-12-30T00:00:00\", \"2019-12-31T00:00:00\", \"2020-01-02T00:00:00\", \"2020-01-03T00:00:00\", \"2020-01-06T00:00:00\", \"2020-01-07T00:00:00\", \"2020-01-08T00:00:00\", \"2020-01-09T00:00:00\", \"2020-01-10T00:00:00\", \"2020-01-13T00:00:00\", \"2020-01-14T00:00:00\", \"2020-01-15T00:00:00\", \"2020-01-16T00:00:00\", \"2020-01-17T00:00:00\", \"2020-01-21T00:00:00\", \"2020-01-22T00:00:00\", \"2020-01-23T00:00:00\", \"2020-01-24T00:00:00\", \"2020-01-27T00:00:00\", \"2020-01-28T00:00:00\", \"2020-01-29T00:00:00\", \"2020-01-30T00:00:00\", \"2020-01-31T00:00:00\"]}, {\"line\": {\"color\": \"green\", \"width\": 1}, \"mode\": \"lines\", \"name\": \"M\\u00e9dia (7 dias)\", \"type\": \"scatter\", \"x\": [\"2019-07-01T00:00:00\", \"2019-07-02T00:00:00\", \"2019-07-03T00:00:00\", \"2019-07-05T00:00:00\", \"2019-07-08T00:00:00\", \"2019-07-09T00:00:00\", \"2019-07-10T00:00:00\", \"2019-07-11T00:00:00\", \"2019-07-12T00:00:00\", \"2019-07-15T00:00:00\", \"2019-07-16T00:00:00\", \"2019-07-17T00:00:00\", \"2019-07-18T00:00:00\", \"2019-07-19T00:00:00\", \"2019-07-22T00:00:00\", \"2019-07-23T00:00:00\", \"2019-07-24T00:00:00\", \"2019-07-25T00:00:00\", \"2019-07-26T00:00:00\", \"2019-07-29T00:00:00\", \"2019-07-30T00:00:00\", \"2019-07-31T00:00:00\", \"2019-08-01T00:00:00\", \"2019-08-02T00:00:00\", \"2019-08-05T00:00:00\", \"2019-08-06T00:00:00\", \"2019-08-07T00:00:00\", \"2019-08-08T00:00:00\", \"2019-08-09T00:00:00\", \"2019-08-12T00:00:00\", \"2019-08-13T00:00:00\", \"2019-08-14T00:00:00\", \"2019-08-15T00:00:00\", \"2019-08-16T00:00:00\", \"2019-08-19T00:00:00\", \"2019-08-20T00:00:00\", \"2019-08-21T00:00:00\", \"2019-08-22T00:00:00\", \"2019-08-23T00:00:00\", \"2019-08-26T00:00:00\", \"2019-08-27T00:00:00\", \"2019-08-28T00:00:00\", \"2019-08-29T00:00:00\", \"2019-08-30T00:00:00\", \"2019-09-03T00:00:00\", \"2019-09-04T00:00:00\", \"2019-09-05T00:00:00\", \"2019-09-06T00:00:00\", \"2019-09-09T00:00:00\", \"2019-09-10T00:00:00\", \"2019-09-11T00:00:00\", \"2019-09-12T00:00:00\", \"2019-09-13T00:00:00\", \"2019-09-16T00:00:00\", \"2019-09-17T00:00:00\", \"2019-09-18T00:00:00\", \"2019-09-19T00:00:00\", \"2019-09-20T00:00:00\", \"2019-09-23T00:00:00\", \"2019-09-24T00:00:00\", \"2019-09-25T00:00:00\", \"2019-09-26T00:00:00\", \"2019-09-27T00:00:00\", \"2019-09-30T00:00:00\", \"2019-10-01T00:00:00\", \"2019-10-02T00:00:00\", \"2019-10-03T00:00:00\", \"2019-10-04T00:00:00\", \"2019-10-07T00:00:00\", \"2019-10-08T00:00:00\", \"2019-10-09T00:00:00\", \"2019-10-10T00:00:00\", \"2019-10-11T00:00:00\", \"2019-10-14T00:00:00\", \"2019-10-15T00:00:00\", \"2019-10-16T00:00:00\", \"2019-10-17T00:00:00\", \"2019-10-18T00:00:00\", \"2019-10-21T00:00:00\", \"2019-10-22T00:00:00\", \"2019-10-23T00:00:00\", \"2019-10-24T00:00:00\", \"2019-10-25T00:00:00\", \"2019-10-28T00:00:00\", \"2019-10-29T00:00:00\", \"2019-10-30T00:00:00\", \"2019-10-31T00:00:00\", \"2019-11-01T00:00:00\", \"2019-11-04T00:00:00\", \"2019-11-05T00:00:00\", \"2019-11-06T00:00:00\", \"2019-11-07T00:00:00\", \"2019-11-08T00:00:00\", \"2019-11-11T00:00:00\", \"2019-11-12T00:00:00\", \"2019-11-13T00:00:00\", \"2019-11-14T00:00:00\", \"2019-11-15T00:00:00\", \"2019-11-18T00:00:00\", \"2019-11-19T00:00:00\", \"2019-11-20T00:00:00\", \"2019-11-21T00:00:00\", \"2019-11-22T00:00:00\", \"2019-11-25T00:00:00\", \"2019-11-26T00:00:00\", \"2019-11-27T00:00:00\", \"2019-11-29T00:00:00\", \"2019-12-02T00:00:00\", \"2019-12-03T00:00:00\", \"2019-12-04T00:00:00\", \"2019-12-05T00:00:00\", \"2019-12-06T00:00:00\", \"2019-12-09T00:00:00\", \"2019-12-10T00:00:00\", \"2019-12-11T00:00:00\", \"2019-12-12T00:00:00\", \"2019-12-13T00:00:00\", \"2019-12-16T00:00:00\", \"2019-12-17T00:00:00\", \"2019-12-18T00:00:00\", \"2019-12-19T00:00:00\", \"2019-12-20T00:00:00\", \"2019-12-23T00:00:00\", \"2019-12-24T00:00:00\", \"2019-12-26T00:00:00\", \"2019-12-27T00:00:00\", \"2019-12-30T00:00:00\", \"2019-12-31T00:00:00\", \"2020-01-02T00:00:00\", \"2020-01-03T00:00:00\", \"2020-01-06T00:00:00\", \"2020-01-07T00:00:00\", \"2020-01-08T00:00:00\", \"2020-01-09T00:00:00\", \"2020-01-10T00:00:00\", \"2020-01-13T00:00:00\", \"2020-01-14T00:00:00\", \"2020-01-15T00:00:00\", \"2020-01-16T00:00:00\", \"2020-01-17T00:00:00\", \"2020-01-21T00:00:00\", \"2020-01-22T00:00:00\", \"2020-01-23T00:00:00\", \"2020-01-24T00:00:00\", \"2020-01-27T00:00:00\", \"2020-01-28T00:00:00\", \"2020-01-29T00:00:00\", \"2020-01-30T00:00:00\", \"2020-01-31T00:00:00\"], \"y\": [1097.949951171875, 1104.5999755859375, 1110.2599690755208, 1115.5924682617188, 1115.7439697265625, 1117.25830078125, 1120.57568359375, 1123.5299682617188, 1125.9044189453125, 1128.3479736328125, 1130.6417902166193, 1131.9508056640625, 1133.056894155649, 1132.8456856863838, 1133.1939697265625, 1134.007469177246, 1134.2311509076287, 1136.241153492647, 1144.427037856158, 1151.3582189223346, 1156.8611629710479, 1162.7629322725184, 1167.7147001378676, 1170.8623477711396, 1171.3394057329963, 1172.812930836397, 1174.2041087431066, 1177.2170553768383, 1179.6676456227021, 1181.3370576746324, 1185.288236730239, 1186.8305951286766, 1188.0688332950367, 1190.4094166475184, 1194.3111787683824, 1190.3276438993566, 1187.4947007123162, 1185.399995691636, 1181.553524241728, 1179.1935245289521, 1177.6552877987133, 1178.7552921070771, 1180.102352366728, 1180.932351505055, 1178.790584788603, 1178.4023509306066, 1180.5594123391545, 1181.0100025850184, 1183.3700022977941, 1185.6488252527574, 1188.1529469209559, 1190.2588321461396, 1193.6041331571691, 1195.960018382353, 1198.2906063304229, 1203.0623707490809, 1207.1694264131434, 1210.8217845243566, 1214.5282556870404, 1216.0523753446691, 1219.4888485179229, 1223.7829661649816, 1226.3523739085479, 1226.8006089154412, 1226.810604319853, 1225.1764849494484, 1224.1076588350184, 1223.4505974264705, 1221.887659409467, 1218.9211856617646, 1217.2158921185662, 1216.0111873851104, 1215.0135354434742, 1213.7447150735295, 1214.514124253217, 1215.0794175091912, 1217.0976490693934, 1217.0370591107537, 1217.3170596852021, 1218.358829273897, 1220.7194177964154, 1224.0070657169117, 1229.212948069853, 1235.2229506548713, 1238.3770680147059, 1241.5305965647979, 1245.7058895335479, 1249.9076502182904, 1254.7723532284008, 1259.277063706342, 1263.6688304227941, 1267.5423583984375, 1271.5264748965992, 1274.2394157858455, 1277.375301585478, 1280.4253001493566, 1284.4641185087316, 1288.91941205193, 1292.4317626953125, 1295.3923483455883, 1296.1599982766545, 1298.438232421875, 1300.4411692899816, 1303.1811667049633, 1305.5229348575367, 1306.794699276195, 1307.5552834903492, 1307.4446949678309, 1306.6458740234375, 1307.1852883731617, 1308.8876450482537, 1311.3476418887867, 1314.027645335478, 1315.9805908203125, 1316.5776510799633, 1318.3170668658088, 1320.2211842256434, 1323.6400074678309, 1326.8029497931984, 1330.17236328125, 1333.0753102022059, 1335.1953053193934, 1337.3041274126838, 1339.5747213924633, 1343.7206025965074, 1347.0506017348346, 1347.9682473575367, 1348.49118939568, 1350.064718807445, 1351.0705997242646, 1353.9853012982537, 1356.8276510799633, 1360.007058536305, 1364.2423526539521, 1368.2752900965074, 1373.222936293658, 1377.8264662798713, 1382.718225815717, 1388.7246955422795, 1396.4629337086396, 1404.7476375804229, 1412.1329273897059, 1420.0599867876838, 1427.740571863511, 1433.439395680147, 1438.4505758846508, 1444.2135153377758, 1447.838809742647, 1450.244104721967]}],\n",
              "                        {\"template\": {\"data\": {\"bar\": [{\"error_x\": {\"color\": \"#2a3f5f\"}, \"error_y\": {\"color\": \"#2a3f5f\"}, \"marker\": {\"line\": {\"color\": \"#E5ECF6\", \"width\": 0.5}}, \"type\": \"bar\"}], \"barpolar\": [{\"marker\": {\"line\": {\"color\": \"#E5ECF6\", \"width\": 0.5}}, \"type\": \"barpolar\"}], \"carpet\": [{\"aaxis\": {\"endlinecolor\": \"#2a3f5f\", \"gridcolor\": \"white\", \"linecolor\": \"white\", \"minorgridcolor\": \"white\", \"startlinecolor\": \"#2a3f5f\"}, \"baxis\": {\"endlinecolor\": \"#2a3f5f\", \"gridcolor\": \"white\", \"linecolor\": \"white\", \"minorgridcolor\": \"white\", \"startlinecolor\": \"#2a3f5f\"}, \"type\": \"carpet\"}], \"choropleth\": [{\"colorbar\": {\"outlinewidth\": 0, \"ticks\": \"\"}, \"type\": \"choropleth\"}], \"contour\": [{\"colorbar\": {\"outlinewidth\": 0, \"ticks\": \"\"}, \"colorscale\": [[0.0, \"#0d0887\"], [0.1111111111111111, \"#46039f\"], [0.2222222222222222, \"#7201a8\"], [0.3333333333333333, \"#9c179e\"], [0.4444444444444444, \"#bd3786\"], [0.5555555555555556, \"#d8576b\"], [0.6666666666666666, \"#ed7953\"], [0.7777777777777778, \"#fb9f3a\"], [0.8888888888888888, \"#fdca26\"], [1.0, \"#f0f921\"]], \"type\": \"contour\"}], \"contourcarpet\": [{\"colorbar\": {\"outlinewidth\": 0, \"ticks\": \"\"}, \"type\": \"contourcarpet\"}], \"heatmap\": [{\"colorbar\": {\"outlinewidth\": 0, \"ticks\": \"\"}, \"colorscale\": [[0.0, \"#0d0887\"], [0.1111111111111111, \"#46039f\"], [0.2222222222222222, \"#7201a8\"], [0.3333333333333333, \"#9c179e\"], [0.4444444444444444, \"#bd3786\"], [0.5555555555555556, \"#d8576b\"], [0.6666666666666666, \"#ed7953\"], [0.7777777777777778, \"#fb9f3a\"], [0.8888888888888888, \"#fdca26\"], [1.0, \"#f0f921\"]], \"type\": \"heatmap\"}], \"heatmapgl\": [{\"colorbar\": {\"outlinewidth\": 0, \"ticks\": \"\"}, \"colorscale\": [[0.0, \"#0d0887\"], [0.1111111111111111, \"#46039f\"], [0.2222222222222222, \"#7201a8\"], [0.3333333333333333, \"#9c179e\"], [0.4444444444444444, \"#bd3786\"], [0.5555555555555556, \"#d8576b\"], [0.6666666666666666, \"#ed7953\"], [0.7777777777777778, \"#fb9f3a\"], [0.8888888888888888, \"#fdca26\"], [1.0, \"#f0f921\"]], \"type\": \"heatmapgl\"}], \"histogram\": [{\"marker\": {\"colorbar\": {\"outlinewidth\": 0, \"ticks\": \"\"}}, \"type\": \"histogram\"}], \"histogram2d\": [{\"colorbar\": {\"outlinewidth\": 0, \"ticks\": \"\"}, \"colorscale\": [[0.0, \"#0d0887\"], [0.1111111111111111, \"#46039f\"], [0.2222222222222222, \"#7201a8\"], [0.3333333333333333, \"#9c179e\"], [0.4444444444444444, \"#bd3786\"], [0.5555555555555556, \"#d8576b\"], [0.6666666666666666, \"#ed7953\"], [0.7777777777777778, \"#fb9f3a\"], [0.8888888888888888, \"#fdca26\"], [1.0, \"#f0f921\"]], \"type\": \"histogram2d\"}], \"histogram2dcontour\": [{\"colorbar\": {\"outlinewidth\": 0, \"ticks\": \"\"}, \"colorscale\": [[0.0, \"#0d0887\"], [0.1111111111111111, \"#46039f\"], [0.2222222222222222, \"#7201a8\"], [0.3333333333333333, \"#9c179e\"], [0.4444444444444444, \"#bd3786\"], [0.5555555555555556, \"#d8576b\"], [0.6666666666666666, \"#ed7953\"], [0.7777777777777778, \"#fb9f3a\"], [0.8888888888888888, \"#fdca26\"], [1.0, \"#f0f921\"]], \"type\": \"histogram2dcontour\"}], \"mesh3d\": [{\"colorbar\": {\"outlinewidth\": 0, \"ticks\": \"\"}, \"type\": \"mesh3d\"}], \"parcoords\": [{\"line\": {\"colorbar\": {\"outlinewidth\": 0, \"ticks\": \"\"}}, \"type\": \"parcoords\"}], \"pie\": [{\"automargin\": true, \"type\": \"pie\"}], \"scatter\": [{\"marker\": {\"colorbar\": {\"outlinewidth\": 0, \"ticks\": \"\"}}, \"type\": \"scatter\"}], \"scatter3d\": [{\"line\": {\"colorbar\": {\"outlinewidth\": 0, \"ticks\": \"\"}}, \"marker\": {\"colorbar\": {\"outlinewidth\": 0, \"ticks\": \"\"}}, \"type\": \"scatter3d\"}], \"scattercarpet\": [{\"marker\": {\"colorbar\": {\"outlinewidth\": 0, \"ticks\": \"\"}}, \"type\": \"scattercarpet\"}], \"scattergeo\": [{\"marker\": {\"colorbar\": {\"outlinewidth\": 0, \"ticks\": \"\"}}, \"type\": \"scattergeo\"}], \"scattergl\": [{\"marker\": {\"colorbar\": {\"outlinewidth\": 0, \"ticks\": \"\"}}, \"type\": \"scattergl\"}], \"scattermapbox\": [{\"marker\": {\"colorbar\": {\"outlinewidth\": 0, \"ticks\": \"\"}}, \"type\": \"scattermapbox\"}], \"scatterpolar\": [{\"marker\": {\"colorbar\": {\"outlinewidth\": 0, \"ticks\": \"\"}}, \"type\": \"scatterpolar\"}], \"scatterpolargl\": [{\"marker\": {\"colorbar\": {\"outlinewidth\": 0, \"ticks\": \"\"}}, \"type\": \"scatterpolargl\"}], \"scatterternary\": [{\"marker\": {\"colorbar\": {\"outlinewidth\": 0, \"ticks\": \"\"}}, \"type\": \"scatterternary\"}], \"surface\": [{\"colorbar\": {\"outlinewidth\": 0, \"ticks\": \"\"}, \"colorscale\": [[0.0, \"#0d0887\"], [0.1111111111111111, \"#46039f\"], [0.2222222222222222, \"#7201a8\"], [0.3333333333333333, \"#9c179e\"], [0.4444444444444444, \"#bd3786\"], [0.5555555555555556, \"#d8576b\"], [0.6666666666666666, \"#ed7953\"], [0.7777777777777778, \"#fb9f3a\"], [0.8888888888888888, \"#fdca26\"], [1.0, \"#f0f921\"]], \"type\": \"surface\"}], \"table\": [{\"cells\": {\"fill\": {\"color\": \"#EBF0F8\"}, \"line\": {\"color\": \"white\"}}, \"header\": {\"fill\": {\"color\": \"#C8D4E3\"}, \"line\": {\"color\": \"white\"}}, \"type\": \"table\"}]}, \"layout\": {\"annotationdefaults\": {\"arrowcolor\": \"#2a3f5f\", \"arrowhead\": 0, \"arrowwidth\": 1}, \"coloraxis\": {\"colorbar\": {\"outlinewidth\": 0, \"ticks\": \"\"}}, \"colorscale\": {\"diverging\": [[0, \"#8e0152\"], [0.1, \"#c51b7d\"], [0.2, \"#de77ae\"], [0.3, \"#f1b6da\"], [0.4, \"#fde0ef\"], [0.5, \"#f7f7f7\"], [0.6, \"#e6f5d0\"], [0.7, \"#b8e186\"], [0.8, \"#7fbc41\"], [0.9, \"#4d9221\"], [1, \"#276419\"]], \"sequential\": [[0.0, \"#0d0887\"], [0.1111111111111111, \"#46039f\"], [0.2222222222222222, \"#7201a8\"], [0.3333333333333333, \"#9c179e\"], [0.4444444444444444, \"#bd3786\"], [0.5555555555555556, \"#d8576b\"], [0.6666666666666666, \"#ed7953\"], [0.7777777777777778, \"#fb9f3a\"], [0.8888888888888888, \"#fdca26\"], [1.0, \"#f0f921\"]], \"sequentialminus\": [[0.0, \"#0d0887\"], [0.1111111111111111, \"#46039f\"], [0.2222222222222222, \"#7201a8\"], [0.3333333333333333, \"#9c179e\"], [0.4444444444444444, \"#bd3786\"], [0.5555555555555556, \"#d8576b\"], [0.6666666666666666, \"#ed7953\"], [0.7777777777777778, \"#fb9f3a\"], [0.8888888888888888, \"#fdca26\"], [1.0, \"#f0f921\"]]}, \"colorway\": [\"#636efa\", \"#EF553B\", \"#00cc96\", \"#ab63fa\", \"#FFA15A\", \"#19d3f3\", \"#FF6692\", \"#B6E880\", \"#FF97FF\", \"#FECB52\"], \"font\": {\"color\": \"#2a3f5f\"}, \"geo\": {\"bgcolor\": \"white\", \"lakecolor\": \"white\", \"landcolor\": \"#E5ECF6\", \"showlakes\": true, \"showland\": true, \"subunitcolor\": \"white\"}, \"hoverlabel\": {\"align\": \"left\"}, \"hovermode\": \"closest\", \"mapbox\": {\"style\": \"light\"}, \"paper_bgcolor\": \"white\", \"plot_bgcolor\": \"#E5ECF6\", \"polar\": {\"angularaxis\": {\"gridcolor\": \"white\", \"linecolor\": \"white\", \"ticks\": \"\"}, \"bgcolor\": \"#E5ECF6\", \"radialaxis\": {\"gridcolor\": \"white\", \"linecolor\": \"white\", \"ticks\": \"\"}}, \"scene\": {\"xaxis\": {\"backgroundcolor\": \"#E5ECF6\", \"gridcolor\": \"white\", \"gridwidth\": 2, \"linecolor\": \"white\", \"showbackground\": true, \"ticks\": \"\", \"zerolinecolor\": \"white\"}, \"yaxis\": {\"backgroundcolor\": \"#E5ECF6\", \"gridcolor\": \"white\", \"gridwidth\": 2, \"linecolor\": \"white\", \"showbackground\": true, \"ticks\": \"\", \"zerolinecolor\": \"white\"}, \"zaxis\": {\"backgroundcolor\": \"#E5ECF6\", \"gridcolor\": \"white\", \"gridwidth\": 2, \"linecolor\": \"white\", \"showbackground\": true, \"ticks\": \"\", \"zerolinecolor\": \"white\"}}, \"shapedefaults\": {\"line\": {\"color\": \"#2a3f5f\"}}, \"ternary\": {\"aaxis\": {\"gridcolor\": \"white\", \"linecolor\": \"white\", \"ticks\": \"\"}, \"baxis\": {\"gridcolor\": \"white\", \"linecolor\": \"white\", \"ticks\": \"\"}, \"bgcolor\": \"#E5ECF6\", \"caxis\": {\"gridcolor\": \"white\", \"linecolor\": \"white\", \"ticks\": \"\"}}, \"title\": {\"x\": 0.05}, \"xaxis\": {\"automargin\": true, \"gridcolor\": \"white\", \"linecolor\": \"white\", \"ticks\": \"\", \"title\": {\"standoff\": 15}, \"zerolinecolor\": \"white\", \"zerolinewidth\": 2}, \"yaxis\": {\"automargin\": true, \"gridcolor\": \"white\", \"linecolor\": \"white\", \"ticks\": \"\", \"title\": {\"standoff\": 15}, \"zerolinecolor\": \"white\", \"zerolinewidth\": 2}}}, \"title\": {\"font\": {\"size\": 20}, \"text\": \"Gr\\u00e1fico de Candlestick - GOOG\"}},\n",
              "                        {\"responsive\": true}\n",
              "                    ).then(function(){\n",
              "                            \n",
              "var gd = document.getElementById('a01e8f91-c48c-4162-9ff5-e81322137d6c');\n",
              "var x = new MutationObserver(function (mutations, observer) {{\n",
              "        var display = window.getComputedStyle(gd).display;\n",
              "        if (!display || display === 'none') {{\n",
              "            console.log([gd, 'removed!']);\n",
              "            Plotly.purge(gd);\n",
              "            observer.disconnect();\n",
              "        }}\n",
              "}});\n",
              "\n",
              "// Listen for the removal of the full notebook cells\n",
              "var notebookContainer = gd.closest('#notebook-container');\n",
              "if (notebookContainer) {{\n",
              "    x.observe(notebookContainer, {childList: true});\n",
              "}}\n",
              "\n",
              "// Listen for the clearing of the current output cell\n",
              "var outputEl = gd.closest('.output');\n",
              "if (outputEl) {{\n",
              "    x.observe(outputEl, {childList: true});\n",
              "}}\n",
              "\n",
              "                        })\n",
              "                };\n",
              "                \n",
              "            </script>\n",
              "        </div>\n",
              "</body>\n",
              "</html>"
            ]
          },
          "metadata": {
            "tags": []
          }
        }
      ]
    }
  ]
}