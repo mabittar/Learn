{
  "nbformat": 4,
  "nbformat_minor": 0,
  "metadata": {
    "colab": {
      "name": "Titanic-tensor-flow.ipynb",
      "provenance": [],
      "include_colab_link": true
    },
    "kernelspec": {
      "name": "python3",
      "display_name": "Python 3"
    }
  },
  "cells": [
    {
      "cell_type": "markdown",
      "metadata": {
        "id": "view-in-github",
        "colab_type": "text"
      },
      "source": [
        "<a href=\"https://colab.research.google.com/github/mabittar/Learn/blob/master/Titanic_tensor_flow.ipynb\" target=\"_parent\"><img src=\"https://colab.research.google.com/assets/colab-badge.svg\" alt=\"Open In Colab\"/></a>"
      ]
    },
    {
      "cell_type": "code",
      "metadata": {
        "id": "jAfl0HypQrgh",
        "colab_type": "code",
        "outputId": "673eb149-78df-4d03-b582-24a5bc07eaef",
        "colab": {
          "base_uri": "https://localhost:8080/",
          "height": 34
        }
      },
      "source": [
        "# renderizar os gráficos diretamento no notebook\n",
        "#%matplotlib inline\n",
        "\n",
        " #foundational package for scientific computing\n",
        "import numpy as np\n",
        "\n",
        "#collection of functions for data processing and analysis modeled after R dataframes with SQL like features\n",
        "import pandas as pd\n",
        "\n",
        "#collection of functions for scientific and publication-ready visualization\n",
        "import matplotlib.pyplot as plt\n",
        "\n",
        "#Visualization\n",
        "import seaborn as sns\n",
        "\n",
        "#collection of functions for scientific computing and advance mathematics\n",
        "import scipy as sp\n",
        "\n",
        "#collection of machine learning algorithms\n",
        "from sklearn.model_selection import train_test_split\n",
        "from sklearn.metrics import classification_report\n",
        "from sklearn.linear_model import LinearRegression\n",
        "from sklearn.metrics import accuracy_score\n",
        "from sklearn.metrics import confusion_matrix\n",
        "\n",
        "#Common Model Helpers\n",
        "from sklearn.preprocessing import LabelEncoder\n",
        "from sklearn import metrics\n",
        "from sklearn import model_selection\n",
        "import pylab as pl\n",
        "from google.colab import drive\n",
        "\n",
        "#ignore warnings\n",
        "import warnings\n",
        "warnings.filterwarnings('ignore')\n",
        "\n",
        "#Load Data\n",
        "drive.mount('/content/gdrive')\n",
        "root_path = 'gdrive/My Drive/'\n",
        "\n",
        "\n",
        "datatrain = pd.read_csv(r\"/content/gdrive/My Drive/Colab/data/train.csv\")\n",
        "datatest = pd.read_csv(r\"/content/gdrive/My Drive/Colab/data/test.csv\")"
      ],
      "execution_count": 0,
      "outputs": [
        {
          "output_type": "stream",
          "text": [
            "Drive already mounted at /content/gdrive; to attempt to forcibly remount, call drive.mount(\"/content/gdrive\", force_remount=True).\n"
          ],
          "name": "stdout"
        }
      ]
    },
    {
      "cell_type": "code",
      "metadata": {
        "id": "8oeYS_7saszZ",
        "colab_type": "code",
        "outputId": "c9c54acb-ddca-45c7-b0d5-dffce1464890",
        "colab": {
          "base_uri": "https://localhost:8080/",
          "height": 221
        }
      },
      "source": [
        "datatrain.head()\n",
        "print(\"********************\")\n",
        "datatest.head()"
      ],
      "execution_count": 0,
      "outputs": [
        {
          "output_type": "stream",
          "text": [
            "********************\n"
          ],
          "name": "stdout"
        },
        {
          "output_type": "execute_result",
          "data": {
            "text/html": [
              "<div>\n",
              "<style scoped>\n",
              "    .dataframe tbody tr th:only-of-type {\n",
              "        vertical-align: middle;\n",
              "    }\n",
              "\n",
              "    .dataframe tbody tr th {\n",
              "        vertical-align: top;\n",
              "    }\n",
              "\n",
              "    .dataframe thead th {\n",
              "        text-align: right;\n",
              "    }\n",
              "</style>\n",
              "<table border=\"1\" class=\"dataframe\">\n",
              "  <thead>\n",
              "    <tr style=\"text-align: right;\">\n",
              "      <th></th>\n",
              "      <th>PassengerId</th>\n",
              "      <th>Pclass</th>\n",
              "      <th>Name</th>\n",
              "      <th>Sex</th>\n",
              "      <th>Age</th>\n",
              "      <th>SibSp</th>\n",
              "      <th>Parch</th>\n",
              "      <th>Ticket</th>\n",
              "      <th>Fare</th>\n",
              "      <th>Cabin</th>\n",
              "      <th>Embarked</th>\n",
              "    </tr>\n",
              "  </thead>\n",
              "  <tbody>\n",
              "    <tr>\n",
              "      <th>0</th>\n",
              "      <td>892</td>\n",
              "      <td>3</td>\n",
              "      <td>Kelly, Mr. James</td>\n",
              "      <td>male</td>\n",
              "      <td>34.5</td>\n",
              "      <td>0</td>\n",
              "      <td>0</td>\n",
              "      <td>330911</td>\n",
              "      <td>7.8292</td>\n",
              "      <td>NaN</td>\n",
              "      <td>Q</td>\n",
              "    </tr>\n",
              "    <tr>\n",
              "      <th>1</th>\n",
              "      <td>893</td>\n",
              "      <td>3</td>\n",
              "      <td>Wilkes, Mrs. James (Ellen Needs)</td>\n",
              "      <td>female</td>\n",
              "      <td>47.0</td>\n",
              "      <td>1</td>\n",
              "      <td>0</td>\n",
              "      <td>363272</td>\n",
              "      <td>7.0000</td>\n",
              "      <td>NaN</td>\n",
              "      <td>S</td>\n",
              "    </tr>\n",
              "    <tr>\n",
              "      <th>2</th>\n",
              "      <td>894</td>\n",
              "      <td>2</td>\n",
              "      <td>Myles, Mr. Thomas Francis</td>\n",
              "      <td>male</td>\n",
              "      <td>62.0</td>\n",
              "      <td>0</td>\n",
              "      <td>0</td>\n",
              "      <td>240276</td>\n",
              "      <td>9.6875</td>\n",
              "      <td>NaN</td>\n",
              "      <td>Q</td>\n",
              "    </tr>\n",
              "    <tr>\n",
              "      <th>3</th>\n",
              "      <td>895</td>\n",
              "      <td>3</td>\n",
              "      <td>Wirz, Mr. Albert</td>\n",
              "      <td>male</td>\n",
              "      <td>27.0</td>\n",
              "      <td>0</td>\n",
              "      <td>0</td>\n",
              "      <td>315154</td>\n",
              "      <td>8.6625</td>\n",
              "      <td>NaN</td>\n",
              "      <td>S</td>\n",
              "    </tr>\n",
              "    <tr>\n",
              "      <th>4</th>\n",
              "      <td>896</td>\n",
              "      <td>3</td>\n",
              "      <td>Hirvonen, Mrs. Alexander (Helga E Lindqvist)</td>\n",
              "      <td>female</td>\n",
              "      <td>22.0</td>\n",
              "      <td>1</td>\n",
              "      <td>1</td>\n",
              "      <td>3101298</td>\n",
              "      <td>12.2875</td>\n",
              "      <td>NaN</td>\n",
              "      <td>S</td>\n",
              "    </tr>\n",
              "  </tbody>\n",
              "</table>\n",
              "</div>"
            ],
            "text/plain": [
              "   PassengerId  Pclass                                          Name     Sex  \\\n",
              "0          892       3                              Kelly, Mr. James    male   \n",
              "1          893       3              Wilkes, Mrs. James (Ellen Needs)  female   \n",
              "2          894       2                     Myles, Mr. Thomas Francis    male   \n",
              "3          895       3                              Wirz, Mr. Albert    male   \n",
              "4          896       3  Hirvonen, Mrs. Alexander (Helga E Lindqvist)  female   \n",
              "\n",
              "    Age  SibSp  Parch   Ticket     Fare Cabin Embarked  \n",
              "0  34.5      0      0   330911   7.8292   NaN        Q  \n",
              "1  47.0      1      0   363272   7.0000   NaN        S  \n",
              "2  62.0      0      0   240276   9.6875   NaN        Q  \n",
              "3  27.0      0      0   315154   8.6625   NaN        S  \n",
              "4  22.0      1      1  3101298  12.2875   NaN        S  "
            ]
          },
          "metadata": {
            "tags": []
          },
          "execution_count": 29
        }
      ]
    },
    {
      "cell_type": "code",
      "metadata": {
        "id": "ROXIqtbDbEiT",
        "colab_type": "code",
        "colab": {}
      },
      "source": [
        "datatestcopy = datatest.copy()"
      ],
      "execution_count": 0,
      "outputs": []
    },
    {
      "cell_type": "code",
      "metadata": {
        "id": "3HeGxncjbHlb",
        "colab_type": "code",
        "outputId": "bef068f2-4a5d-4742-e211-46cc271ebacf",
        "colab": {
          "base_uri": "https://localhost:8080/",
          "height": 51
        }
      },
      "source": [
        "print(datatrain.shape)\n",
        "print(datatest.shape)"
      ],
      "execution_count": 0,
      "outputs": [
        {
          "output_type": "stream",
          "text": [
            "(891, 12)\n",
            "(418, 11)\n"
          ],
          "name": "stdout"
        }
      ]
    },
    {
      "cell_type": "code",
      "metadata": {
        "id": "PsDn25pJbMJf",
        "colab_type": "code",
        "outputId": "133796c6-94eb-46ea-eae9-35358c998929",
        "colab": {
          "base_uri": "https://localhost:8080/",
          "height": 306
        }
      },
      "source": [
        "datatrain.info()"
      ],
      "execution_count": 0,
      "outputs": [
        {
          "output_type": "stream",
          "text": [
            "<class 'pandas.core.frame.DataFrame'>\n",
            "RangeIndex: 891 entries, 0 to 890\n",
            "Data columns (total 12 columns):\n",
            "PassengerId    891 non-null int64\n",
            "Survived       891 non-null int64\n",
            "Pclass         891 non-null int64\n",
            "Name           891 non-null object\n",
            "Sex            891 non-null object\n",
            "Age            714 non-null float64\n",
            "SibSp          891 non-null int64\n",
            "Parch          891 non-null int64\n",
            "Ticket         891 non-null object\n",
            "Fare           891 non-null float64\n",
            "Cabin          204 non-null object\n",
            "Embarked       889 non-null object\n",
            "dtypes: float64(2), int64(5), object(5)\n",
            "memory usage: 83.6+ KB\n"
          ],
          "name": "stdout"
        }
      ]
    },
    {
      "cell_type": "code",
      "metadata": {
        "id": "2zDsEyYjbOPF",
        "colab_type": "code",
        "outputId": "5a449461-e7bc-4a90-aeb2-2cb82e0235ab",
        "colab": {
          "base_uri": "https://localhost:8080/",
          "height": 459
        }
      },
      "source": [
        "print('Train columns with null values: {} \\n' .format( datatrain.isnull().sum()))\n",
        "\n",
        "print('Test columns with null values: {}'.format( datatest.isnull().sum()))"
      ],
      "execution_count": 0,
      "outputs": [
        {
          "output_type": "stream",
          "text": [
            "Train columns with null values: PassengerId      0\n",
            "Survived         0\n",
            "Pclass           0\n",
            "Name             0\n",
            "Sex              0\n",
            "Age            177\n",
            "SibSp            0\n",
            "Parch            0\n",
            "Ticket           0\n",
            "Fare             0\n",
            "Cabin          687\n",
            "Embarked         2\n",
            "dtype: int64 \n",
            "\n",
            "Test columns with null values: PassengerId      0\n",
            "Pclass           0\n",
            "Name             0\n",
            "Sex              0\n",
            "Age             86\n",
            "SibSp            0\n",
            "Parch            0\n",
            "Ticket           0\n",
            "Fare             1\n",
            "Cabin          327\n",
            "Embarked         0\n",
            "dtype: int64\n"
          ],
          "name": "stdout"
        }
      ]
    },
    {
      "cell_type": "code",
      "metadata": {
        "id": "tszf2P7kbaAW",
        "colab_type": "code",
        "outputId": "9e78fdf0-9401-4f45-bf48-a4d34c4cbe4d",
        "colab": {
          "base_uri": "https://localhost:8080/",
          "height": 297
        }
      },
      "source": [
        "datatrain.describe()"
      ],
      "execution_count": 0,
      "outputs": [
        {
          "output_type": "execute_result",
          "data": {
            "text/html": [
              "<div>\n",
              "<style scoped>\n",
              "    .dataframe tbody tr th:only-of-type {\n",
              "        vertical-align: middle;\n",
              "    }\n",
              "\n",
              "    .dataframe tbody tr th {\n",
              "        vertical-align: top;\n",
              "    }\n",
              "\n",
              "    .dataframe thead th {\n",
              "        text-align: right;\n",
              "    }\n",
              "</style>\n",
              "<table border=\"1\" class=\"dataframe\">\n",
              "  <thead>\n",
              "    <tr style=\"text-align: right;\">\n",
              "      <th></th>\n",
              "      <th>PassengerId</th>\n",
              "      <th>Survived</th>\n",
              "      <th>Pclass</th>\n",
              "      <th>Age</th>\n",
              "      <th>SibSp</th>\n",
              "      <th>Parch</th>\n",
              "      <th>Fare</th>\n",
              "    </tr>\n",
              "  </thead>\n",
              "  <tbody>\n",
              "    <tr>\n",
              "      <th>count</th>\n",
              "      <td>891.000000</td>\n",
              "      <td>891.000000</td>\n",
              "      <td>891.000000</td>\n",
              "      <td>714.000000</td>\n",
              "      <td>891.000000</td>\n",
              "      <td>891.000000</td>\n",
              "      <td>891.000000</td>\n",
              "    </tr>\n",
              "    <tr>\n",
              "      <th>mean</th>\n",
              "      <td>446.000000</td>\n",
              "      <td>0.383838</td>\n",
              "      <td>2.308642</td>\n",
              "      <td>29.699118</td>\n",
              "      <td>0.523008</td>\n",
              "      <td>0.381594</td>\n",
              "      <td>32.204208</td>\n",
              "    </tr>\n",
              "    <tr>\n",
              "      <th>std</th>\n",
              "      <td>257.353842</td>\n",
              "      <td>0.486592</td>\n",
              "      <td>0.836071</td>\n",
              "      <td>14.526497</td>\n",
              "      <td>1.102743</td>\n",
              "      <td>0.806057</td>\n",
              "      <td>49.693429</td>\n",
              "    </tr>\n",
              "    <tr>\n",
              "      <th>min</th>\n",
              "      <td>1.000000</td>\n",
              "      <td>0.000000</td>\n",
              "      <td>1.000000</td>\n",
              "      <td>0.420000</td>\n",
              "      <td>0.000000</td>\n",
              "      <td>0.000000</td>\n",
              "      <td>0.000000</td>\n",
              "    </tr>\n",
              "    <tr>\n",
              "      <th>25%</th>\n",
              "      <td>223.500000</td>\n",
              "      <td>0.000000</td>\n",
              "      <td>2.000000</td>\n",
              "      <td>20.125000</td>\n",
              "      <td>0.000000</td>\n",
              "      <td>0.000000</td>\n",
              "      <td>7.910400</td>\n",
              "    </tr>\n",
              "    <tr>\n",
              "      <th>50%</th>\n",
              "      <td>446.000000</td>\n",
              "      <td>0.000000</td>\n",
              "      <td>3.000000</td>\n",
              "      <td>28.000000</td>\n",
              "      <td>0.000000</td>\n",
              "      <td>0.000000</td>\n",
              "      <td>14.454200</td>\n",
              "    </tr>\n",
              "    <tr>\n",
              "      <th>75%</th>\n",
              "      <td>668.500000</td>\n",
              "      <td>1.000000</td>\n",
              "      <td>3.000000</td>\n",
              "      <td>38.000000</td>\n",
              "      <td>1.000000</td>\n",
              "      <td>0.000000</td>\n",
              "      <td>31.000000</td>\n",
              "    </tr>\n",
              "    <tr>\n",
              "      <th>max</th>\n",
              "      <td>891.000000</td>\n",
              "      <td>1.000000</td>\n",
              "      <td>3.000000</td>\n",
              "      <td>80.000000</td>\n",
              "      <td>8.000000</td>\n",
              "      <td>6.000000</td>\n",
              "      <td>512.329200</td>\n",
              "    </tr>\n",
              "  </tbody>\n",
              "</table>\n",
              "</div>"
            ],
            "text/plain": [
              "       PassengerId    Survived      Pclass         Age       SibSp  \\\n",
              "count   891.000000  891.000000  891.000000  714.000000  891.000000   \n",
              "mean    446.000000    0.383838    2.308642   29.699118    0.523008   \n",
              "std     257.353842    0.486592    0.836071   14.526497    1.102743   \n",
              "min       1.000000    0.000000    1.000000    0.420000    0.000000   \n",
              "25%     223.500000    0.000000    2.000000   20.125000    0.000000   \n",
              "50%     446.000000    0.000000    3.000000   28.000000    0.000000   \n",
              "75%     668.500000    1.000000    3.000000   38.000000    1.000000   \n",
              "max     891.000000    1.000000    3.000000   80.000000    8.000000   \n",
              "\n",
              "            Parch        Fare  \n",
              "count  891.000000  891.000000  \n",
              "mean     0.381594   32.204208  \n",
              "std      0.806057   49.693429  \n",
              "min      0.000000    0.000000  \n",
              "25%      0.000000    7.910400  \n",
              "50%      0.000000   14.454200  \n",
              "75%      0.000000   31.000000  \n",
              "max      6.000000  512.329200  "
            ]
          },
          "metadata": {
            "tags": []
          },
          "execution_count": 34
        }
      ]
    },
    {
      "cell_type": "code",
      "metadata": {
        "id": "1F458A_2boFX",
        "colab_type": "code",
        "colab": {}
      },
      "source": [
        "### we are compling the both data with median in Age, mode in Embarked and mediam in Fare\n",
        "\n",
        "#First datatrain\n",
        "\n",
        "datatrain['Age'].fillna(datatrain['Age'].median(), inplace = True)\n",
        "datatrain['Embarked'].fillna(datatrain['Embarked'].mode()[0], inplace = True)\n",
        "datatrain['Fare'].fillna(datatrain['Fare'].median(), inplace = True)\n",
        "\n",
        "#Now the datatest \n",
        "\n",
        "datatest['Age'].fillna(datatest['Age'].median(), inplace = True)\n",
        "datatest['Embarked'].fillna(datatest['Embarked'].mode()[0], inplace = True)\n",
        "datatest['Fare'].fillna(datatest['Fare'].median(), inplace = True)"
      ],
      "execution_count": 0,
      "outputs": []
    },
    {
      "cell_type": "code",
      "metadata": {
        "id": "n8QG7Qobb2zQ",
        "colab_type": "code",
        "outputId": "d724deec-678f-4df1-c721-e1782d3118a2",
        "colab": {
          "base_uri": "https://localhost:8080/",
          "height": 476
        }
      },
      "source": [
        "print('Train columns with null values: {} \\n' .format( datatrain.isnull().sum()))\n",
        "print(\"*************************************\")\n",
        "print('Test columns with null values: {}'.format( datatest.isnull().sum()))"
      ],
      "execution_count": 0,
      "outputs": [
        {
          "output_type": "stream",
          "text": [
            "Train columns with null values: PassengerId      0\n",
            "Survived         0\n",
            "Pclass           0\n",
            "Name             0\n",
            "Sex              0\n",
            "Age              0\n",
            "SibSp            0\n",
            "Parch            0\n",
            "Ticket           0\n",
            "Fare             0\n",
            "Cabin          687\n",
            "Embarked         0\n",
            "dtype: int64 \n",
            "\n",
            "*************************************\n",
            "Test columns with null values: PassengerId      0\n",
            "Pclass           0\n",
            "Name             0\n",
            "Sex              0\n",
            "Age              0\n",
            "SibSp            0\n",
            "Parch            0\n",
            "Ticket           0\n",
            "Fare             0\n",
            "Cabin          327\n",
            "Embarked         0\n",
            "dtype: int64\n"
          ],
          "name": "stdout"
        }
      ]
    },
    {
      "cell_type": "code",
      "metadata": {
        "id": "jVGK9vigcHBs",
        "colab_type": "code",
        "outputId": "aff01d84-1096-4540-8639-bd32693fa15f",
        "colab": {
          "base_uri": "https://localhost:8080/",
          "height": 357
        }
      },
      "source": [
        "#Now we are deleting the ['PassengerId','Cabin', 'Ticket'] COLUMNS\n",
        "drop_column = ['PassengerId','Cabin', 'Ticket']\n",
        "datatrain.drop(drop_column, axis=1, inplace = True)\n",
        "datatest.drop(drop_column, axis=1, inplace = True)\n",
        "datatrain.head()"
      ],
      "execution_count": 0,
      "outputs": [
        {
          "output_type": "error",
          "ename": "KeyError",
          "evalue": "ignored",
          "traceback": [
            "\u001b[0;31m---------------------------------------------------------------------------\u001b[0m",
            "\u001b[0;31mKeyError\u001b[0m                                  Traceback (most recent call last)",
            "\u001b[0;32m<ipython-input-38-9f85cd25b9e3>\u001b[0m in \u001b[0;36m<module>\u001b[0;34m()\u001b[0m\n\u001b[1;32m      1\u001b[0m \u001b[0mdrop_column\u001b[0m \u001b[0;34m=\u001b[0m \u001b[0;34m[\u001b[0m\u001b[0;34m'PassengerId'\u001b[0m\u001b[0;34m,\u001b[0m\u001b[0;34m'Cabin'\u001b[0m\u001b[0;34m,\u001b[0m \u001b[0;34m'Ticket'\u001b[0m\u001b[0;34m]\u001b[0m\u001b[0;34m\u001b[0m\u001b[0;34m\u001b[0m\u001b[0m\n\u001b[0;32m----> 2\u001b[0;31m \u001b[0mdatatrain\u001b[0m\u001b[0;34m.\u001b[0m\u001b[0mdrop\u001b[0m\u001b[0;34m(\u001b[0m\u001b[0mdrop_column\u001b[0m\u001b[0;34m,\u001b[0m \u001b[0maxis\u001b[0m\u001b[0;34m=\u001b[0m\u001b[0;36m1\u001b[0m\u001b[0;34m,\u001b[0m \u001b[0minplace\u001b[0m \u001b[0;34m=\u001b[0m \u001b[0;32mTrue\u001b[0m\u001b[0;34m)\u001b[0m\u001b[0;34m\u001b[0m\u001b[0;34m\u001b[0m\u001b[0m\n\u001b[0m\u001b[1;32m      3\u001b[0m \u001b[0mdatatest\u001b[0m\u001b[0;34m.\u001b[0m\u001b[0mdrop\u001b[0m\u001b[0;34m(\u001b[0m\u001b[0mdrop_column\u001b[0m\u001b[0;34m,\u001b[0m \u001b[0maxis\u001b[0m\u001b[0;34m=\u001b[0m\u001b[0;36m1\u001b[0m\u001b[0;34m,\u001b[0m \u001b[0minplace\u001b[0m \u001b[0;34m=\u001b[0m \u001b[0;32mTrue\u001b[0m\u001b[0;34m)\u001b[0m\u001b[0;34m\u001b[0m\u001b[0;34m\u001b[0m\u001b[0m\n\u001b[1;32m      4\u001b[0m \u001b[0mdatatrain\u001b[0m\u001b[0;34m.\u001b[0m\u001b[0mhead\u001b[0m\u001b[0;34m(\u001b[0m\u001b[0;34m)\u001b[0m\u001b[0;34m\u001b[0m\u001b[0;34m\u001b[0m\u001b[0m\n",
            "\u001b[0;32m/usr/local/lib/python3.6/dist-packages/pandas/core/frame.py\u001b[0m in \u001b[0;36mdrop\u001b[0;34m(self, labels, axis, index, columns, level, inplace, errors)\u001b[0m\n\u001b[1;32m   3938\u001b[0m                                            \u001b[0mindex\u001b[0m\u001b[0;34m=\u001b[0m\u001b[0mindex\u001b[0m\u001b[0;34m,\u001b[0m \u001b[0mcolumns\u001b[0m\u001b[0;34m=\u001b[0m\u001b[0mcolumns\u001b[0m\u001b[0;34m,\u001b[0m\u001b[0;34m\u001b[0m\u001b[0;34m\u001b[0m\u001b[0m\n\u001b[1;32m   3939\u001b[0m                                            \u001b[0mlevel\u001b[0m\u001b[0;34m=\u001b[0m\u001b[0mlevel\u001b[0m\u001b[0;34m,\u001b[0m \u001b[0minplace\u001b[0m\u001b[0;34m=\u001b[0m\u001b[0minplace\u001b[0m\u001b[0;34m,\u001b[0m\u001b[0;34m\u001b[0m\u001b[0;34m\u001b[0m\u001b[0m\n\u001b[0;32m-> 3940\u001b[0;31m                                            errors=errors)\n\u001b[0m\u001b[1;32m   3941\u001b[0m \u001b[0;34m\u001b[0m\u001b[0m\n\u001b[1;32m   3942\u001b[0m     @rewrite_axis_style_signature('mapper', [('copy', True),\n",
            "\u001b[0;32m/usr/local/lib/python3.6/dist-packages/pandas/core/generic.py\u001b[0m in \u001b[0;36mdrop\u001b[0;34m(self, labels, axis, index, columns, level, inplace, errors)\u001b[0m\n\u001b[1;32m   3778\u001b[0m         \u001b[0;32mfor\u001b[0m \u001b[0maxis\u001b[0m\u001b[0;34m,\u001b[0m \u001b[0mlabels\u001b[0m \u001b[0;32min\u001b[0m \u001b[0maxes\u001b[0m\u001b[0;34m.\u001b[0m\u001b[0mitems\u001b[0m\u001b[0;34m(\u001b[0m\u001b[0;34m)\u001b[0m\u001b[0;34m:\u001b[0m\u001b[0;34m\u001b[0m\u001b[0;34m\u001b[0m\u001b[0m\n\u001b[1;32m   3779\u001b[0m             \u001b[0;32mif\u001b[0m \u001b[0mlabels\u001b[0m \u001b[0;32mis\u001b[0m \u001b[0;32mnot\u001b[0m \u001b[0;32mNone\u001b[0m\u001b[0;34m:\u001b[0m\u001b[0;34m\u001b[0m\u001b[0;34m\u001b[0m\u001b[0m\n\u001b[0;32m-> 3780\u001b[0;31m                 \u001b[0mobj\u001b[0m \u001b[0;34m=\u001b[0m \u001b[0mobj\u001b[0m\u001b[0;34m.\u001b[0m\u001b[0m_drop_axis\u001b[0m\u001b[0;34m(\u001b[0m\u001b[0mlabels\u001b[0m\u001b[0;34m,\u001b[0m \u001b[0maxis\u001b[0m\u001b[0;34m,\u001b[0m \u001b[0mlevel\u001b[0m\u001b[0;34m=\u001b[0m\u001b[0mlevel\u001b[0m\u001b[0;34m,\u001b[0m \u001b[0merrors\u001b[0m\u001b[0;34m=\u001b[0m\u001b[0merrors\u001b[0m\u001b[0;34m)\u001b[0m\u001b[0;34m\u001b[0m\u001b[0;34m\u001b[0m\u001b[0m\n\u001b[0m\u001b[1;32m   3781\u001b[0m \u001b[0;34m\u001b[0m\u001b[0m\n\u001b[1;32m   3782\u001b[0m         \u001b[0;32mif\u001b[0m \u001b[0minplace\u001b[0m\u001b[0;34m:\u001b[0m\u001b[0;34m\u001b[0m\u001b[0;34m\u001b[0m\u001b[0m\n",
            "\u001b[0;32m/usr/local/lib/python3.6/dist-packages/pandas/core/generic.py\u001b[0m in \u001b[0;36m_drop_axis\u001b[0;34m(self, labels, axis, level, errors)\u001b[0m\n\u001b[1;32m   3810\u001b[0m                 \u001b[0mnew_axis\u001b[0m \u001b[0;34m=\u001b[0m \u001b[0maxis\u001b[0m\u001b[0;34m.\u001b[0m\u001b[0mdrop\u001b[0m\u001b[0;34m(\u001b[0m\u001b[0mlabels\u001b[0m\u001b[0;34m,\u001b[0m \u001b[0mlevel\u001b[0m\u001b[0;34m=\u001b[0m\u001b[0mlevel\u001b[0m\u001b[0;34m,\u001b[0m \u001b[0merrors\u001b[0m\u001b[0;34m=\u001b[0m\u001b[0merrors\u001b[0m\u001b[0;34m)\u001b[0m\u001b[0;34m\u001b[0m\u001b[0;34m\u001b[0m\u001b[0m\n\u001b[1;32m   3811\u001b[0m             \u001b[0;32melse\u001b[0m\u001b[0;34m:\u001b[0m\u001b[0;34m\u001b[0m\u001b[0;34m\u001b[0m\u001b[0m\n\u001b[0;32m-> 3812\u001b[0;31m                 \u001b[0mnew_axis\u001b[0m \u001b[0;34m=\u001b[0m \u001b[0maxis\u001b[0m\u001b[0;34m.\u001b[0m\u001b[0mdrop\u001b[0m\u001b[0;34m(\u001b[0m\u001b[0mlabels\u001b[0m\u001b[0;34m,\u001b[0m \u001b[0merrors\u001b[0m\u001b[0;34m=\u001b[0m\u001b[0merrors\u001b[0m\u001b[0;34m)\u001b[0m\u001b[0;34m\u001b[0m\u001b[0;34m\u001b[0m\u001b[0m\n\u001b[0m\u001b[1;32m   3813\u001b[0m             \u001b[0mresult\u001b[0m \u001b[0;34m=\u001b[0m \u001b[0mself\u001b[0m\u001b[0;34m.\u001b[0m\u001b[0mreindex\u001b[0m\u001b[0;34m(\u001b[0m\u001b[0;34m**\u001b[0m\u001b[0;34m{\u001b[0m\u001b[0maxis_name\u001b[0m\u001b[0;34m:\u001b[0m \u001b[0mnew_axis\u001b[0m\u001b[0;34m}\u001b[0m\u001b[0;34m)\u001b[0m\u001b[0;34m\u001b[0m\u001b[0;34m\u001b[0m\u001b[0m\n\u001b[1;32m   3814\u001b[0m \u001b[0;34m\u001b[0m\u001b[0m\n",
            "\u001b[0;32m/usr/local/lib/python3.6/dist-packages/pandas/core/indexes/base.py\u001b[0m in \u001b[0;36mdrop\u001b[0;34m(self, labels, errors)\u001b[0m\n\u001b[1;32m   4963\u001b[0m             \u001b[0;32mif\u001b[0m \u001b[0merrors\u001b[0m \u001b[0;34m!=\u001b[0m \u001b[0;34m'ignore'\u001b[0m\u001b[0;34m:\u001b[0m\u001b[0;34m\u001b[0m\u001b[0;34m\u001b[0m\u001b[0m\n\u001b[1;32m   4964\u001b[0m                 raise KeyError(\n\u001b[0;32m-> 4965\u001b[0;31m                     '{} not found in axis'.format(labels[mask]))\n\u001b[0m\u001b[1;32m   4966\u001b[0m             \u001b[0mindexer\u001b[0m \u001b[0;34m=\u001b[0m \u001b[0mindexer\u001b[0m\u001b[0;34m[\u001b[0m\u001b[0;34m~\u001b[0m\u001b[0mmask\u001b[0m\u001b[0;34m]\u001b[0m\u001b[0;34m\u001b[0m\u001b[0;34m\u001b[0m\u001b[0m\n\u001b[1;32m   4967\u001b[0m         \u001b[0;32mreturn\u001b[0m \u001b[0mself\u001b[0m\u001b[0;34m.\u001b[0m\u001b[0mdelete\u001b[0m\u001b[0;34m(\u001b[0m\u001b[0mindexer\u001b[0m\u001b[0;34m)\u001b[0m\u001b[0;34m\u001b[0m\u001b[0;34m\u001b[0m\u001b[0m\n",
            "\u001b[0;31mKeyError\u001b[0m: \"['PassengerId' 'Cabin' 'Ticket'] not found in axis\""
          ]
        }
      ]
    },
    {
      "cell_type": "code",
      "metadata": {
        "id": "pSReIyW2cX1c",
        "colab_type": "code",
        "outputId": "c1afc5d2-e98d-4bc8-f462-c74de8b24a2b",
        "colab": {
          "base_uri": "https://localhost:8080/",
          "height": 1000
        }
      },
      "source": [
        "alltables = [datatrain, datatest]\n",
        "\n",
        "for dataset in alltables:    \n",
        "    #Discrete variables\n",
        "    dataset['FamilySize'] = dataset ['SibSp'] + dataset['Parch'] + 1\n",
        "\n",
        "    dataset['IsAlone'] = 1 #initialize to yes/1 is alone\n",
        "    dataset['IsAlone'].loc[dataset['FamilySize'] > 1] = 0 # now update to no/0 if family size is greater than 1\n",
        "\n",
        "    #quick and dirty code split title from name: http://www.pythonforbeginners.com/dictionary/python-split\n",
        "    dataset['Title'] = dataset['Name'].str.split(\", \", expand=True)[1].str.split(\".\", expand=True)[0]\n",
        "\n",
        "\n",
        "    #Continuous variable bins; qcut vs cut: https://stackoverflow.com/questions/30211923/what-is-the-difference-between-pandas-qcut-and-pandas-cut\n",
        "    #Fare Bins/Buckets using qcut or frequency bins: https://pandas.pydata.org/pandas-docs/stable/generated/pandas.qcut.html\n",
        "    dataset['FareBin'] = pd.qcut(dataset['Fare'], 4)\n",
        "\n",
        "    #Age Bins/Buckets using cut or value bins: https://pandas.pydata.org/pandas-docs/stable/generated/pandas.cut.html\n",
        "    dataset['AgeBin'] = pd.cut(dataset['Age'].astype(int), 5)\n",
        "\n",
        "\n",
        "    \n",
        "#cleanup rare title names\n",
        "#print(data1['Title'].value_counts())\n",
        "stat_min = 10 #while small is arbitrary, we'll use the common minimum in statistics: http://nicholasjjackson.com/2012/03/08/sample-size-is-10-a-magic-number/\n",
        "title_names = (datatrain['Title'].value_counts() < stat_min) #this will create a true false series with title name as index\n",
        "\n",
        "#apply and lambda functions are quick and dirty code to find and replace with fewer lines of code: https://community.modeanalytics.com/python/tutorial/pandas-groupby-and-python-lambda-functions/\n",
        "datatrain['Title'] = datatrain['Title'].apply(lambda x: 'Misc' if title_names.loc[x] == True else x)\n",
        "print(datatrain['Title'].value_counts())\n",
        "print(\"----------\")\n",
        "\n",
        "\n",
        "#preview data again\n",
        "datatrain.info()\n",
        "datatest.info()\n",
        "datatrain.head()"
      ],
      "execution_count": 0,
      "outputs": [
        {
          "output_type": "stream",
          "text": [
            "Mr        517\n",
            "Miss      182\n",
            "Mrs       125\n",
            "Master     40\n",
            "Misc       27\n",
            "Name: Title, dtype: int64\n",
            "----------\n",
            "<class 'pandas.core.frame.DataFrame'>\n",
            "RangeIndex: 891 entries, 0 to 890\n",
            "Data columns (total 14 columns):\n",
            "Survived      891 non-null int64\n",
            "Pclass        891 non-null int64\n",
            "Name          891 non-null object\n",
            "Sex           891 non-null object\n",
            "Age           891 non-null float64\n",
            "SibSp         891 non-null int64\n",
            "Parch         891 non-null int64\n",
            "Fare          891 non-null float64\n",
            "Embarked      891 non-null object\n",
            "FamilySize    891 non-null int64\n",
            "IsAlone       891 non-null int64\n",
            "Title         891 non-null object\n",
            "FareBin       891 non-null category\n",
            "AgeBin        891 non-null category\n",
            "dtypes: category(2), float64(2), int64(6), object(4)\n",
            "memory usage: 85.5+ KB\n",
            "<class 'pandas.core.frame.DataFrame'>\n",
            "RangeIndex: 418 entries, 0 to 417\n",
            "Data columns (total 13 columns):\n",
            "Pclass        418 non-null int64\n",
            "Name          418 non-null object\n",
            "Sex           418 non-null object\n",
            "Age           418 non-null float64\n",
            "SibSp         418 non-null int64\n",
            "Parch         418 non-null int64\n",
            "Fare          418 non-null float64\n",
            "Embarked      418 non-null object\n",
            "FamilySize    418 non-null int64\n",
            "IsAlone       418 non-null int64\n",
            "Title         418 non-null object\n",
            "FareBin       418 non-null category\n",
            "AgeBin        418 non-null category\n",
            "dtypes: category(2), float64(2), int64(5), object(4)\n",
            "memory usage: 37.0+ KB\n"
          ],
          "name": "stdout"
        },
        {
          "output_type": "execute_result",
          "data": {
            "text/html": [
              "<div>\n",
              "<style scoped>\n",
              "    .dataframe tbody tr th:only-of-type {\n",
              "        vertical-align: middle;\n",
              "    }\n",
              "\n",
              "    .dataframe tbody tr th {\n",
              "        vertical-align: top;\n",
              "    }\n",
              "\n",
              "    .dataframe thead th {\n",
              "        text-align: right;\n",
              "    }\n",
              "</style>\n",
              "<table border=\"1\" class=\"dataframe\">\n",
              "  <thead>\n",
              "    <tr style=\"text-align: right;\">\n",
              "      <th></th>\n",
              "      <th>Survived</th>\n",
              "      <th>Pclass</th>\n",
              "      <th>Name</th>\n",
              "      <th>Sex</th>\n",
              "      <th>Age</th>\n",
              "      <th>SibSp</th>\n",
              "      <th>Parch</th>\n",
              "      <th>Fare</th>\n",
              "      <th>Embarked</th>\n",
              "      <th>FamilySize</th>\n",
              "      <th>IsAlone</th>\n",
              "      <th>Title</th>\n",
              "      <th>FareBin</th>\n",
              "      <th>AgeBin</th>\n",
              "    </tr>\n",
              "  </thead>\n",
              "  <tbody>\n",
              "    <tr>\n",
              "      <th>0</th>\n",
              "      <td>0</td>\n",
              "      <td>3</td>\n",
              "      <td>Braund, Mr. Owen Harris</td>\n",
              "      <td>male</td>\n",
              "      <td>22.0</td>\n",
              "      <td>1</td>\n",
              "      <td>0</td>\n",
              "      <td>7.2500</td>\n",
              "      <td>S</td>\n",
              "      <td>2</td>\n",
              "      <td>0</td>\n",
              "      <td>Mr</td>\n",
              "      <td>(-0.001, 7.91]</td>\n",
              "      <td>(16.0, 32.0]</td>\n",
              "    </tr>\n",
              "    <tr>\n",
              "      <th>1</th>\n",
              "      <td>1</td>\n",
              "      <td>1</td>\n",
              "      <td>Cumings, Mrs. John Bradley (Florence Briggs Th...</td>\n",
              "      <td>female</td>\n",
              "      <td>38.0</td>\n",
              "      <td>1</td>\n",
              "      <td>0</td>\n",
              "      <td>71.2833</td>\n",
              "      <td>C</td>\n",
              "      <td>2</td>\n",
              "      <td>0</td>\n",
              "      <td>Mrs</td>\n",
              "      <td>(31.0, 512.329]</td>\n",
              "      <td>(32.0, 48.0]</td>\n",
              "    </tr>\n",
              "    <tr>\n",
              "      <th>2</th>\n",
              "      <td>1</td>\n",
              "      <td>3</td>\n",
              "      <td>Heikkinen, Miss. Laina</td>\n",
              "      <td>female</td>\n",
              "      <td>26.0</td>\n",
              "      <td>0</td>\n",
              "      <td>0</td>\n",
              "      <td>7.9250</td>\n",
              "      <td>S</td>\n",
              "      <td>1</td>\n",
              "      <td>1</td>\n",
              "      <td>Miss</td>\n",
              "      <td>(7.91, 14.454]</td>\n",
              "      <td>(16.0, 32.0]</td>\n",
              "    </tr>\n",
              "    <tr>\n",
              "      <th>3</th>\n",
              "      <td>1</td>\n",
              "      <td>1</td>\n",
              "      <td>Futrelle, Mrs. Jacques Heath (Lily May Peel)</td>\n",
              "      <td>female</td>\n",
              "      <td>35.0</td>\n",
              "      <td>1</td>\n",
              "      <td>0</td>\n",
              "      <td>53.1000</td>\n",
              "      <td>S</td>\n",
              "      <td>2</td>\n",
              "      <td>0</td>\n",
              "      <td>Mrs</td>\n",
              "      <td>(31.0, 512.329]</td>\n",
              "      <td>(32.0, 48.0]</td>\n",
              "    </tr>\n",
              "    <tr>\n",
              "      <th>4</th>\n",
              "      <td>0</td>\n",
              "      <td>3</td>\n",
              "      <td>Allen, Mr. William Henry</td>\n",
              "      <td>male</td>\n",
              "      <td>35.0</td>\n",
              "      <td>0</td>\n",
              "      <td>0</td>\n",
              "      <td>8.0500</td>\n",
              "      <td>S</td>\n",
              "      <td>1</td>\n",
              "      <td>1</td>\n",
              "      <td>Mr</td>\n",
              "      <td>(7.91, 14.454]</td>\n",
              "      <td>(32.0, 48.0]</td>\n",
              "    </tr>\n",
              "  </tbody>\n",
              "</table>\n",
              "</div>"
            ],
            "text/plain": [
              "   Survived  Pclass                                               Name  \\\n",
              "0         0       3                            Braund, Mr. Owen Harris   \n",
              "1         1       1  Cumings, Mrs. John Bradley (Florence Briggs Th...   \n",
              "2         1       3                             Heikkinen, Miss. Laina   \n",
              "3         1       1       Futrelle, Mrs. Jacques Heath (Lily May Peel)   \n",
              "4         0       3                           Allen, Mr. William Henry   \n",
              "\n",
              "      Sex   Age  SibSp  Parch     Fare Embarked  FamilySize  IsAlone Title  \\\n",
              "0    male  22.0      1      0   7.2500        S           2        0    Mr   \n",
              "1  female  38.0      1      0  71.2833        C           2        0   Mrs   \n",
              "2  female  26.0      0      0   7.9250        S           1        1  Miss   \n",
              "3  female  35.0      1      0  53.1000        S           2        0   Mrs   \n",
              "4    male  35.0      0      0   8.0500        S           1        1    Mr   \n",
              "\n",
              "           FareBin        AgeBin  \n",
              "0   (-0.001, 7.91]  (16.0, 32.0]  \n",
              "1  (31.0, 512.329]  (32.0, 48.0]  \n",
              "2   (7.91, 14.454]  (16.0, 32.0]  \n",
              "3  (31.0, 512.329]  (32.0, 48.0]  \n",
              "4   (7.91, 14.454]  (32.0, 48.0]  "
            ]
          },
          "metadata": {
            "tags": []
          },
          "execution_count": 39
        }
      ]
    },
    {
      "cell_type": "code",
      "metadata": {
        "id": "ZSOqjnCKcgkV",
        "colab_type": "code",
        "outputId": "9e23fdbe-ebcf-4030-9cc1-ea7442eaf8fe",
        "colab": {
          "base_uri": "https://localhost:8080/",
          "height": 34
        }
      },
      "source": [
        "sns.countplot(x=\"Survived\", data=datatrain)  # How many people survived"
      ],
      "execution_count": 0,
      "outputs": [
        {
          "output_type": "execute_result",
          "data": {
            "text/plain": [
              "<matplotlib.axes._subplots.AxesSubplot at 0x7f2d78d24ba8>"
            ]
          },
          "metadata": {
            "tags": []
          },
          "execution_count": 40
        },
        {
          "output_type": "display_data",
          "data": {
            "image/png": "[encoded data removed]",
            "text/plain": [
              "<Figure size 432x288 with 1 Axes>"
            ]
          },
          "metadata": {
            "tags": []
          }
        }
      ]
    },
    {
      "cell_type": "code",
      "metadata": {
        "id": "ZnNDm2DCcoA8",
        "colab_type": "code",
        "outputId": "090161d3-8734-44dd-c0da-0813db58b33c",
        "colab": {
          "base_uri": "https://localhost:8080/",
          "height": 17
        }
      },
      "source": [
        "#graph individual features by survival\n",
        "fig, saxis = plt.subplots(2, 2,figsize=(16,12))\n",
        "\n",
        "sns.countplot(x='Survived', hue=\"Embarked\", data=datatrain,ax = saxis[0,0])   \n",
        "sns.countplot(x='Survived', hue=\"IsAlone\", data=datatrain,ax = saxis[0,1])\n",
        "sns.countplot(x=\"Survived\", hue=\"Pclass\", data=datatrain, ax = saxis[1,0])\n",
        "sns.countplot(x=\"Survived\", hue=\"Sex\", data=datatrain, ax = saxis[1,1])\n",
        "plt.show()"
      ],
      "execution_count": 0,
      "outputs": [
        {
          "output_type": "display_data",
          "data": {
            "image/png": "[encoded data removed]",
            "text/plain": [
              "<Figure size 1152x864 with 4 Axes>"
            ]
          },
          "metadata": {
            "tags": []
          }
        }
      ]
    },
    {
      "cell_type": "code",
      "metadata": {
        "id": "lHagcsMfdDrB",
        "colab_type": "code",
        "outputId": "faefbacc-1b25-4ec6-fe2e-543841567ea7",
        "colab": {
          "base_uri": "https://localhost:8080/",
          "height": 17
        }
      },
      "source": [
        "fig, (axis1,axis2,axis3) = plt.subplots(1,3,figsize=(14,12))\n",
        "\n",
        "sns.boxplot(x = 'Pclass', y = 'Fare', hue = 'Survived', data = datatrain, ax = axis1)\n",
        "axis1.set_title('Pclass vs Fare Survival Comparison')\n",
        "\n",
        "sns.violinplot(x = 'Pclass', y = 'Age', hue = 'Survived', data = datatrain, split = True, ax = axis2)\n",
        "axis2.set_title('Pclass vs Age Survival Comparison')\n",
        "\n",
        "sns.boxplot(x = 'Pclass', y ='FamilySize', hue = 'Survived', data = datatrain, ax = axis3)\n",
        "axis3.set_title('Pclass vs Family Size Survival Comparison')\n",
        "plt.show()"
      ],
      "execution_count": 0,
      "outputs": [
        {
          "output_type": "display_data",
          "data": {
            "image/png": "[encoded data removed]",
            "text/plain": [
              "<Figure size 1008x864 with 3 Axes>"
            ]
          },
          "metadata": {
            "tags": []
          }
        }
      ]
    },
    {
      "cell_type": "code",
      "metadata": {
        "id": "U9XBqKNfdVGn",
        "colab_type": "code",
        "outputId": "82deba81-4cf1-4e57-b0d1-4c9e1dfdb515",
        "colab": {
          "base_uri": "https://localhost:8080/",
          "height": 34
        }
      },
      "source": [
        "#plot distributions of age of passengers who survived or did not survive\n",
        "a = sns.FacetGrid( datatrain, hue = 'Survived', aspect=4 )\n",
        "a.map(sns.kdeplot, 'Age', shade= True )\n",
        "a.set(xlim=(0 , datatrain['Age'].max()))\n",
        "a.add_legend()"
      ],
      "execution_count": 0,
      "outputs": [
        {
          "output_type": "execute_result",
          "data": {
            "text/plain": [
              "<seaborn.axisgrid.FacetGrid at 0x7f2d748b6da0>"
            ]
          },
          "metadata": {
            "tags": []
          },
          "execution_count": 46
        },
        {
          "output_type": "display_data",
          "data": {
            "image/png": "[encoded data removed]",
            "text/plain": [
              "<Figure size 915.875x216 with 1 Axes>"
            ]
          },
          "metadata": {
            "tags": []
          }
        }
      ]
    },
    {
      "cell_type": "code",
      "metadata": {
        "id": "S9Smdw2Edpcv",
        "colab_type": "code",
        "outputId": "965633e6-5434-422e-b196-f75debff7076",
        "colab": {
          "base_uri": "https://localhost:8080/",
          "height": 326
        }
      },
      "source": [
        "#code categorical data\n",
        "label = LabelEncoder()\n",
        "\n",
        "for dataset in alltables:    \n",
        "    dataset['Sex_Code'] = label.fit_transform(dataset['Sex'])\n",
        "    dataset['Embarked_Code'] = label.fit_transform(dataset['Embarked'])\n",
        "    dataset['Title_Code'] = label.fit_transform(dataset['Title'])\n",
        "    dataset['AgeBin_Code'] = label.fit_transform(dataset['AgeBin'])\n",
        "    dataset['FareBin_Code'] = label.fit_transform(dataset['FareBin'])\n",
        "\n",
        "\n",
        "#define y variable aka target/outcome\n",
        "Target = ['Survived']\n",
        "\n",
        "#define x variables for original features aka feature selection\n",
        "datatrain_x = ['Sex','Pclass', 'Embarked', 'Title','SibSp', 'Parch', 'Age', 'Fare', 'FamilySize', 'IsAlone'] #pretty name/values for charts\n",
        "datatrain_x_calc = ['Sex_Code','Pclass', 'Embarked_Code', 'Title_Code','SibSp', 'Parch', 'Age', 'Fare'] #coded for algorithm calculation\n",
        "datatrain_xy =  Target + datatrain_x\n",
        "print('Original X Y: ', datatrain_xy, '\\n')\n",
        "\n",
        "\n",
        "#define x variables for original w/bin features to remove continuous variables\n",
        "datatrain_x_bin = ['Sex_Code','Pclass', 'Embarked_Code', 'Title_Code', 'FamilySize', 'AgeBin_Code', 'FareBin_Code']\n",
        "datatrain_xy_bin = Target + datatrain_x_bin\n",
        "print('Bin X Y: ', datatrain_xy_bin, '\\n')\n",
        "\n",
        "\n",
        "#define x and y variables for dummy features original\n",
        "datatrain_dummy = pd.get_dummies(datatrain[datatrain_x])\n",
        "datatrain_x_dummy = datatrain_dummy.columns.tolist()\n",
        "datatrain_xy_dummy = Target + datatrain_x_dummy\n",
        "print('Dummy X Y: ', datatrain_xy_dummy, '\\n')\n",
        "\n",
        "datatrain_dummy.head()"
      ],
      "execution_count": 0,
      "outputs": [
        {
          "output_type": "stream",
          "text": [
            "Original X Y:  ['Survived', 'Sex', 'Pclass', 'Embarked', 'Title', 'SibSp', 'Parch', 'Age', 'Fare', 'FamilySize', 'IsAlone'] \n",
            "\n",
            "Bin X Y:  ['Survived', 'Sex_Code', 'Pclass', 'Embarked_Code', 'Title_Code', 'FamilySize', 'AgeBin_Code', 'FareBin_Code'] \n",
            "\n",
            "Dummy X Y:  ['Survived', 'Pclass', 'SibSp', 'Parch', 'Age', 'Fare', 'FamilySize', 'IsAlone', 'Sex_female', 'Sex_male', 'Embarked_C', 'Embarked_Q', 'Embarked_S', 'Title_Master', 'Title_Misc', 'Title_Miss', 'Title_Mr', 'Title_Mrs'] \n",
            "\n"
          ],
          "name": "stdout"
        },
        {
          "output_type": "execute_result",
          "data": {
            "text/html": [
              "<div>\n",
              "<style scoped>\n",
              "    .dataframe tbody tr th:only-of-type {\n",
              "        vertical-align: middle;\n",
              "    }\n",
              "\n",
              "    .dataframe tbody tr th {\n",
              "        vertical-align: top;\n",
              "    }\n",
              "\n",
              "    .dataframe thead th {\n",
              "        text-align: right;\n",
              "    }\n",
              "</style>\n",
              "<table border=\"1\" class=\"dataframe\">\n",
              "  <thead>\n",
              "    <tr style=\"text-align: right;\">\n",
              "      <th></th>\n",
              "      <th>Pclass</th>\n",
              "      <th>SibSp</th>\n",
              "      <th>Parch</th>\n",
              "      <th>Age</th>\n",
              "      <th>Fare</th>\n",
              "      <th>FamilySize</th>\n",
              "      <th>IsAlone</th>\n",
              "      <th>Sex_female</th>\n",
              "      <th>Sex_male</th>\n",
              "      <th>Embarked_C</th>\n",
              "      <th>Embarked_Q</th>\n",
              "      <th>Embarked_S</th>\n",
              "      <th>Title_Master</th>\n",
              "      <th>Title_Misc</th>\n",
              "      <th>Title_Miss</th>\n",
              "      <th>Title_Mr</th>\n",
              "      <th>Title_Mrs</th>\n",
              "    </tr>\n",
              "  </thead>\n",
              "  <tbody>\n",
              "    <tr>\n",
              "      <th>0</th>\n",
              "      <td>3</td>\n",
              "      <td>1</td>\n",
              "      <td>0</td>\n",
              "      <td>22.0</td>\n",
              "      <td>7.2500</td>\n",
              "      <td>2</td>\n",
              "      <td>0</td>\n",
              "      <td>0</td>\n",
              "      <td>1</td>\n",
              "      <td>0</td>\n",
              "      <td>0</td>\n",
              "      <td>1</td>\n",
              "      <td>0</td>\n",
              "      <td>0</td>\n",
              "      <td>0</td>\n",
              "      <td>1</td>\n",
              "      <td>0</td>\n",
              "    </tr>\n",
              "    <tr>\n",
              "      <th>1</th>\n",
              "      <td>1</td>\n",
              "      <td>1</td>\n",
              "      <td>0</td>\n",
              "      <td>38.0</td>\n",
              "      <td>71.2833</td>\n",
              "      <td>2</td>\n",
              "      <td>0</td>\n",
              "      <td>1</td>\n",
              "      <td>0</td>\n",
              "      <td>1</td>\n",
              "      <td>0</td>\n",
              "      <td>0</td>\n",
              "      <td>0</td>\n",
              "      <td>0</td>\n",
              "      <td>0</td>\n",
              "      <td>0</td>\n",
              "      <td>1</td>\n",
              "    </tr>\n",
              "    <tr>\n",
              "      <th>2</th>\n",
              "      <td>3</td>\n",
              "      <td>0</td>\n",
              "      <td>0</td>\n",
              "      <td>26.0</td>\n",
              "      <td>7.9250</td>\n",
              "      <td>1</td>\n",
              "      <td>1</td>\n",
              "      <td>1</td>\n",
              "      <td>0</td>\n",
              "      <td>0</td>\n",
              "      <td>0</td>\n",
              "      <td>1</td>\n",
              "      <td>0</td>\n",
              "      <td>0</td>\n",
              "      <td>1</td>\n",
              "      <td>0</td>\n",
              "      <td>0</td>\n",
              "    </tr>\n",
              "    <tr>\n",
              "      <th>3</th>\n",
              "      <td>1</td>\n",
              "      <td>1</td>\n",
              "      <td>0</td>\n",
              "      <td>35.0</td>\n",
              "      <td>53.1000</td>\n",
              "      <td>2</td>\n",
              "      <td>0</td>\n",
              "      <td>1</td>\n",
              "      <td>0</td>\n",
              "      <td>0</td>\n",
              "      <td>0</td>\n",
              "      <td>1</td>\n",
              "      <td>0</td>\n",
              "      <td>0</td>\n",
              "      <td>0</td>\n",
              "      <td>0</td>\n",
              "      <td>1</td>\n",
              "    </tr>\n",
              "    <tr>\n",
              "      <th>4</th>\n",
              "      <td>3</td>\n",
              "      <td>0</td>\n",
              "      <td>0</td>\n",
              "      <td>35.0</td>\n",
              "      <td>8.0500</td>\n",
              "      <td>1</td>\n",
              "      <td>1</td>\n",
              "      <td>0</td>\n",
              "      <td>1</td>\n",
              "      <td>0</td>\n",
              "      <td>0</td>\n",
              "      <td>1</td>\n",
              "      <td>0</td>\n",
              "      <td>0</td>\n",
              "      <td>0</td>\n",
              "      <td>1</td>\n",
              "      <td>0</td>\n",
              "    </tr>\n",
              "  </tbody>\n",
              "</table>\n",
              "</div>"
            ],
            "text/plain": [
              "   Pclass  SibSp  Parch   Age     Fare  FamilySize  IsAlone  Sex_female  \\\n",
              "0       3      1      0  22.0   7.2500           2        0           0   \n",
              "1       1      1      0  38.0  71.2833           2        0           1   \n",
              "2       3      0      0  26.0   7.9250           1        1           1   \n",
              "3       1      1      0  35.0  53.1000           2        0           1   \n",
              "4       3      0      0  35.0   8.0500           1        1           0   \n",
              "\n",
              "   Sex_male  Embarked_C  Embarked_Q  Embarked_S  Title_Master  Title_Misc  \\\n",
              "0         1           0           0           1             0           0   \n",
              "1         0           1           0           0             0           0   \n",
              "2         0           0           0           1             0           0   \n",
              "3         0           0           0           1             0           0   \n",
              "4         1           0           0           1             0           0   \n",
              "\n",
              "   Title_Miss  Title_Mr  Title_Mrs  \n",
              "0           0         1          0  \n",
              "1           0         0          1  \n",
              "2           1         0          0  \n",
              "3           0         0          1  \n",
              "4           0         1          0  "
            ]
          },
          "metadata": {
            "tags": []
          },
          "execution_count": 47
        }
      ]
    },
    {
      "cell_type": "code",
      "metadata": {
        "id": "z8c2J3v8d0Lz",
        "colab_type": "code",
        "outputId": "11931be9-f39a-4d20-f3ab-5e6b0114a3f2",
        "colab": {
          "base_uri": "https://localhost:8080/",
          "height": 68
        }
      },
      "source": [
        "#split train and test data with function defaults\n",
        "\n",
        "\n",
        "train1_x_dummy, test1_x_dummy, train1_y_dummy, test1_y_dummy = train_test_split(datatrain[datatrain_x_calc], datatrain[Target], random_state = 0)\n",
        "train1_x_bin, test1_x_bin, train1_y_bin, test1_y_bin = model_selection.train_test_split(datatrain[datatrain_x_bin], datatrain[Target] , random_state = 0)\n",
        "\n",
        "print(\"DataTrain Shape: {}\".format(datatrain.shape))\n",
        "print(\"Train1 Shape: {}\".format(train1_x_dummy.shape))\n",
        "print(\"Test1 Shape: {}\".format(test1_x_dummy.shape))"
      ],
      "execution_count": 0,
      "outputs": [
        {
          "output_type": "stream",
          "text": [
            "DataTrain Shape: (891, 19)\n",
            "Train1 Shape: (668, 8)\n",
            "Test1 Shape: (223, 8)\n"
          ],
          "name": "stdout"
        }
      ]
    },
    {
      "cell_type": "code",
      "metadata": {
        "id": "-a73ETTod5q3",
        "colab_type": "code",
        "outputId": "05f1ec54-36e5-4c0e-a10a-170cac6b1339",
        "colab": {
          "base_uri": "https://localhost:8080/",
          "height": 204
        }
      },
      "source": [
        "train1_x_dummy.head()"
      ],
      "execution_count": 0,
      "outputs": [
        {
          "output_type": "execute_result",
          "data": {
            "text/html": [
              "<div>\n",
              "<style scoped>\n",
              "    .dataframe tbody tr th:only-of-type {\n",
              "        vertical-align: middle;\n",
              "    }\n",
              "\n",
              "    .dataframe tbody tr th {\n",
              "        vertical-align: top;\n",
              "    }\n",
              "\n",
              "    .dataframe thead th {\n",
              "        text-align: right;\n",
              "    }\n",
              "</style>\n",
              "<table border=\"1\" class=\"dataframe\">\n",
              "  <thead>\n",
              "    <tr style=\"text-align: right;\">\n",
              "      <th></th>\n",
              "      <th>Sex_Code</th>\n",
              "      <th>Pclass</th>\n",
              "      <th>Embarked_Code</th>\n",
              "      <th>Title_Code</th>\n",
              "      <th>SibSp</th>\n",
              "      <th>Parch</th>\n",
              "      <th>Age</th>\n",
              "      <th>Fare</th>\n",
              "    </tr>\n",
              "  </thead>\n",
              "  <tbody>\n",
              "    <tr>\n",
              "      <th>105</th>\n",
              "      <td>1</td>\n",
              "      <td>3</td>\n",
              "      <td>2</td>\n",
              "      <td>3</td>\n",
              "      <td>0</td>\n",
              "      <td>0</td>\n",
              "      <td>28.0</td>\n",
              "      <td>7.8958</td>\n",
              "    </tr>\n",
              "    <tr>\n",
              "      <th>68</th>\n",
              "      <td>0</td>\n",
              "      <td>3</td>\n",
              "      <td>2</td>\n",
              "      <td>2</td>\n",
              "      <td>4</td>\n",
              "      <td>2</td>\n",
              "      <td>17.0</td>\n",
              "      <td>7.9250</td>\n",
              "    </tr>\n",
              "    <tr>\n",
              "      <th>253</th>\n",
              "      <td>1</td>\n",
              "      <td>3</td>\n",
              "      <td>2</td>\n",
              "      <td>3</td>\n",
              "      <td>1</td>\n",
              "      <td>0</td>\n",
              "      <td>30.0</td>\n",
              "      <td>16.1000</td>\n",
              "    </tr>\n",
              "    <tr>\n",
              "      <th>320</th>\n",
              "      <td>1</td>\n",
              "      <td>3</td>\n",
              "      <td>2</td>\n",
              "      <td>3</td>\n",
              "      <td>0</td>\n",
              "      <td>0</td>\n",
              "      <td>22.0</td>\n",
              "      <td>7.2500</td>\n",
              "    </tr>\n",
              "    <tr>\n",
              "      <th>706</th>\n",
              "      <td>0</td>\n",
              "      <td>2</td>\n",
              "      <td>2</td>\n",
              "      <td>4</td>\n",
              "      <td>0</td>\n",
              "      <td>0</td>\n",
              "      <td>45.0</td>\n",
              "      <td>13.5000</td>\n",
              "    </tr>\n",
              "  </tbody>\n",
              "</table>\n",
              "</div>"
            ],
            "text/plain": [
              "     Sex_Code  Pclass  Embarked_Code  Title_Code  SibSp  Parch   Age     Fare\n",
              "105         1       3              2           3      0      0  28.0   7.8958\n",
              "68          0       3              2           2      4      2  17.0   7.9250\n",
              "253         1       3              2           3      1      0  30.0  16.1000\n",
              "320         1       3              2           3      0      0  22.0   7.2500\n",
              "706         0       2              2           4      0      0  45.0  13.5000"
            ]
          },
          "metadata": {
            "tags": []
          },
          "execution_count": 49
        }
      ]
    },
    {
      "cell_type": "code",
      "metadata": {
        "id": "2eP97EaUeCXT",
        "colab_type": "code",
        "outputId": "0717e063-68ac-4b51-9103-109bded29e83",
        "colab": {
          "base_uri": "https://localhost:8080/",
          "height": 221
        }
      },
      "source": [
        "#RandonForest\n",
        "\n",
        "from sklearn.ensemble import RandomForestClassifier\n",
        "Model=RandomForestClassifier(max_depth=2)\n",
        "Model.fit(train1_x_dummy, train1_y_dummy)\n",
        "y_predR=Model.predict(test1_x_dummy)\n",
        "\n",
        "# Summary of the predictions made by the classifier\n",
        "print(classification_report(test1_y_dummy,y_predR))\n",
        "print(confusion_matrix(y_predR,test1_y_dummy))\n",
        "#Accuracy Score\n",
        "print('accuracy is ',accuracy_score(y_predR,test1_y_dummy))\n",
        "\n",
        "RT = accuracy_score(y_predR,test1_y_dummy)"
      ],
      "execution_count": 0,
      "outputs": [
        {
          "output_type": "stream",
          "text": [
            "              precision    recall  f1-score   support\n",
            "\n",
            "           0       0.76      0.97      0.85       139\n",
            "           1       0.91      0.50      0.65        84\n",
            "\n",
            "    accuracy                           0.79       223\n",
            "   macro avg       0.84      0.74      0.75       223\n",
            "weighted avg       0.82      0.79      0.78       223\n",
            "\n",
            "[[135  42]\n",
            " [  4  42]]\n",
            "accuracy is  0.7937219730941704\n"
          ],
          "name": "stdout"
        }
      ]
    },
    {
      "cell_type": "code",
      "metadata": {
        "id": "uO7W6HaseKFB",
        "colab_type": "code",
        "outputId": "33ea9537-e0e4-497b-ded4-0204499d6e6e",
        "colab": {
          "base_uri": "https://localhost:8080/",
          "height": 221
        }
      },
      "source": [
        "# LogisticRegression\n",
        "from sklearn.linear_model import LogisticRegression\n",
        "Model = LogisticRegression()\n",
        "Model.fit(train1_x_dummy, train1_y_dummy)\n",
        "\n",
        "y_predLR = Model.predict(test1_x_dummy)\n",
        "\n",
        "# Summary of the predictions made by the classifier\n",
        "print(classification_report(test1_y_dummy, y_predLR))\n",
        "print(confusion_matrix(test1_y_dummy, y_predLR))\n",
        "# Accuracy score\n",
        "print('accuracy is',accuracy_score(y_predLR,test1_y_dummy))\n",
        "\n",
        "LR = accuracy_score(y_predLR,test1_y_dummy)"
      ],
      "execution_count": 0,
      "outputs": [
        {
          "output_type": "stream",
          "text": [
            "              precision    recall  f1-score   support\n",
            "\n",
            "           0       0.81      0.86      0.83       139\n",
            "           1       0.74      0.67      0.70        84\n",
            "\n",
            "    accuracy                           0.78       223\n",
            "   macro avg       0.77      0.76      0.77       223\n",
            "weighted avg       0.78      0.78      0.78       223\n",
            "\n",
            "[[119  20]\n",
            " [ 28  56]]\n",
            "accuracy is 0.7847533632286996\n"
          ],
          "name": "stdout"
        }
      ]
    },
    {
      "cell_type": "code",
      "metadata": {
        "id": "KdM1MOnFeO1u",
        "colab_type": "code",
        "outputId": "da6ac0dc-ea3e-4a0d-9128-20698aa8ad19",
        "colab": {
          "base_uri": "https://localhost:8080/",
          "height": 221
        }
      },
      "source": [
        "# K-Nearest Neighbours\n",
        "from sklearn.neighbors import KNeighborsClassifier\n",
        "\n",
        "Model = KNeighborsClassifier(n_neighbors=8)\n",
        "Model.fit(train1_x_dummy, train1_y_dummy)\n",
        "\n",
        "y_predKN = Model.predict(test1_x_dummy)\n",
        "\n",
        "# Summary of the predictions made by the classifier\n",
        "print(classification_report(test1_y_dummy, y_predKN))\n",
        "print(confusion_matrix(test1_y_dummy, y_predKN))\n",
        "# Accuracy score\n",
        "\n",
        "print('accuracy is',accuracy_score(y_predKN,test1_y_dummy))\n",
        "\n",
        "KNN = accuracy_score(y_predKN,test1_y_dummy)"
      ],
      "execution_count": 0,
      "outputs": [
        {
          "output_type": "stream",
          "text": [
            "              precision    recall  f1-score   support\n",
            "\n",
            "           0       0.70      0.89      0.79       139\n",
            "           1       0.68      0.38      0.49        84\n",
            "\n",
            "    accuracy                           0.70       223\n",
            "   macro avg       0.69      0.64      0.64       223\n",
            "weighted avg       0.70      0.70      0.67       223\n",
            "\n",
            "[[124  15]\n",
            " [ 52  32]]\n",
            "accuracy is 0.6995515695067265\n"
          ],
          "name": "stdout"
        }
      ]
    },
    {
      "cell_type": "code",
      "metadata": {
        "id": "PVhmhTUKeTh-",
        "colab_type": "code",
        "outputId": "0eca9631-0a7e-4913-a6b4-660785332c34",
        "colab": {
          "base_uri": "https://localhost:8080/",
          "height": 221
        }
      },
      "source": [
        "# Naive Bayes\n",
        "from sklearn.naive_bayes import GaussianNB\n",
        "Model = GaussianNB()\n",
        "Model.fit(train1_x_dummy, train1_y_dummy)\n",
        "\n",
        "y_predN = Model.predict(test1_x_dummy)\n",
        "\n",
        "# Summary of the predictions made by the classifier\n",
        "print(classification_report(test1_y_dummy, y_predN))\n",
        "print(confusion_matrix(test1_y_dummy, y_predN))\n",
        "# Accuracy score\n",
        "print('accuracy is',accuracy_score(y_predN,test1_y_dummy))\n",
        "\n",
        "NBB = accuracy_score(y_predN,test1_y_dummy)"
      ],
      "execution_count": 0,
      "outputs": [
        {
          "output_type": "stream",
          "text": [
            "              precision    recall  f1-score   support\n",
            "\n",
            "           0       0.87      0.78      0.83       139\n",
            "           1       0.69      0.81      0.75        84\n",
            "\n",
            "    accuracy                           0.79       223\n",
            "   macro avg       0.78      0.80      0.79       223\n",
            "weighted avg       0.80      0.79      0.80       223\n",
            "\n",
            "[[109  30]\n",
            " [ 16  68]]\n",
            "accuracy is 0.7937219730941704\n"
          ],
          "name": "stdout"
        }
      ]
    },
    {
      "cell_type": "code",
      "metadata": {
        "id": "hhDQ9ivLeYIN",
        "colab_type": "code",
        "outputId": "675c98d8-18a3-4c77-9c0c-4e22d420b05c",
        "colab": {
          "base_uri": "https://localhost:8080/",
          "height": 221
        }
      },
      "source": [
        "# Support Vector Machine\n",
        "from sklearn.svm import SVC\n",
        "\n",
        "Model = SVC()\n",
        "Model.fit(train1_x_dummy, train1_y_dummy)\n",
        "\n",
        "y_predSVM = Model.predict(test1_x_dummy)\n",
        "\n",
        "# Summary of the predictions made by the classifier\n",
        "print(classification_report(test1_y_dummy, y_predSVM))\n",
        "print(confusion_matrix(test1_y_dummy, y_predSVM))\n",
        "# Accuracy score\n",
        "\n",
        "print('accuracy is',accuracy_score(y_predSVM,test1_y_dummy))\n",
        "\n",
        "SVMm = accuracy_score(y_predSVM,test1_y_dummy)"
      ],
      "execution_count": 0,
      "outputs": [
        {
          "output_type": "stream",
          "text": [
            "              precision    recall  f1-score   support\n",
            "\n",
            "           0       0.78      0.81      0.80       139\n",
            "           1       0.67      0.63      0.65        84\n",
            "\n",
            "    accuracy                           0.74       223\n",
            "   macro avg       0.73      0.72      0.72       223\n",
            "weighted avg       0.74      0.74      0.74       223\n",
            "\n",
            "[[113  26]\n",
            " [ 31  53]]\n",
            "accuracy is 0.7443946188340808\n"
          ],
          "name": "stdout"
        }
      ]
    },
    {
      "cell_type": "code",
      "metadata": {
        "id": "didqr8h4ednh",
        "colab_type": "code",
        "outputId": "4bc6e96b-a117-4899-b2e2-3f07afcf22c5",
        "colab": {
          "base_uri": "https://localhost:8080/",
          "height": 221
        }
      },
      "source": [
        "# Support Vector Machine's \n",
        "from sklearn.svm import NuSVC\n",
        "\n",
        "ModelNU = NuSVC()\n",
        "ModelNU.fit(train1_x_dummy, train1_y_dummy)\n",
        "\n",
        "y_predNu = Model.predict(test1_x_dummy)\n",
        "\n",
        "# Summary of the predictions made by the classifier\n",
        "print(classification_report(test1_y_dummy, y_predNu))\n",
        "print(confusion_matrix(test1_y_dummy, y_predNu))\n",
        "# Accuracy score\n",
        "\n",
        "print('accuracy is',accuracy_score(y_predNu,test1_y_dummy))\n",
        "\n",
        "NuS = accuracy_score(y_predNu,test1_y_dummy)"
      ],
      "execution_count": 0,
      "outputs": [
        {
          "output_type": "stream",
          "text": [
            "              precision    recall  f1-score   support\n",
            "\n",
            "           0       0.78      0.81      0.80       139\n",
            "           1       0.67      0.63      0.65        84\n",
            "\n",
            "    accuracy                           0.74       223\n",
            "   macro avg       0.73      0.72      0.72       223\n",
            "weighted avg       0.74      0.74      0.74       223\n",
            "\n",
            "[[113  26]\n",
            " [ 31  53]]\n",
            "accuracy is 0.7443946188340808\n"
          ],
          "name": "stdout"
        }
      ]
    },
    {
      "cell_type": "code",
      "metadata": {
        "id": "RwJnoD1Bejje",
        "colab_type": "code",
        "outputId": "0d4ac6ed-4e68-4f39-c05b-cbc671794d4e",
        "colab": {
          "base_uri": "https://localhost:8080/",
          "height": 221
        }
      },
      "source": [
        "# Linear Support Vector Classification\n",
        "from sklearn.svm import LinearSVC\n",
        "\n",
        "Model = LinearSVC()\n",
        "Model.fit(train1_x_dummy, train1_y_dummy)\n",
        "\n",
        "y_pred = Model.predict(test1_x_dummy)\n",
        "\n",
        "# Summary of the predictions made by the classifier\n",
        "print(classification_report(test1_y_dummy, y_pred))\n",
        "print(confusion_matrix(test1_y_dummy, y_pred))\n",
        "# Accuracy score\n",
        "\n",
        "print('accuracy is',accuracy_score(y_pred,test1_y_dummy))\n",
        "\n",
        "LSVM = accuracy_score(y_pred,test1_y_dummy)"
      ],
      "execution_count": 0,
      "outputs": [
        {
          "output_type": "stream",
          "text": [
            "              precision    recall  f1-score   support\n",
            "\n",
            "           0       0.81      0.83      0.82       139\n",
            "           1       0.71      0.67      0.69        84\n",
            "\n",
            "    accuracy                           0.77       223\n",
            "   macro avg       0.76      0.75      0.75       223\n",
            "weighted avg       0.77      0.77      0.77       223\n",
            "\n",
            "[[116  23]\n",
            " [ 28  56]]\n",
            "accuracy is 0.7713004484304933\n"
          ],
          "name": "stdout"
        }
      ]
    },
    {
      "cell_type": "code",
      "metadata": {
        "id": "PJQfddONeqcs",
        "colab_type": "code",
        "outputId": "beeef8f5-f814-4b8b-d890-732ea489d17b",
        "colab": {
          "base_uri": "https://localhost:8080/",
          "height": 221
        }
      },
      "source": [
        "from sklearn.neighbors import  RadiusNeighborsClassifier\n",
        "Model=RadiusNeighborsClassifier(radius=148)\n",
        "Model.fit(train1_x_dummy, train1_y_dummy)\n",
        "y_pred=Model.predict(test1_x_dummy)\n",
        "\n",
        "#summary of the predictions made by the classifier\n",
        "print(classification_report(test1_y_dummy,y_pred))\n",
        "print(confusion_matrix(test1_y_dummy,y_pred))\n",
        "\n",
        "#Accouracy score\n",
        "print('accuracy is ', accuracy_score(test1_y_dummy,y_pred))\n",
        "\n",
        "RNC = accuracy_score(test1_y_dummy,y_pred)"
      ],
      "execution_count": 0,
      "outputs": [
        {
          "output_type": "stream",
          "text": [
            "              precision    recall  f1-score   support\n",
            "\n",
            "           0       0.64      0.99      0.78       139\n",
            "           1       0.86      0.07      0.13        84\n",
            "\n",
            "    accuracy                           0.65       223\n",
            "   macro avg       0.75      0.53      0.45       223\n",
            "weighted avg       0.72      0.65      0.53       223\n",
            "\n",
            "[[138   1]\n",
            " [ 78   6]]\n",
            "accuracy is  0.6457399103139013\n"
          ],
          "name": "stdout"
        }
      ]
    },
    {
      "cell_type": "code",
      "metadata": {
        "id": "abMbQ50jewrd",
        "colab_type": "code",
        "outputId": "6740fb85-ed0e-4473-dc65-b0e953b20247",
        "colab": {
          "base_uri": "https://localhost:8080/",
          "height": 221
        }
      },
      "source": [
        "from sklearn.linear_model import PassiveAggressiveClassifier\n",
        "Model = PassiveAggressiveClassifier()\n",
        "Model.fit(train1_x_dummy, train1_y_dummy)\n",
        "\n",
        "y_pred = Model.predict(test1_x_dummy)\n",
        "\n",
        "# Summary of the predictions made by the classifier\n",
        "print(classification_report(test1_y_dummy, y_pred))\n",
        "print(confusion_matrix(test1_y_dummy, y_pred))\n",
        "# Accuracy score\n",
        "print('accuracy is',accuracy_score(y_pred,test1_y_dummy))\n",
        "\n",
        "PAC = accuracy_score(y_pred,test1_y_dummy)"
      ],
      "execution_count": 0,
      "outputs": [
        {
          "output_type": "stream",
          "text": [
            "              precision    recall  f1-score   support\n",
            "\n",
            "           0       0.64      0.99      0.78       139\n",
            "           1       0.83      0.06      0.11        84\n",
            "\n",
            "    accuracy                           0.64       223\n",
            "   macro avg       0.73      0.53      0.44       223\n",
            "weighted avg       0.71      0.64      0.53       223\n",
            "\n",
            "[[138   1]\n",
            " [ 79   5]]\n",
            "accuracy is 0.6412556053811659\n"
          ],
          "name": "stdout"
        }
      ]
    },
    {
      "cell_type": "code",
      "metadata": {
        "id": "1ax0ElKce1nj",
        "colab_type": "code",
        "outputId": "ee5f12a4-6f1c-4b6d-804b-ce3ea4f90a46",
        "colab": {
          "base_uri": "https://localhost:8080/",
          "height": 221
        }
      },
      "source": [
        "# BernoulliNB\n",
        "from sklearn.naive_bayes import BernoulliNB\n",
        "Model = BernoulliNB()\n",
        "Model.fit(train1_x_dummy, train1_y_dummy)\n",
        "\n",
        "y_pred = Model.predict(test1_x_dummy)\n",
        "\n",
        "# Summary of the predictions made by the classifier\n",
        "print(classification_report(test1_y_dummy, y_pred))\n",
        "print(confusion_matrix(test1_y_dummy, y_pred))\n",
        "# Accuracy score\n",
        "print('accuracy is',accuracy_score(y_pred,test1_y_dummy))\n",
        "\n",
        "Ber = accuracy_score(y_pred,test1_y_dummy)"
      ],
      "execution_count": 0,
      "outputs": [
        {
          "output_type": "stream",
          "text": [
            "              precision    recall  f1-score   support\n",
            "\n",
            "           0       0.83      0.83      0.83       139\n",
            "           1       0.71      0.71      0.71        84\n",
            "\n",
            "    accuracy                           0.78       223\n",
            "   macro avg       0.77      0.77      0.77       223\n",
            "weighted avg       0.78      0.78      0.78       223\n",
            "\n",
            "[[115  24]\n",
            " [ 24  60]]\n",
            "accuracy is 0.7847533632286996\n"
          ],
          "name": "stdout"
        }
      ]
    },
    {
      "cell_type": "code",
      "metadata": {
        "id": "KPrU3pXke9c7",
        "colab_type": "code",
        "outputId": "dd451a19-ee76-4f40-9dd9-0dd393640a6a",
        "colab": {
          "base_uri": "https://localhost:8080/",
          "height": 221
        }
      },
      "source": [
        "# ExtraTreeClassifier\n",
        "from sklearn.tree import ExtraTreeClassifier\n",
        "\n",
        "Model = ExtraTreeClassifier()\n",
        "\n",
        "Model.fit(train1_x_dummy, train1_y_dummy)\n",
        "\n",
        "y_pred = Model.predict(test1_x_dummy)\n",
        "\n",
        "# Summary of the predictions made by the classifier\n",
        "print(classification_report(test1_y_dummy, y_pred))\n",
        "print(confusion_matrix(test1_y_dummy, y_pred))\n",
        "# Accuracy score\n",
        "print('accuracy is',accuracy_score(y_pred,test1_y_dummy))\n",
        "\n",
        "ETC = accuracy_score(y_pred,test1_y_dummy)"
      ],
      "execution_count": 0,
      "outputs": [
        {
          "output_type": "stream",
          "text": [
            "              precision    recall  f1-score   support\n",
            "\n",
            "           0       0.83      0.81      0.82       139\n",
            "           1       0.70      0.73      0.71        84\n",
            "\n",
            "    accuracy                           0.78       223\n",
            "   macro avg       0.77      0.77      0.77       223\n",
            "weighted avg       0.78      0.78      0.78       223\n",
            "\n",
            "[[113  26]\n",
            " [ 23  61]]\n",
            "accuracy is 0.7802690582959642\n"
          ],
          "name": "stdout"
        }
      ]
    },
    {
      "cell_type": "code",
      "metadata": {
        "id": "UdUOzsWUfBqg",
        "colab_type": "code",
        "outputId": "331ad1b3-fc31-4b83-df13-4ab0f2b9a073",
        "colab": {
          "base_uri": "https://localhost:8080/",
          "height": 221
        }
      },
      "source": [
        "from sklearn.ensemble import BaggingClassifier\n",
        "Model=BaggingClassifier()\n",
        "Model.fit(train1_x_dummy, train1_y_dummy)\n",
        "y_pred=Model.predict(test1_x_dummy)\n",
        "\n",
        "# Summary of the predictions made by the classifier\n",
        "print(classification_report(test1_y_dummy,y_pred))\n",
        "print(confusion_matrix(y_pred,test1_y_dummy))\n",
        "\n",
        "#Accuracy Score\n",
        "print('accuracy is ',accuracy_score(y_pred,test1_y_dummy))\n",
        "\n",
        "BCC = accuracy_score(y_pred,test1_y_dummy)"
      ],
      "execution_count": 0,
      "outputs": [
        {
          "output_type": "stream",
          "text": [
            "              precision    recall  f1-score   support\n",
            "\n",
            "           0       0.83      0.89      0.86       139\n",
            "           1       0.79      0.69      0.74        84\n",
            "\n",
            "    accuracy                           0.82       223\n",
            "   macro avg       0.81      0.79      0.80       223\n",
            "weighted avg       0.81      0.82      0.81       223\n",
            "\n",
            "[[124  26]\n",
            " [ 15  58]]\n",
            "accuracy is  0.8161434977578476\n"
          ],
          "name": "stdout"
        }
      ]
    },
    {
      "cell_type": "code",
      "metadata": {
        "id": "CtcIhnEBfHl1",
        "colab_type": "code",
        "outputId": "8038c16d-b437-42e0-d174-57870826e9dc",
        "colab": {
          "base_uri": "https://localhost:8080/",
          "height": 221
        }
      },
      "source": [
        "from sklearn.ensemble import AdaBoostClassifier\n",
        "Model=AdaBoostClassifier()\n",
        "Model.fit(train1_x_dummy, train1_y_dummy)\n",
        "y_pred=Model.predict(test1_x_dummy)\n",
        "\n",
        "# Summary of the predictions made by the classifier\n",
        "print(classification_report(test1_y_dummy,y_pred))\n",
        "print(confusion_matrix(y_pred,test1_y_dummy))\n",
        "#Accuracy Score\n",
        "print('accuracy is ',accuracy_score(y_pred,test1_y_dummy))\n",
        "\n",
        "AdaB = accuracy_score(y_pred,test1_y_dummy)"
      ],
      "execution_count": 0,
      "outputs": [
        {
          "output_type": "stream",
          "text": [
            "              precision    recall  f1-score   support\n",
            "\n",
            "           0       0.85      0.83      0.84       139\n",
            "           1       0.72      0.75      0.74        84\n",
            "\n",
            "    accuracy                           0.80       223\n",
            "   macro avg       0.78      0.79      0.79       223\n",
            "weighted avg       0.80      0.80      0.80       223\n",
            "\n",
            "[[115  21]\n",
            " [ 24  63]]\n",
            "accuracy is  0.7982062780269058\n"
          ],
          "name": "stdout"
        }
      ]
    },
    {
      "cell_type": "code",
      "metadata": {
        "id": "igOiU5FyfM2U",
        "colab_type": "code",
        "outputId": "ac0620cb-e95e-40ed-8bbb-ba4c64c2d558",
        "colab": {
          "base_uri": "https://localhost:8080/",
          "height": 221
        }
      },
      "source": [
        "from sklearn.ensemble import GradientBoostingClassifier\n",
        "ModelG=GradientBoostingClassifier()\n",
        "ModelG.fit(train1_x_dummy, train1_y_dummy)\n",
        "y_predGR=ModelG.predict(test1_x_dummy)\n",
        "\n",
        "# Summary of the predictions made by the classifier\n",
        "print(classification_report(test1_y_dummy,y_predGR))\n",
        "print(confusion_matrix(y_predGR,test1_y_dummy))\n",
        "\n",
        "#Accuracy Score\n",
        "print('accuracy is ',accuracy_score(y_predGR,test1_y_dummy))\n",
        "\n",
        "GBCC = accuracy_score(y_predGR,test1_y_dummy)"
      ],
      "execution_count": 0,
      "outputs": [
        {
          "output_type": "stream",
          "text": [
            "              precision    recall  f1-score   support\n",
            "\n",
            "           0       0.86      0.91      0.89       139\n",
            "           1       0.84      0.75      0.79        84\n",
            "\n",
            "    accuracy                           0.85       223\n",
            "   macro avg       0.85      0.83      0.84       223\n",
            "weighted avg       0.85      0.85      0.85       223\n",
            "\n",
            "[[127  21]\n",
            " [ 12  63]]\n",
            "accuracy is  0.852017937219731\n"
          ],
          "name": "stdout"
        }
      ]
    },
    {
      "cell_type": "code",
      "metadata": {
        "id": "rEz5h4ggfOsT",
        "colab_type": "code",
        "outputId": "5811a702-dd81-4483-b57a-b20b1ce57fd6",
        "colab": {
          "base_uri": "https://localhost:8080/",
          "height": 221
        }
      },
      "source": [
        "from sklearn.discriminant_analysis import LinearDiscriminantAnalysis\n",
        "Model=LinearDiscriminantAnalysis()\n",
        "Model.fit(train1_x_dummy, train1_y_dummy)\n",
        "y_pred=Model.predict(test1_x_dummy)\n",
        "\n",
        "# Summary of the predictions made by the classifier\n",
        "print(classification_report(test1_y_dummy,y_pred))\n",
        "print(confusion_matrix(y_pred,test1_y_dummy))\n",
        "\n",
        "#Accuracy Score\n",
        "print('accuracy is ',accuracy_score(y_pred,test1_y_dummy))\n",
        "\n",
        "LDAA = accuracy_score(y_pred,test1_y_dummy)"
      ],
      "execution_count": 0,
      "outputs": [
        {
          "output_type": "stream",
          "text": [
            "              precision    recall  f1-score   support\n",
            "\n",
            "           0       0.81      0.83      0.82       139\n",
            "           1       0.71      0.68      0.70        84\n",
            "\n",
            "    accuracy                           0.78       223\n",
            "   macro avg       0.76      0.76      0.76       223\n",
            "weighted avg       0.77      0.78      0.77       223\n",
            "\n",
            "[[116  27]\n",
            " [ 23  57]]\n",
            "accuracy is  0.7757847533632287\n"
          ],
          "name": "stdout"
        }
      ]
    },
    {
      "cell_type": "code",
      "metadata": {
        "id": "VwI2Dx1zfWC_",
        "colab_type": "code",
        "outputId": "9e7dbcae-2dd4-4c27-bf8b-2b21b479b4f4",
        "colab": {
          "base_uri": "https://localhost:8080/",
          "height": 221
        }
      },
      "source": [
        "from sklearn.discriminant_analysis import QuadraticDiscriminantAnalysis\n",
        "Model=QuadraticDiscriminantAnalysis()\n",
        "Model.fit(train1_x_dummy, train1_y_dummy)\n",
        "y_pred=Model.predict(test1_x_dummy)\n",
        "\n",
        "# Summary of the predictions made by the classifier\n",
        "print(classification_report(test1_y_dummy,y_pred))\n",
        "print(confusion_matrix(y_pred,test1_y_dummy))\n",
        "\n",
        "#Accuracy Score\n",
        "print('accuracy is ',accuracy_score(y_pred,test1_y_dummy))\n",
        "\n",
        "QDAx = accuracy_score(y_pred,test1_y_dummy)"
      ],
      "execution_count": 0,
      "outputs": [
        {
          "output_type": "stream",
          "text": [
            "              precision    recall  f1-score   support\n",
            "\n",
            "           0       0.85      0.79      0.82       139\n",
            "           1       0.69      0.76      0.72        84\n",
            "\n",
            "    accuracy                           0.78       223\n",
            "   macro avg       0.77      0.78      0.77       223\n",
            "weighted avg       0.79      0.78      0.78       223\n",
            "\n",
            "[[110  20]\n",
            " [ 29  64]]\n",
            "accuracy is  0.7802690582959642\n"
          ],
          "name": "stdout"
        }
      ]
    },
    {
      "cell_type": "code",
      "metadata": {
        "id": "ugmeitVmfkYa",
        "colab_type": "code",
        "outputId": "32bb43b1-448e-4fc9-9811-26eced245e72",
        "colab": {
          "base_uri": "https://localhost:8080/",
          "height": 545
        }
      },
      "source": [
        "models = pd.DataFrame({\n",
        "    'Model': [ 'Random Forest',\n",
        "              'LogisticRegression','K-Nearest Neighbours', 'Naive Bayes', 'SVM', 'Nu-Support Vector Classification',\n",
        "             'Linear Support Vector Classification', 'Radius Neighbors Classifier', 'Passive Aggressive Classifier','BernoulliNB',\n",
        "             'ExtraTreeClassifier', \"Bagging classifier \", \"AdaBoost classifier\", 'Gradient Boosting Classifier' ,'Linear Discriminant Analysis',\n",
        "             'Quadratic Discriminant Analysis'],\n",
        "    'Score': [ RT, LR, KNN,NBB,SVMm, NuS,  LSVM , RNC, PAC, Ber, ETC, BCC, AdaB,  GBCC, LDAA, QDAx]})\n",
        "models.sort_values(by='Score', ascending=False)"
      ],
      "execution_count": 0,
      "outputs": [
        {
          "output_type": "execute_result",
          "data": {
            "text/html": [
              "<div>\n",
              "<style scoped>\n",
              "    .dataframe tbody tr th:only-of-type {\n",
              "        vertical-align: middle;\n",
              "    }\n",
              "\n",
              "    .dataframe tbody tr th {\n",
              "        vertical-align: top;\n",
              "    }\n",
              "\n",
              "    .dataframe thead th {\n",
              "        text-align: right;\n",
              "    }\n",
              "</style>\n",
              "<table border=\"1\" class=\"dataframe\">\n",
              "  <thead>\n",
              "    <tr style=\"text-align: right;\">\n",
              "      <th></th>\n",
              "      <th>Model</th>\n",
              "      <th>Score</th>\n",
              "    </tr>\n",
              "  </thead>\n",
              "  <tbody>\n",
              "    <tr>\n",
              "      <th>13</th>\n",
              "      <td>Gradient Boosting Classifier</td>\n",
              "      <td>0.852018</td>\n",
              "    </tr>\n",
              "    <tr>\n",
              "      <th>11</th>\n",
              "      <td>Bagging classifier</td>\n",
              "      <td>0.816143</td>\n",
              "    </tr>\n",
              "    <tr>\n",
              "      <th>12</th>\n",
              "      <td>AdaBoost classifier</td>\n",
              "      <td>0.798206</td>\n",
              "    </tr>\n",
              "    <tr>\n",
              "      <th>0</th>\n",
              "      <td>Random Forest</td>\n",
              "      <td>0.793722</td>\n",
              "    </tr>\n",
              "    <tr>\n",
              "      <th>3</th>\n",
              "      <td>Naive Bayes</td>\n",
              "      <td>0.793722</td>\n",
              "    </tr>\n",
              "    <tr>\n",
              "      <th>1</th>\n",
              "      <td>LogisticRegression</td>\n",
              "      <td>0.784753</td>\n",
              "    </tr>\n",
              "    <tr>\n",
              "      <th>9</th>\n",
              "      <td>BernoulliNB</td>\n",
              "      <td>0.784753</td>\n",
              "    </tr>\n",
              "    <tr>\n",
              "      <th>10</th>\n",
              "      <td>ExtraTreeClassifier</td>\n",
              "      <td>0.780269</td>\n",
              "    </tr>\n",
              "    <tr>\n",
              "      <th>15</th>\n",
              "      <td>Quadratic Discriminant Analysis</td>\n",
              "      <td>0.780269</td>\n",
              "    </tr>\n",
              "    <tr>\n",
              "      <th>14</th>\n",
              "      <td>Linear Discriminant Analysis</td>\n",
              "      <td>0.775785</td>\n",
              "    </tr>\n",
              "    <tr>\n",
              "      <th>6</th>\n",
              "      <td>Linear Support Vector Classification</td>\n",
              "      <td>0.771300</td>\n",
              "    </tr>\n",
              "    <tr>\n",
              "      <th>4</th>\n",
              "      <td>SVM</td>\n",
              "      <td>0.744395</td>\n",
              "    </tr>\n",
              "    <tr>\n",
              "      <th>5</th>\n",
              "      <td>Nu-Support Vector Classification</td>\n",
              "      <td>0.744395</td>\n",
              "    </tr>\n",
              "    <tr>\n",
              "      <th>2</th>\n",
              "      <td>K-Nearest Neighbours</td>\n",
              "      <td>0.699552</td>\n",
              "    </tr>\n",
              "    <tr>\n",
              "      <th>7</th>\n",
              "      <td>Radius Neighbors Classifier</td>\n",
              "      <td>0.645740</td>\n",
              "    </tr>\n",
              "    <tr>\n",
              "      <th>8</th>\n",
              "      <td>Passive Aggressive Classifier</td>\n",
              "      <td>0.641256</td>\n",
              "    </tr>\n",
              "  </tbody>\n",
              "</table>\n",
              "</div>"
            ],
            "text/plain": [
              "                                   Model     Score\n",
              "13          Gradient Boosting Classifier  0.852018\n",
              "11                   Bagging classifier   0.816143\n",
              "12                   AdaBoost classifier  0.798206\n",
              "0                          Random Forest  0.793722\n",
              "3                            Naive Bayes  0.793722\n",
              "1                     LogisticRegression  0.784753\n",
              "9                            BernoulliNB  0.784753\n",
              "10                   ExtraTreeClassifier  0.780269\n",
              "15       Quadratic Discriminant Analysis  0.780269\n",
              "14          Linear Discriminant Analysis  0.775785\n",
              "6   Linear Support Vector Classification  0.771300\n",
              "4                                    SVM  0.744395\n",
              "5       Nu-Support Vector Classification  0.744395\n",
              "2                   K-Nearest Neighbours  0.699552\n",
              "7            Radius Neighbors Classifier  0.645740\n",
              "8          Passive Aggressive Classifier  0.641256"
            ]
          },
          "metadata": {
            "tags": []
          },
          "execution_count": 69
        }
      ]
    },
    {
      "cell_type": "code",
      "metadata": {
        "id": "DfkM86G2gDai",
        "colab_type": "code",
        "outputId": "a2e2040e-d22d-4bb9-ceb8-4a01c7ac5b98",
        "colab": {
          "base_uri": "https://localhost:8080/",
          "height": 34
        }
      },
      "source": [
        "plt.subplots(figsize =(14, 12))\n",
        "\n",
        "sns.barplot(x='Score', y = 'Model', data = models, palette=\"Set3\")\n",
        "\n",
        "#prettify using pyplot: https://matplotlib.org/api/pyplot_api.html\n",
        "plt.title('Machine Learning Algorithm Accuracy Score \\n')\n",
        "plt.xlabel('Accuracy Score (%)')\n",
        "plt.ylabel('Algorithm')"
      ],
      "execution_count": 0,
      "outputs": [
        {
          "output_type": "execute_result",
          "data": {
            "text/plain": [
              "Text(0, 0.5, 'Algorithm')"
            ]
          },
          "metadata": {
            "tags": []
          },
          "execution_count": 70
        },
        {
          "output_type": "display_data",
          "data": {
            "image/png": "[encoded data removed]",
            "text/plain": [
              "<Figure size 1008x864 with 1 Axes>"
            ]
          },
          "metadata": {
            "tags": []
          }
        }
      ]
    },
    {
      "cell_type": "code",
      "metadata": {
        "id": "uKFD0D4ZgXo2",
        "colab_type": "code",
        "colab": {}
      },
      "source": [
        "#gradient boosting w/full dataset modeling submission score: defaults= 0.75119, tuned= 0.77033\n",
        "submit_gbc = GradientBoostingClassifier()\n",
        "\n",
        "submit_gbc.fit(datatrain[datatrain_x_bin], datatrain[Target])\n",
        "\n",
        "rr = submit_gbc.predict(datatest[datatrain_x_bin])\n"
      ],
      "execution_count": 0,
      "outputs": []
    },
    {
      "cell_type": "code",
      "metadata": {
        "id": "1LJBxdJygdpo",
        "colab_type": "code",
        "outputId": "473906cd-875a-486f-a592-db8338a7e99a",
        "colab": {
          "base_uri": "https://localhost:8080/",
          "height": 340
        }
      },
      "source": [
        "rr\n"
      ],
      "execution_count": 0,
      "outputs": [
        {
          "output_type": "execute_result",
          "data": {
            "text/plain": [
              "array([0, 1, 0, 0, 0, 0, 1, 0, 1, 0, 0, 0, 1, 0, 1, 1, 0, 0, 0, 1, 0, 0,\n",
              "       1, 0, 1, 0, 1, 0, 1, 0, 0, 0, 0, 1, 0, 0, 1, 1, 0, 1, 0, 0, 0, 1,\n",
              "       1, 0, 1, 0, 1, 0, 0, 0, 1, 1, 0, 0, 0, 0, 0, 1, 0, 0, 0, 1, 0, 1,\n",
              "       1, 0, 1, 1, 1, 0, 1, 1, 1, 0, 0, 1, 0, 1, 0, 0, 0, 0, 0, 0, 1, 1,\n",
              "       1, 0, 0, 0, 1, 0, 1, 0, 1, 0, 1, 0, 1, 0, 0, 0, 1, 0, 0, 0, 0, 0,\n",
              "       0, 1, 1, 1, 1, 0, 0, 1, 0, 1, 1, 0, 1, 0, 0, 1, 0, 1, 0, 0, 0, 1,\n",
              "       0, 0, 0, 0, 0, 0, 1, 0, 0, 1, 0, 0, 1, 0, 0, 0, 0, 0, 1, 0, 0, 0,\n",
              "       0, 0, 1, 1, 1, 0, 1, 0, 1, 0, 0, 1, 0, 0, 1, 1, 0, 0, 0, 0, 0, 1,\n",
              "       1, 0, 1, 1, 0, 1, 1, 0, 1, 0, 1, 0, 0, 0, 0, 0, 0, 0, 0, 0, 0, 1,\n",
              "       0, 1, 1, 0, 1, 1, 0, 1, 1, 0, 1, 0, 0, 0, 0, 1, 1, 0, 1, 0, 1, 0,\n",
              "       1, 0, 1, 0, 1, 1, 0, 1, 0, 0, 1, 1, 0, 0, 1, 0, 0, 0, 1, 1, 1, 1,\n",
              "       1, 0, 0, 0, 1, 0, 1, 1, 1, 0, 0, 0, 0, 0, 0, 0, 1, 0, 0, 0, 1, 1,\n",
              "       0, 0, 0, 0, 1, 0, 0, 0, 1, 1, 0, 1, 0, 0, 0, 0, 1, 0, 1, 1, 1, 0,\n",
              "       0, 0, 0, 0, 0, 1, 0, 0, 0, 0, 1, 0, 0, 0, 0, 0, 0, 0, 1, 1, 0, 0,\n",
              "       0, 0, 0, 0, 0, 1, 1, 1, 0, 0, 0, 0, 0, 0, 0, 1, 1, 0, 1, 0, 0, 0,\n",
              "       1, 1, 0, 1, 0, 0, 0, 0, 0, 0, 0, 0, 0, 1, 0, 1, 0, 1, 0, 1, 1, 0,\n",
              "       0, 0, 1, 0, 1, 0, 0, 1, 0, 1, 1, 0, 1, 0, 0, 1, 1, 0, 0, 1, 0, 0,\n",
              "       1, 1, 0, 0, 0, 0, 0, 0, 1, 1, 0, 1, 0, 0, 0, 0, 0, 1, 0, 0, 0, 1,\n",
              "       0, 1, 0, 0, 1, 0, 1, 0, 1, 0, 0, 0, 1, 1, 1, 1, 1, 0, 1, 0, 0, 0])"
            ]
          },
          "metadata": {
            "tags": []
          },
          "execution_count": 73
        }
      ]
    },
    {
      "cell_type": "code",
      "metadata": {
        "id": "oX2mvgYggf2D",
        "colab_type": "code",
        "outputId": "0d21adab-95eb-4cd5-c119-7a808de3e867",
        "colab": {
          "base_uri": "https://localhost:8080/",
          "height": 204
        }
      },
      "source": [
        "submission = pd.DataFrame({\n",
        "        \"PassengerId\": datatestcopy[\"PassengerId\"],\n",
        "        \"Survived\": rr\n",
        "    })\n",
        "submission.to_csv('/content/gdrive/My Drive/Colab/data/titanic_ML.csv', index=False)\n",
        "submission.head()"
      ],
      "execution_count": 0,
      "outputs": [
        {
          "output_type": "execute_result",
          "data": {
            "text/html": [
              "<div>\n",
              "<style scoped>\n",
              "    .dataframe tbody tr th:only-of-type {\n",
              "        vertical-align: middle;\n",
              "    }\n",
              "\n",
              "    .dataframe tbody tr th {\n",
              "        vertical-align: top;\n",
              "    }\n",
              "\n",
              "    .dataframe thead th {\n",
              "        text-align: right;\n",
              "    }\n",
              "</style>\n",
              "<table border=\"1\" class=\"dataframe\">\n",
              "  <thead>\n",
              "    <tr style=\"text-align: right;\">\n",
              "      <th></th>\n",
              "      <th>PassengerId</th>\n",
              "      <th>Survived</th>\n",
              "    </tr>\n",
              "  </thead>\n",
              "  <tbody>\n",
              "    <tr>\n",
              "      <th>0</th>\n",
              "      <td>892</td>\n",
              "      <td>0</td>\n",
              "    </tr>\n",
              "    <tr>\n",
              "      <th>1</th>\n",
              "      <td>893</td>\n",
              "      <td>1</td>\n",
              "    </tr>\n",
              "    <tr>\n",
              "      <th>2</th>\n",
              "      <td>894</td>\n",
              "      <td>0</td>\n",
              "    </tr>\n",
              "    <tr>\n",
              "      <th>3</th>\n",
              "      <td>895</td>\n",
              "      <td>0</td>\n",
              "    </tr>\n",
              "    <tr>\n",
              "      <th>4</th>\n",
              "      <td>896</td>\n",
              "      <td>0</td>\n",
              "    </tr>\n",
              "  </tbody>\n",
              "</table>\n",
              "</div>"
            ],
            "text/plain": [
              "   PassengerId  Survived\n",
              "0          892         0\n",
              "1          893         1\n",
              "2          894         0\n",
              "3          895         0\n",
              "4          896         0"
            ]
          },
          "metadata": {
            "tags": []
          },
          "execution_count": 74
        }
      ]
    }
  ]
}