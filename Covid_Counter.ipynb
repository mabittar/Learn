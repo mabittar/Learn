{
  "nbformat": 4,
  "nbformat_minor": 0,
  "metadata": {
    "colab": {
      "name": "Covid_Counter.ipynb",
      "provenance": [],
      "collapsed_sections": [],
      "authorship_tag": "ABX9TyPkuSSIRHgGoe5Gk6HZLz2J",
      "include_colab_link": true
    },
    "kernelspec": {
      "name": "python3",
      "display_name": "Python 3"
    }
  },
  "cells": [
    {
      "cell_type": "markdown",
      "metadata": {
        "id": "view-in-github",
        "colab_type": "text"
      },
      "source": [
        "<a href=\"https://colab.research.google.com/github/mabittar/Learn/blob/master/Covid_Counter.ipynb\" target=\"_parent\"><img src=\"https://colab.research.google.com/assets/colab-badge.svg\" alt=\"Open In Colab\"/></a>"
      ]
    },
    {
      "cell_type": "code",
      "metadata": {
        "id": "pXmkqc5ytcHF",
        "colab_type": "code",
        "outputId": "33b675c7-6d49-4da3-93f5-902743ba2700",
        "colab": {
          "base_uri": "https://localhost:8080/",
          "height": 204
        }
      },
      "source": [
        "#to use Covid Counter from https://github.com/sudharshan-ashok/pycovid\n",
        "!pip install pycovid\n"
      ],
      "execution_count": 4,
      "outputs": [
        {
          "output_type": "stream",
          "text": [
            "Collecting pycovid\n",
            "  Downloading https://files.pythonhosted.org/packages/34/94/d71d83f70ead0c928c0cec1767fd2db8305b6cc009721babaff1dbd103b8/pycovid-0.1.1-py3-none-any.whl\n",
            "Requirement already satisfied: pandas in /usr/local/lib/python3.6/dist-packages (from pycovid) (0.25.3)\n",
            "Requirement already satisfied: numpy in /usr/local/lib/python3.6/dist-packages (from pycovid) (1.18.2)\n",
            "Requirement already satisfied: plotly in /usr/local/lib/python3.6/dist-packages (from pycovid) (4.4.1)\n",
            "Requirement already satisfied: pytz>=2017.2 in /usr/local/lib/python3.6/dist-packages (from pandas->pycovid) (2018.9)\n",
            "Requirement already satisfied: python-dateutil>=2.6.1 in /usr/local/lib/python3.6/dist-packages (from pandas->pycovid) (2.8.1)\n",
            "Requirement already satisfied: retrying>=1.3.3 in /usr/local/lib/python3.6/dist-packages (from plotly->pycovid) (1.3.3)\n",
            "Requirement already satisfied: six in /usr/local/lib/python3.6/dist-packages (from plotly->pycovid) (1.12.0)\n",
            "Installing collected packages: pycovid\n",
            "Successfully installed pycovid-0.1.1\n"
          ],
          "name": "stdout"
        }
      ]
    },
    {
      "cell_type": "code",
      "metadata": {
        "id": "HUOdrAyItyxZ",
        "colab_type": "code",
        "colab": {}
      },
      "source": [
        "#import modules\n",
        "import pandas as pd\n",
        "from datetime import datetime, date\n",
        "import re\n",
        "import numpy as np\n",
        "import pandas as pd"
      ],
      "execution_count": 0,
      "outputs": []
    },
    {
      "cell_type": "code",
      "metadata": {
        "id": "-sgjDmVfjh24",
        "colab_type": "code",
        "colab": {}
      },
      "source": [
        "#import database for Covid confirmed cases\n",
        "from pycovid import pycovid\n",
        "confirmed_cases_df = pycovid.getCovidCases(casetype=['confirmed'], cumsum=False)"
      ],
      "execution_count": 0,
      "outputs": []
    },
    {
      "cell_type": "code",
      "metadata": {
        "id": "StwoAxbeqC06",
        "colab_type": "code",
        "colab": {}
      },
      "source": [
        "#import country population\n",
        "population_url = \"https://raw.githubusercontent.com/julianbruegger/corona-display/master/population.csv\"\n",
        "colnames_remap= {\"Country\":\"country\",\n",
        "                 \"Country Code\":\"alpha-3\",\n",
        "                 \"2018\":\"population\" \n",
        "                }\n",
        "col_drop = [\"country\"]\n",
        "population_df = pd.read_csv(population_url, encoding= 'unicode_escape', sep=\";\").rename(columns=colnames_remap).drop(columns=col_drop)\n",
        "#population_df.head(10)\n",
        "#print(population_df.columns)"
      ],
      "execution_count": 0,
      "outputs": []
    },
    {
      "cell_type": "code",
      "metadata": {
        "id": "OfaitdG6kkWg",
        "colab_type": "code",
        "colab": {}
      },
      "source": [
        "#rename and reorganize columns\n",
        "renamed_columns_map = {\n",
        "    \"country_region\": \"country\",\n",
        "    \"province_state\": \"location\",\n",
        "    \"lat\": \"latitude\",\n",
        "    \"long\": \"longitude\",\n",
        "    \"type\": \"status\"\n",
        "    }\n",
        "\n",
        "cols_to_drop = [\"location\", \"latitude\", \"longitude\", \"name\", \"status\"]\n",
        "\n",
        "df = (confirmed_cases_df.rename(columns=renamed_columns_map).drop(columns=cols_to_drop))\n",
        "#df.head(10)"
      ],
      "execution_count": 0,
      "outputs": []
    },
    {
      "cell_type": "code",
      "metadata": {
        "id": "yd86AD_EpAXr",
        "colab_type": "code",
        "colab": {
          "base_uri": "https://localhost:8080/",
          "height": 51
        },
        "outputId": "ea90e839-48ca-4b14-fc8f-8890c100873c"
      },
      "source": [
        "#define important dates\n",
        "last_date = df['date'].max().date()#.strftime(\"%Y%m%d\")\n",
        "#last_date = int(last_date)\n",
        "print(last_date)\n",
        "\n",
        "today = date.today()\n",
        "print(today)"
      ],
      "execution_count": 9,
      "outputs": [
        {
          "output_type": "stream",
          "text": [
            "2020-03-22\n",
            "2020-03-23\n"
          ],
          "name": "stdout"
        }
      ]
    },
    {
      "cell_type": "code",
      "metadata": {
        "id": "0E7Rudm82Z51",
        "colab_type": "code",
        "colab": {}
      },
      "source": [
        "#Group country with most confirmed cases\n",
        "most_df = df.groupby(['alpha-3','country']).sum().reset_index()\n",
        "most_df = most_df.sort_values(by='cases', ascending=False).head(10)\n",
        "most_df = most_df.merge(population_df, on='alpha-3', how='left')\n",
        "#most_df.head(10)"
      ],
      "execution_count": 0,
      "outputs": []
    },
    {
      "cell_type": "code",
      "metadata": {
        "id": "CoE5JpP_bPGr",
        "colab_type": "code",
        "colab": {}
      },
      "source": [
        "# Create a function that takes inputs, cases and population to calculare % infected\n",
        "def pop_cases(cases, population):\n",
        "    # returns the % between cases and population\n",
        "    return cases / population\n",
        "\n",
        "# Create a variable that is the output of the function\n",
        "most_df['percentage'] = pop_cases(most_df['cases'], most_df['population'])\n",
        "\n",
        "#most_df.head(10)"
      ],
      "execution_count": 0,
      "outputs": []
    },
    {
      "cell_type": "code",
      "metadata": {
        "id": "wc72rCyzgeK2",
        "colab_type": "code",
        "colab": {}
      },
      "source": [
        "dff = most_df.sort_values(by='percentage', ascending=False).head(10)\n",
        "#dff"
      ],
      "execution_count": 0,
      "outputs": []
    },
    {
      "cell_type": "code",
      "metadata": {
        "id": "MKEC3ar1_qy4",
        "colab_type": "code",
        "colab": {
          "base_uri": "https://localhost:8080/",
          "height": 153
        },
        "outputId": "8b8e43c3-7328-4b9e-ab4f-a810663cdd28"
      },
      "source": [
        "#filter most increase cases in last date of data\n",
        "increase_df = df[df['date'].eq(last_date)].sort_values(by='cases', ascending=False).head(10)\n",
        "#increase_df.head()"
      ],
      "execution_count": 13,
      "outputs": [
        {
          "output_type": "stream",
          "text": [
            "/usr/local/lib/python3.6/dist-packages/pandas/core/ops/__init__.py:1350: FutureWarning:\n",
            "\n",
            "Comparing Series of datetimes with 'datetime.date'.  Currently, the\n",
            "'datetime.date' is coerced to a datetime. In the future pandas will\n",
            "not coerce, and 'the values will not compare equal to the\n",
            "'datetime.date'. To retain the current behavior, convert the\n",
            "'datetime.date' to a datetime with 'pd.Timestamp'.\n",
            "\n"
          ],
          "name": "stderr"
        }
      ]
    },
    {
      "cell_type": "code",
      "metadata": {
        "id": "waocBYyw3TSi",
        "colab_type": "code",
        "colab": {
          "base_uri": "https://localhost:8080/",
          "height": 68
        },
        "outputId": "c87a2fc7-5682-4d5a-865c-fa6fb45ae7f8"
      },
      "source": [
        "#Display 1o country in number of cases\n",
        "country1 = most_df['country'].iloc[0]\n",
        "#Display increased cases\n",
        "increase_country = increase_df['country'].iloc[0]\n",
        "new_cases = increase_df['cases'].iloc[0]\n",
        "cases1 = most_df['cases'].iloc[0]\n",
        "percent_pop = most_df['percentage'].iloc[0]\n",
        "print(\"The country with most confirmed cases in {:%d/%m/%Y} is {}. With {:,} cases confirmed. \".format(last_date,country1,cases1))\n",
        "print(\"It´s represent {:.3%} of {} population\".format(percent_pop,country1))\n",
        "print(\"The country with most increase in {:%d/%m/%Y} is {} with {} new cases.\".format(last_date,increase_country,new_cases))\n"
      ],
      "execution_count": 14,
      "outputs": [
        {
          "output_type": "stream",
          "text": [
            "The country with most confirmed cases in 22/03/2020 is Italy. With 59,138 cases confirmed. \n",
            "It´s represent 0.098% of Italy population\n",
            "The country with most increase in 22/03/2020 is Italy with 5560 new cases.\n"
          ],
          "name": "stdout"
        }
      ]
    },
    {
      "cell_type": "code",
      "metadata": {
        "id": "qQX2UK0tHmVm",
        "colab_type": "code",
        "colab": {}
      },
      "source": [
        "\"\"\"\"\"\n",
        "import tkinter as tk\n",
        "\n",
        "def popupmsg(msg):\n",
        "    popup = tk.Toplevel()\n",
        "    popup.title(\"!\")\n",
        "    label = tk.Label(popup, text=msg) #Can add a font arg here\n",
        "    label.pack(side=\"top\", fill=\"x\", pady=10)\n",
        "    B1 = tk.Button(popup, text=\"Okay\", command = popup.destroy)\n",
        "    B1.pack()\n",
        "    popup.mainloop()\n",
        "\n",
        "popupmsg('The country with most confirmed cases in {:%d/%m/%Y} is {}. With {:,} cases confirmed./p'\n",
        "        'It´s represent {:.3%} of {} population  /p'\n",
        "        'The country with most increase in {:%d/%m/%Y} is {} with {} new cases.'.format(last_date,country1,cases1,percent_pop,country1,last_date,increase_country,new_cases)\n",
        "        )\n",
        "\"\"\"\"\""
      ],
      "execution_count": 0,
      "outputs": []
    }
  ]
}