{
  "nbformat": 4,
  "nbformat_minor": 0,
  "metadata": {
    "colab": {
      "name": "Covid_Counter.ipynb",
      "provenance": [],
      "collapsed_sections": [],
      "authorship_tag": "ABX9TyPXCcnHVelrkMdXSHrFjdxk",
      "include_colab_link": true
    },
    "kernelspec": {
      "name": "python3",
      "display_name": "Python 3"
    }
  },
  "cells": [
    {
      "cell_type": "markdown",
      "metadata": {
        "id": "view-in-github",
        "colab_type": "text"
      },
      "source": [
        "<a href=\"https://colab.research.google.com/github/mabittar/Learn/blob/master/Covid_Counter.ipynb\" target=\"_parent\"><img src=\"https://colab.research.google.com/assets/colab-badge.svg\" alt=\"Open In Colab\"/></a>"
      ]
    },
    {
      "cell_type": "code",
      "metadata": {
        "id": "pXmkqc5ytcHF",
        "colab_type": "code",
        "outputId": "ed935631-aea4-4daa-fe02-dc9c76fef922",
        "colab": {
          "base_uri": "https://localhost:8080/",
          "height": 153
        }
      },
      "source": [
        "#to use Covid Counter from https://github.com/sudharshan-ashok/pycovid\n",
        "!pip install pycovid\n"
      ],
      "execution_count": 21,
      "outputs": [
        {
          "output_type": "stream",
          "text": [
            "Requirement already satisfied: pycovid in /usr/local/lib/python3.6/dist-packages (0.1.1)\n",
            "Requirement already satisfied: pandas in /usr/local/lib/python3.6/dist-packages (from pycovid) (0.25.3)\n",
            "Requirement already satisfied: numpy in /usr/local/lib/python3.6/dist-packages (from pycovid) (1.18.2)\n",
            "Requirement already satisfied: plotly in /usr/local/lib/python3.6/dist-packages (from pycovid) (4.4.1)\n",
            "Requirement already satisfied: python-dateutil>=2.6.1 in /usr/local/lib/python3.6/dist-packages (from pandas->pycovid) (2.8.1)\n",
            "Requirement already satisfied: pytz>=2017.2 in /usr/local/lib/python3.6/dist-packages (from pandas->pycovid) (2018.9)\n",
            "Requirement already satisfied: six in /usr/local/lib/python3.6/dist-packages (from plotly->pycovid) (1.12.0)\n",
            "Requirement already satisfied: retrying>=1.3.3 in /usr/local/lib/python3.6/dist-packages (from plotly->pycovid) (1.3.3)\n"
          ],
          "name": "stdout"
        }
      ]
    },
    {
      "cell_type": "code",
      "metadata": {
        "id": "HUOdrAyItyxZ",
        "colab_type": "code",
        "colab": {}
      },
      "source": [
        "#import modules\n",
        "import pandas as pd\n",
        "from datetime import datetime, date\n",
        "import re\n",
        "import numpy as np\n",
        "import pandas as pd"
      ],
      "execution_count": 0,
      "outputs": []
    },
    {
      "cell_type": "code",
      "metadata": {
        "id": "-sgjDmVfjh24",
        "colab_type": "code",
        "colab": {}
      },
      "source": [
        "#import database for Covid confirmed cases\n",
        "from pycovid import pycovid\n",
        "confirmed_cases_df = pycovid.getCovidCases(casetype=['confirmed'], cumsum=False)"
      ],
      "execution_count": 0,
      "outputs": []
    },
    {
      "cell_type": "code",
      "metadata": {
        "id": "StwoAxbeqC06",
        "colab_type": "code",
        "colab": {}
      },
      "source": [
        "#import country population\n",
        "population_url = \"https://raw.githubusercontent.com/julianbruegger/corona-display/master/data/population.csv\"\n",
        "colnames_remap= {\"Country\":\"country\",\n",
        "                 \"Country Code\":\"alpha-3\",\n",
        "                 \"2018\":\"population\" \n",
        "                }\n",
        "col_drop = [\"country\"]\n",
        "population_df = pd.read_csv(population_url, encoding= 'unicode_escape', sep=\";\").rename(columns=colnames_remap)\n",
        "\n",
        "#corrrect alpha-3 for Iran\n",
        "population_df.loc[(population_df.country == \"Iran\"), 'alpha-3'] = 'IRN'\n",
        "population_df = population_df.drop(columns=col_drop)\n",
        "\n",
        "#population_df.head(10)\n",
        "#print(population_df.columns)\n",
        "#print(population_df.loc[population_df['alpha-3'] == 'IRN'])"
      ],
      "execution_count": 0,
      "outputs": []
    },
    {
      "cell_type": "code",
      "metadata": {
        "id": "OfaitdG6kkWg",
        "colab_type": "code",
        "colab": {}
      },
      "source": [
        "#rename and reorganize columns\n",
        "renamed_columns_map = {\n",
        "    \"country_region\": \"country\",\n",
        "    \"province_state\": \"location\",\n",
        "    \"lat\": \"latitude\",\n",
        "    \"long\": \"longitude\",\n",
        "    \"type\": \"status\"\n",
        "    }\n",
        "\n",
        "cols_to_drop = [\"location\", \"latitude\", \"longitude\", \"name\", \"status\"]\n",
        "\n",
        "df = (confirmed_cases_df.rename(columns=renamed_columns_map).drop(columns=cols_to_drop))\n",
        "#df.head(10)"
      ],
      "execution_count": 0,
      "outputs": []
    },
    {
      "cell_type": "code",
      "metadata": {
        "id": "yd86AD_EpAXr",
        "colab_type": "code",
        "colab": {}
      },
      "source": [
        "#define important dates\n",
        "last_date = df['date'].max()\n",
        "last_date = np.datetime64(last_date, 'D')\n",
        "#print(last_date)\n",
        "#print(last_date_str)\n",
        "\n",
        "\n",
        "today = date.today()\n",
        "#print(today)"
      ],
      "execution_count": 0,
      "outputs": []
    },
    {
      "cell_type": "code",
      "metadata": {
        "id": "0E7Rudm82Z51",
        "colab_type": "code",
        "colab": {}
      },
      "source": [
        "#Group country with most confirmed cases\n",
        "most_df = df.groupby(['alpha-3','country']).sum().reset_index()\n",
        "most_df = most_df.sort_values(by='cases', ascending=False).head(10)\n",
        "most_df = most_df.merge(population_df, on='alpha-3', how='left')\n",
        "total_cases = most_df['cases'].sum(axis = 0, skipna = True) \n",
        "#most_df.head(10)"
      ],
      "execution_count": 0,
      "outputs": []
    },
    {
      "cell_type": "code",
      "metadata": {
        "id": "CoE5JpP_bPGr",
        "colab_type": "code",
        "colab": {}
      },
      "source": [
        "# Create a function that takes inputs, cases and population to calculare % infected\n",
        "def pop_cases(cases, population):\n",
        "    # returns the % between cases and population\n",
        "    return cases / population\n",
        "\n",
        "# Create a variable that is the output of the function\n",
        "most_df['percentage'] = pop_cases(most_df['cases'], most_df['population'])\n",
        "\n",
        "#most_df.head(10)"
      ],
      "execution_count": 0,
      "outputs": []
    },
    {
      "cell_type": "code",
      "metadata": {
        "id": "wc72rCyzgeK2",
        "colab_type": "code",
        "colab": {}
      },
      "source": [
        "dff = most_df.sort_values(by='percentage', ascending=False).head(10)\n",
        "#dff"
      ],
      "execution_count": 0,
      "outputs": []
    },
    {
      "cell_type": "code",
      "metadata": {
        "id": "MKEC3ar1_qy4",
        "colab_type": "code",
        "colab": {}
      },
      "source": [
        "#filter most increase cases in last date of data\n",
        "increase_df = df[df['date'].eq(last_date)].sort_values(by='cases', ascending=False).head(10)\n",
        "#increase_df.head()"
      ],
      "execution_count": 0,
      "outputs": []
    },
    {
      "cell_type": "code",
      "metadata": {
        "id": "0MjlKg9kvsJk",
        "colab_type": "code",
        "colab": {}
      },
      "source": [
        "total_increase = increase_df['cases'].sum(axis = 0, skipna = True) \n",
        "#print(total_increase)"
      ],
      "execution_count": 0,
      "outputs": []
    },
    {
      "cell_type": "code",
      "metadata": {
        "id": "waocBYyw3TSi",
        "colab_type": "code",
        "outputId": "72ede99a-c1e8-4ad7-d2ca-97ef572d8259",
        "colab": {
          "base_uri": "https://localhost:8080/",
          "height": 136
        }
      },
      "source": [
        "#Display 1o country in number of cases\n",
        "country1 = most_df['country'].iloc[0]\n",
        "cases1 = most_df['cases'].iloc[0]\n",
        "percent_pop1 = most_df['percentage'].iloc[0]\n",
        "country2 = most_df['country'].iloc[1]\n",
        "cases2 = most_df['cases'].iloc[1]\n",
        "percent_pop2 = most_df['percentage'].iloc[1]\n",
        "country3 = most_df['country'].iloc[2]\n",
        "cases3 = most_df['cases'].iloc[2]\n",
        "percent_pop3 = most_df['percentage'].iloc[2]\n",
        "\n",
        "#Display increased cases\n",
        "increase_country = increase_df['country'].iloc[0]\n",
        "new_cases = increase_df['cases'].iloc[0]\n",
        "\n",
        "\n",
        "popupmsg = ('The countries with most confirmed cases in {} is:'\n",
        "        '\\n  1: {} with {:,} confirmed cases. It´s represent {:.3%} of {} population.'\n",
        "        '\\n  2: {} with {:,} confirmed cases. It´s represents {:.3%} of {} population.'\n",
        "        '\\n  3: {} with {:,} confirmed cases. It´s represents {:.3%} of {} population.'\n",
        "        '\\n\\nThe country with most increase in {} is {} with {:,} new cases.'\n",
        "        '\\nThe total of new reported cases  is {:,}. The total confirmed cases is {:,}.'.format(\n",
        "            last_date,\n",
        "            country1,cases1,percent_pop1,country1,\n",
        "            country2,cases2,percent_pop2,country2,\n",
        "            country3,cases3,percent_pop3,country3,\n",
        "            last_date,increase_country,new_cases,\n",
        "            total_increase,total_cases)\n",
        "        )\n",
        "\n",
        "print(popupmsg)"
      ],
      "execution_count": 42,
      "outputs": [
        {
          "output_type": "stream",
          "text": [
            "The countries with most confirmed cases in 2020-03-25 is:\n",
            "  1: Italy with 74,386 confirmed cases. It´s represent 0.123% of Italy population.\n",
            "  2: US with 65,778 confirmed cases. It´s represents 0.020% of US population.\n",
            "  3: Spain with 49,515 confirmed cases. It´s represents 0.106% of Spain population.\n",
            "\n",
            "The country with most increase in 2020-03-25 is US with 12,038 new cases.\n",
            "The total of new reported cases  is 40,021. The total confirmed cases is 307,479.\n"
          ],
          "name": "stdout"
        }
      ]
    },
    {
      "cell_type": "code",
      "metadata": {
        "colab_type": "code",
        "id": "CTYK_ajxxXL1",
        "colab": {}
      },
      "source": [
        "# import tkinter as tk\n",
        "\n",
        "# def popupmsg(msg):\n",
        "#     popup = tk.Toplevel()\n",
        "#     popup.title(\"!\")\n",
        "#     label = tk.Label(popup, text=popupmsg) #Can add a font arg here\n",
        "#     label.pack(side=\"top\", fill=\"x\", pady=10)\n",
        "#     B1 = tk.Button(popup, text=\"Okay\", command = popup.destroy)\n",
        "#     B1.pack()\n",
        "#     popup.mainloop()\n",
        "\n"
      ],
      "execution_count": 0,
      "outputs": []
    }
  ]
}