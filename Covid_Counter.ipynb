{
  "nbformat": 4,
  "nbformat_minor": 0,
  "metadata": {
    "colab": {
      "name": "Covid_Counter.ipynb",
      "provenance": [],
      "collapsed_sections": [],
      "authorship_tag": "ABX9TyM998iObA9xVa0EXnBTA3ms",
      "include_colab_link": true
    },
    "kernelspec": {
      "name": "python3",
      "display_name": "Python 3"
    }
  },
  "cells": [
    {
      "cell_type": "markdown",
      "metadata": {
        "id": "view-in-github",
        "colab_type": "text"
      },
      "source": [
        "<a href=\"https://colab.research.google.com/github/mabittar/Learn/blob/master/Covid_Counter.ipynb\" target=\"_parent\"><img src=\"https://colab.research.google.com/assets/colab-badge.svg\" alt=\"Open In Colab\"/></a>"
      ]
    },
    {
      "cell_type": "code",
      "metadata": {
        "id": "pXmkqc5ytcHF",
        "colab_type": "code",
        "outputId": "005bf9aa-ec79-4a5b-eb66-4e291122f472",
        "colab": {
          "base_uri": "https://localhost:8080/",
          "height": 204
        }
      },
      "source": [
        "#to use Covid Counter from https://github.com/sudharshan-ashok/pycovid\n",
        "!pip install pycovid\n"
      ],
      "execution_count": 1,
      "outputs": [
        {
          "output_type": "stream",
          "text": [
            "Collecting pycovid\n",
            "  Downloading https://files.pythonhosted.org/packages/34/94/d71d83f70ead0c928c0cec1767fd2db8305b6cc009721babaff1dbd103b8/pycovid-0.1.1-py3-none-any.whl\n",
            "Requirement already satisfied: numpy in /usr/local/lib/python3.6/dist-packages (from pycovid) (1.18.2)\n",
            "Requirement already satisfied: pandas in /usr/local/lib/python3.6/dist-packages (from pycovid) (0.25.3)\n",
            "Requirement already satisfied: plotly in /usr/local/lib/python3.6/dist-packages (from pycovid) (4.4.1)\n",
            "Requirement already satisfied: pytz>=2017.2 in /usr/local/lib/python3.6/dist-packages (from pandas->pycovid) (2018.9)\n",
            "Requirement already satisfied: python-dateutil>=2.6.1 in /usr/local/lib/python3.6/dist-packages (from pandas->pycovid) (2.8.1)\n",
            "Requirement already satisfied: retrying>=1.3.3 in /usr/local/lib/python3.6/dist-packages (from plotly->pycovid) (1.3.3)\n",
            "Requirement already satisfied: six in /usr/local/lib/python3.6/dist-packages (from plotly->pycovid) (1.12.0)\n",
            "Installing collected packages: pycovid\n",
            "Successfully installed pycovid-0.1.1\n"
          ],
          "name": "stdout"
        }
      ]
    },
    {
      "cell_type": "code",
      "metadata": {
        "id": "HUOdrAyItyxZ",
        "colab_type": "code",
        "colab": {}
      },
      "source": [
        "#import modules\n",
        "import pandas as pd\n",
        "from datetime import datetime, date\n",
        "import re\n",
        "import numpy as np\n",
        "import pandas as pd"
      ],
      "execution_count": 0,
      "outputs": []
    },
    {
      "cell_type": "code",
      "metadata": {
        "id": "-sgjDmVfjh24",
        "colab_type": "code",
        "colab": {}
      },
      "source": [
        "#import database for Covid confirmed cases\n",
        "from pycovid import pycovid\n",
        "confirmed_cases_df = pycovid.getCovidCases(casetype=['confirmed'], cumsum=False)"
      ],
      "execution_count": 0,
      "outputs": []
    },
    {
      "cell_type": "code",
      "metadata": {
        "id": "StwoAxbeqC06",
        "colab_type": "code",
        "colab": {}
      },
      "source": [
        "#import country population\n",
        "population_url = \"https://raw.githubusercontent.com/julianbruegger/corona-display/master/population.csv\"\n",
        "colnames_remap= {\"Country\":\"country\",\n",
        "                 \"Country Code\":\"alpha-3\",\n",
        "                 \"2018\":\"population\" \n",
        "                }\n",
        "col_drop = [\"country\"]\n",
        "population_df = pd.read_csv(population_url, encoding= 'unicode_escape', sep=\";\").rename(columns=colnames_remap)\n",
        "\n",
        "#corrrect alpha-3 for Iran\n",
        "population_df.loc[(population_df.country == \"Iran\"), 'alpha-3'] = 'IRN'\n",
        "population_df = population_df.drop(columns=col_drop)\n",
        "\n",
        "#population_df.head(10)\n",
        "#print(population_df.columns)\n",
        "#print(population_df.loc[population_df['alpha-3'] == 'IRN'])"
      ],
      "execution_count": 0,
      "outputs": []
    },
    {
      "cell_type": "code",
      "metadata": {
        "id": "OfaitdG6kkWg",
        "colab_type": "code",
        "colab": {}
      },
      "source": [
        "#rename and reorganize columns\n",
        "renamed_columns_map = {\n",
        "    \"country_region\": \"country\",\n",
        "    \"province_state\": \"location\",\n",
        "    \"lat\": \"latitude\",\n",
        "    \"long\": \"longitude\",\n",
        "    \"type\": \"status\"\n",
        "    }\n",
        "\n",
        "cols_to_drop = [\"location\", \"latitude\", \"longitude\", \"name\", \"status\"]\n",
        "\n",
        "df = (confirmed_cases_df.rename(columns=renamed_columns_map).drop(columns=cols_to_drop))\n",
        "#df.head(10)"
      ],
      "execution_count": 0,
      "outputs": []
    },
    {
      "cell_type": "code",
      "metadata": {
        "id": "yd86AD_EpAXr",
        "colab_type": "code",
        "colab": {}
      },
      "source": [
        "#define important dates\n",
        "last_date = df['date'].max().date()#.strftime(\"%Y%m%d\")\n",
        "#last_date = int(last_date)\n",
        "#print(last_date)\n",
        "\n",
        "today = date.today()\n",
        "#print(today)"
      ],
      "execution_count": 0,
      "outputs": []
    },
    {
      "cell_type": "code",
      "metadata": {
        "id": "0E7Rudm82Z51",
        "colab_type": "code",
        "colab": {
          "base_uri": "https://localhost:8080/",
          "height": 359
        },
        "outputId": "20952685-d9fe-4c36-d372-60ae807f7a0d"
      },
      "source": [
        "#Group country with most confirmed cases\n",
        "most_df = df.groupby(['alpha-3','country']).sum().reset_index()\n",
        "most_df = most_df.sort_values(by='cases', ascending=False).head(10)\n",
        "most_df = most_df.merge(population_df, on='alpha-3', how='left')\n",
        "most_df.head(10)"
      ],
      "execution_count": 54,
      "outputs": [
        {
          "output_type": "execute_result",
          "data": {
            "text/html": [
              "<div>\n",
              "<style scoped>\n",
              "    .dataframe tbody tr th:only-of-type {\n",
              "        vertical-align: middle;\n",
              "    }\n",
              "\n",
              "    .dataframe tbody tr th {\n",
              "        vertical-align: top;\n",
              "    }\n",
              "\n",
              "    .dataframe thead th {\n",
              "        text-align: right;\n",
              "    }\n",
              "</style>\n",
              "<table border=\"1\" class=\"dataframe\">\n",
              "  <thead>\n",
              "    <tr style=\"text-align: right;\">\n",
              "      <th></th>\n",
              "      <th>alpha-3</th>\n",
              "      <th>country</th>\n",
              "      <th>cases</th>\n",
              "      <th>population</th>\n",
              "    </tr>\n",
              "  </thead>\n",
              "  <tbody>\n",
              "    <tr>\n",
              "      <th>0</th>\n",
              "      <td>ITA</td>\n",
              "      <td>Italy</td>\n",
              "      <td>63927</td>\n",
              "      <td>60431283.0</td>\n",
              "    </tr>\n",
              "    <tr>\n",
              "      <th>1</th>\n",
              "      <td>USA</td>\n",
              "      <td>US</td>\n",
              "      <td>43847</td>\n",
              "      <td>327167434.0</td>\n",
              "    </tr>\n",
              "    <tr>\n",
              "      <th>2</th>\n",
              "      <td>ESP</td>\n",
              "      <td>Spain</td>\n",
              "      <td>35136</td>\n",
              "      <td>46723749.0</td>\n",
              "    </tr>\n",
              "    <tr>\n",
              "      <th>3</th>\n",
              "      <td>DEU</td>\n",
              "      <td>Germany</td>\n",
              "      <td>29056</td>\n",
              "      <td>82927922.0</td>\n",
              "    </tr>\n",
              "    <tr>\n",
              "      <th>4</th>\n",
              "      <td>IRN</td>\n",
              "      <td>Iran</td>\n",
              "      <td>23049</td>\n",
              "      <td>80673951.0</td>\n",
              "    </tr>\n",
              "    <tr>\n",
              "      <th>5</th>\n",
              "      <td>FRA</td>\n",
              "      <td>France</td>\n",
              "      <td>20123</td>\n",
              "      <td>66987244.0</td>\n",
              "    </tr>\n",
              "    <tr>\n",
              "      <th>6</th>\n",
              "      <td>CHE</td>\n",
              "      <td>Switzerland</td>\n",
              "      <td>8795</td>\n",
              "      <td>8516543.0</td>\n",
              "    </tr>\n",
              "    <tr>\n",
              "      <th>7</th>\n",
              "      <td>NLD</td>\n",
              "      <td>Netherlands</td>\n",
              "      <td>4764</td>\n",
              "      <td>17231017.0</td>\n",
              "    </tr>\n",
              "    <tr>\n",
              "      <th>8</th>\n",
              "      <td>AUT</td>\n",
              "      <td>Austria</td>\n",
              "      <td>4474</td>\n",
              "      <td>8847037.0</td>\n",
              "    </tr>\n",
              "    <tr>\n",
              "      <th>9</th>\n",
              "      <td>BEL</td>\n",
              "      <td>Belgium</td>\n",
              "      <td>3743</td>\n",
              "      <td>11422068.0</td>\n",
              "    </tr>\n",
              "  </tbody>\n",
              "</table>\n",
              "</div>"
            ],
            "text/plain": [
              "  alpha-3      country  cases   population\n",
              "0     ITA        Italy  63927   60431283.0\n",
              "1     USA           US  43847  327167434.0\n",
              "2     ESP        Spain  35136   46723749.0\n",
              "3     DEU      Germany  29056   82927922.0\n",
              "4     IRN         Iran  23049   80673951.0\n",
              "5     FRA       France  20123   66987244.0\n",
              "6     CHE  Switzerland   8795    8516543.0\n",
              "7     NLD  Netherlands   4764   17231017.0\n",
              "8     AUT      Austria   4474    8847037.0\n",
              "9     BEL      Belgium   3743   11422068.0"
            ]
          },
          "metadata": {
            "tags": []
          },
          "execution_count": 54
        }
      ]
    },
    {
      "cell_type": "code",
      "metadata": {
        "id": "CoE5JpP_bPGr",
        "colab_type": "code",
        "colab": {}
      },
      "source": [
        "# Create a function that takes inputs, cases and population to calculare % infected\n",
        "def pop_cases(cases, population):\n",
        "    # returns the % between cases and population\n",
        "    return cases / population\n",
        "\n",
        "# Create a variable that is the output of the function\n",
        "most_df['percentage'] = pop_cases(most_df['cases'], most_df['population'])\n",
        "\n",
        "#most_df.head(10)"
      ],
      "execution_count": 0,
      "outputs": []
    },
    {
      "cell_type": "code",
      "metadata": {
        "id": "wc72rCyzgeK2",
        "colab_type": "code",
        "colab": {}
      },
      "source": [
        "dff = most_df.sort_values(by='percentage', ascending=False).head(10)\n",
        "#dff"
      ],
      "execution_count": 0,
      "outputs": []
    },
    {
      "cell_type": "code",
      "metadata": {
        "id": "MKEC3ar1_qy4",
        "colab_type": "code",
        "outputId": "ffac6695-7edd-488d-cfb0-0d7868a413af",
        "colab": {
          "base_uri": "https://localhost:8080/",
          "height": 153
        }
      },
      "source": [
        "#filter most increase cases in last date of data\n",
        "increase_df = df[df['date'].eq(last_date)].sort_values(by='cases', ascending=False).head(10)\n",
        "#increase_df.head()"
      ],
      "execution_count": 57,
      "outputs": [
        {
          "output_type": "stream",
          "text": [
            "/usr/local/lib/python3.6/dist-packages/pandas/core/ops/__init__.py:1350: FutureWarning:\n",
            "\n",
            "Comparing Series of datetimes with 'datetime.date'.  Currently, the\n",
            "'datetime.date' is coerced to a datetime. In the future pandas will\n",
            "not coerce, and 'the values will not compare equal to the\n",
            "'datetime.date'. To retain the current behavior, convert the\n",
            "'datetime.date' to a datetime with 'pd.Timestamp'.\n",
            "\n"
          ],
          "name": "stderr"
        }
      ]
    },
    {
      "cell_type": "code",
      "metadata": {
        "id": "0MjlKg9kvsJk",
        "colab_type": "code",
        "colab": {
          "base_uri": "https://localhost:8080/",
          "height": 34
        },
        "outputId": "3bc6fdd5-f6e6-4291-ae24-4d6b6702b691"
      },
      "source": [
        "total_increase = increase_df['cases'].sum(axis = 0, skipna = True) \n",
        "print(total_increase)"
      ],
      "execution_count": 60,
      "outputs": [
        {
          "output_type": "stream",
          "text": [
            "34378\n"
          ],
          "name": "stdout"
        }
      ]
    },
    {
      "cell_type": "code",
      "metadata": {
        "id": "waocBYyw3TSi",
        "colab_type": "code",
        "outputId": "2f205cde-4c30-46b0-bea9-90a2dd76da94",
        "colab": {
          "base_uri": "https://localhost:8080/",
          "height": 85
        }
      },
      "source": [
        "#Display 1o country in number of cases\n",
        "country1 = most_df['country'].iloc[0]\n",
        "#Display increased cases\n",
        "increase_country = increase_df['country'].iloc[0]\n",
        "new_cases = increase_df['cases'].iloc[0]\n",
        "cases1 = most_df['cases'].iloc[0]\n",
        "percent_pop = most_df['percentage'].iloc[0]\n",
        "print(\"The country with most confirmed cases in {:%d/%m/%Y} is {}. With {:,} cases confirmed. \".format(last_date,country1,cases1))\n",
        "print(\"It´s represent {:.3%} of {} population\".format(percent_pop,country1))\n",
        "print(\"The country with most increase in {:%d/%m/%Y} is {} with {} new cases.\".format(last_date,increase_country,new_cases))\n",
        "print(\"The total of new cases is {:,}.\". format(total_increase))"
      ],
      "execution_count": 62,
      "outputs": [
        {
          "output_type": "stream",
          "text": [
            "The country with most confirmed cases in 23/03/2020 is Italy. With 63,927 cases confirmed. \n",
            "It´s represent 0.106% of Italy population\n",
            "The country with most increase in 23/03/2020 is US with 10571 new cases.\n",
            "The total of new cases is 34,378.\n"
          ],
          "name": "stdout"
        }
      ]
    },
    {
      "cell_type": "code",
      "metadata": {
        "id": "qQX2UK0tHmVm",
        "colab_type": "code",
        "colab": {}
      },
      "source": [
        "\"\"\"\"\"\n",
        "import tkinter as tk\n",
        "\n",
        "def popupmsg(msg):\n",
        "    popup = tk.Toplevel()\n",
        "    popup.title(\"!\")\n",
        "    label = tk.Label(popup, text=msg) #Can add a font arg here\n",
        "    label.pack(side=\"top\", fill=\"x\", pady=10)\n",
        "    B1 = tk.Button(popup, text=\"Okay\", command = popup.destroy)\n",
        "    B1.pack()\n",
        "    popup.mainloop()\n",
        "\n",
        "popupmsg('The country with most confirmed cases in {:%d/%m/%Y} is {}. With {:,} cases confirmed.'\n",
        "        '\\nIt´s represent {:.3%} of {} population  /p'\n",
        "        '\\n The country with most increase in {:%d/%m/%Y} is {} with {} new cases. The total of new cases reported is {}'.format(last_date,country1,cases1,percent_pop,country1,last_date,increase_country,new_cases,total_increase)\n",
        "        )\n",
        "\"\"\"\"\""
      ],
      "execution_count": 0,
      "outputs": []
    }
  ]
}