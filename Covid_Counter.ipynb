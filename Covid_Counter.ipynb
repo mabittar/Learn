{
  "nbformat": 4,
  "nbformat_minor": 0,
  "metadata": {
    "colab": {
      "name": "Covid_Counter.ipynb",
      "provenance": [],
      "collapsed_sections": [],
      "authorship_tag": "ABX9TyNI+281nK+oCeAccPMjEGLr",
      "include_colab_link": true
    },
    "kernelspec": {
      "name": "python3",
      "display_name": "Python 3"
    }
  },
  "cells": [
    {
      "cell_type": "markdown",
      "metadata": {
        "id": "view-in-github",
        "colab_type": "text"
      },
      "source": [
        "<a href=\"https://colab.research.google.com/github/mabittar/Learn/blob/master/Covid_Counter.ipynb\" target=\"_parent\"><img src=\"https://colab.research.google.com/assets/colab-badge.svg\" alt=\"Open In Colab\"/></a>"
      ]
    },
    {
      "cell_type": "code",
      "metadata": {
        "id": "pXmkqc5ytcHF",
        "colab_type": "code",
        "outputId": "d1a61554-c267-41f3-ca36-302c221a66c5",
        "colab": {
          "base_uri": "https://localhost:8080/",
          "height": 153
        }
      },
      "source": [
        "#to use Covid Counter from https://github.com/sudharshan-ashok/pycovid\n",
        "!pip install pycovid\n"
      ],
      "execution_count": 72,
      "outputs": [
        {
          "output_type": "stream",
          "text": [
            "Requirement already satisfied: pycovid in /usr/local/lib/python3.6/dist-packages (0.1.1)\n",
            "Requirement already satisfied: pandas in /usr/local/lib/python3.6/dist-packages (from pycovid) (1.0.3)\n",
            "Requirement already satisfied: plotly in /usr/local/lib/python3.6/dist-packages (from pycovid) (4.4.1)\n",
            "Requirement already satisfied: numpy in /usr/local/lib/python3.6/dist-packages (from pycovid) (1.18.2)\n",
            "Requirement already satisfied: pytz>=2017.2 in /usr/local/lib/python3.6/dist-packages (from pandas->pycovid) (2018.9)\n",
            "Requirement already satisfied: python-dateutil>=2.6.1 in /usr/local/lib/python3.6/dist-packages (from pandas->pycovid) (2.8.1)\n",
            "Requirement already satisfied: six in /usr/local/lib/python3.6/dist-packages (from plotly->pycovid) (1.12.0)\n",
            "Requirement already satisfied: retrying>=1.3.3 in /usr/local/lib/python3.6/dist-packages (from plotly->pycovid) (1.3.3)\n"
          ],
          "name": "stdout"
        }
      ]
    },
    {
      "cell_type": "code",
      "metadata": {
        "id": "HUOdrAyItyxZ",
        "colab_type": "code",
        "colab": {}
      },
      "source": [
        "#import modules\n",
        "import pandas as pd\n",
        "from datetime import datetime, date\n",
        "import re\n",
        "import numpy as np\n",
        "import pandas as pd"
      ],
      "execution_count": 0,
      "outputs": []
    },
    {
      "cell_type": "code",
      "metadata": {
        "id": "StwoAxbeqC06",
        "colab_type": "code",
        "colab": {}
      },
      "source": [
        "#import country population database\n",
        "population_url = \"https://raw.githubusercontent.com/julianbruegger/corona-display/master/data/population.csv\"\n",
        "colnames_remap= {\"Country\":\"country\",\n",
        "                 \"Country Code\":\"alpha-3\",\n",
        "                 \"2018\":\"population\" \n",
        "                }\n",
        "col_drop = [\"country\"]\n",
        "population_df = pd.read_csv(population_url, encoding= 'unicode_escape', sep=\";\").rename(columns=colnames_remap)\n",
        "\n",
        "#corrrect alpha-3 for Iran\n",
        "population_df.loc[(population_df.country == \"Iran\"), 'alpha-3'] = 'IRN'\n",
        "population_df = population_df.drop(columns=col_drop)\n",
        "\n",
        "#population_df.head(10)\n",
        "#print(population_df.columns)\n",
        "#print(population_df.loc[population_df['alpha-3'] == 'IRN'])"
      ],
      "execution_count": 0,
      "outputs": []
    },
    {
      "cell_type": "code",
      "metadata": {
        "id": "OfaitdG6kkWg",
        "colab_type": "code",
        "colab": {}
      },
      "source": [
        "#import database for Covid cases\n",
        "from pycovid import pycovid\n",
        "df = pycovid.getCovidCases(cumsum=False)\n",
        "#df.head()\n",
        "\n",
        "\n",
        "#rename and reorganize columns\n",
        "renamed_columns_map = {\n",
        "    \"country_region\": \"country\",\n",
        "    \"province_state\": \"location\",\n",
        "    \"lat\": \"latitude\",\n",
        "    \"long\": \"longitude\",\n",
        "    \"type\": \"status\"\n",
        "    }\n",
        "\n",
        "cols_to_drop = [\"location\", \"latitude\", \"longitude\", \"name\"]\n",
        "\n",
        "df = df.rename(columns=renamed_columns_map).drop(columns=cols_to_drop)\n",
        "#df.head(10)"
      ],
      "execution_count": 0,
      "outputs": []
    },
    {
      "cell_type": "code",
      "metadata": {
        "id": "yd86AD_EpAXr",
        "colab_type": "code",
        "colab": {}
      },
      "source": [
        "#define important dates\n",
        "last_date = df['date'].max()\n",
        "last_date = np.datetime64(last_date, 'D')\n",
        "#print(last_date)\n",
        "#print(last_date_str)\n",
        "\n",
        "\n",
        "today = date.today()\n",
        "#print(today)"
      ],
      "execution_count": 0,
      "outputs": []
    },
    {
      "cell_type": "code",
      "metadata": {
        "id": "8Ja2w4cZBbB7",
        "colab_type": "code",
        "colab": {}
      },
      "source": [
        "df = df.merge(population_df, on='alpha-3', how='left')  # Merge df (covid_cases) with population_df\n"
      ],
      "execution_count": 0,
      "outputs": []
    },
    {
      "cell_type": "code",
      "metadata": {
        "id": "f6DDVE-2A2Mb",
        "colab_type": "code",
        "colab": {}
      },
      "source": [
        "# Create a function that takes inputs, cases and population to calculare % infected\n",
        "def pop_cases(cases, population):\n",
        "    # returns the % between cases and population\n",
        "    return cases / population\n",
        "\n",
        "# Create a variable that is the output of the function\n",
        "df['percentage'] = pop_cases(df['cases'], df['population'])\n",
        "\n",
        "#df.head(10)"
      ],
      "execution_count": 0,
      "outputs": []
    },
    {
      "cell_type": "code",
      "metadata": {
        "id": "UQx9rIXcNWem",
        "colab_type": "code",
        "colab": {}
      },
      "source": [
        "#df['status'].value_counts()"
      ],
      "execution_count": 0,
      "outputs": []
    },
    {
      "cell_type": "code",
      "metadata": {
        "id": "wmvL17MFsH-a",
        "colab_type": "code",
        "colab": {}
      },
      "source": [
        "confirmed_cases_df = df[df.status.eq('confirmed')]\n",
        "#confirmed_cases_df.head()"
      ],
      "execution_count": 0,
      "outputs": []
    },
    {
      "cell_type": "code",
      "metadata": {
        "id": "0E7Rudm82Z51",
        "colab_type": "code",
        "colab": {}
      },
      "source": [
        "#Group country with more confirmed cases\n",
        "high_cases_df = confirmed_cases_df.groupby(['alpha-3','country']).sum().reset_index()\n",
        "high_cases_df = high_cases_df.sort_values(by='cases', ascending=False).head(10)\n",
        "total_cases = high_cases_df['cases'].sum(axis = 0, skipna = True) \n",
        "#high_cases_df.head(10)\n",
        "\n",
        "#Group country with biggest population % infected\n",
        "high_perct_cases_df = high_cases_df.sort_values(by='percentage', ascending=False).head(10)\n",
        "#high_perct_cases_df"
      ],
      "execution_count": 0,
      "outputs": []
    },
    {
      "cell_type": "code",
      "metadata": {
        "id": "MKEC3ar1_qy4",
        "colab_type": "code",
        "colab": {}
      },
      "source": [
        "#filter biggest increase cases in last date of dataframe\n",
        "increase_df = confirmed_cases_df[confirmed_cases_df['date'].eq(last_date)].sort_values(by='cases', ascending=False).head(10)\n",
        "#increase_df.head()"
      ],
      "execution_count": 0,
      "outputs": []
    },
    {
      "cell_type": "code",
      "metadata": {
        "id": "0MjlKg9kvsJk",
        "colab_type": "code",
        "colab": {}
      },
      "source": [
        "total_increase = increase_df['cases'].sum(axis = 0, skipna = True) \n",
        "#print(total_increase)"
      ],
      "execution_count": 0,
      "outputs": []
    },
    {
      "cell_type": "code",
      "metadata": {
        "id": "UviSfAWCpPBC",
        "colab_type": "code",
        "colab": {}
      },
      "source": [
        "#import database for Covid recovered cases\n",
        "recovered_cases_df = df[df.status.eq('recovered')]\n",
        "#recovered_cases_df.head()\n",
        "\n",
        "#Group countries with more recovered cases\n",
        "high_recovered_df = recovered_cases_df.groupby(['alpha-3','country']).sum().reset_index()\n",
        "high_recovered_df = high_recovered_df.sort_values(by='cases', ascending=False).head(10)\n",
        "total_recovered = recovered_cases_df['cases'].sum(axis = 0, skipna = True) \n",
        "#high_recovered_df.tail(10)\n",
        "#print(total_recovered)"
      ],
      "execution_count": 0,
      "outputs": []
    },
    {
      "cell_type": "code",
      "metadata": {
        "id": "s4UM9qlHMrAe",
        "colab_type": "code",
        "colab": {}
      },
      "source": [
        "#import database for Covid death cases\n",
        "death_cases_df = df[df.status.eq('death')]\n",
        "#recovered_cases_df.head()\n",
        "\n",
        "#Group countries with more deaths cases\n",
        "high_death_cases_df = death_cases_df.groupby(['alpha-3','country']).sum().reset_index()\n",
        "high_death_cases_df = high_death_cases_df.sort_values(by='cases', ascending=False).head(10)\n",
        "total_death = high_death_cases_df['cases'].sum(axis = 0, skipna = True) \n",
        "#high_death_cases_df.head(10)\n",
        "\n",
        "#filter increase death cases in last date of dataframe\n",
        "increase_death_df = death_cases_df[death_cases_df['date'].eq(last_date)].sort_values(by='cases', ascending=False).head(10)\n",
        "#increase_death_df.head()\n"
      ],
      "execution_count": 0,
      "outputs": []
    },
    {
      "cell_type": "code",
      "metadata": {
        "id": "QWe62BxW6aj8",
        "colab_type": "code",
        "colab": {
          "base_uri": "https://localhost:8080/",
          "height": 34
        },
        "outputId": "ea96b8f4-342a-4cee-bf1a-dcf5110726ea"
      },
      "source": [
        "perct_recovered = total_recovered / total_cases\n",
        "print(perct_recovered)"
      ],
      "execution_count": 103,
      "outputs": [
        {
          "output_type": "stream",
          "text": [
            "0.15524682571314696\n"
          ],
          "name": "stdout"
        }
      ]
    },
    {
      "cell_type": "code",
      "metadata": {
        "id": "waocBYyw3TSi",
        "colab_type": "code",
        "outputId": "0914c75d-b64f-4575-88a9-353dba777355",
        "colab": {
          "base_uri": "https://localhost:8080/",
          "height": 238
        }
      },
      "source": [
        "#Display countries in number of confirmed cases\n",
        "country1 = high_cases_df['country'].iloc[0]\n",
        "cases1 = high_cases_df['cases'].iloc[0]\n",
        "percent_pop1 = high_cases_df['percentage'].iloc[0]\n",
        "country2 = high_cases_df['country'].iloc[1]\n",
        "cases2 = high_cases_df['cases'].iloc[1]\n",
        "percent_pop2 = high_cases_df['percentage'].iloc[1]\n",
        "country3 = high_cases_df['country'].iloc[2]\n",
        "cases3 = high_cases_df['cases'].iloc[2]\n",
        "percent_pop3 = high_cases_df['percentage'].iloc[2]\n",
        "\n",
        "#Display increased cases\n",
        "increase_country = increase_df['country'].iloc[0]\n",
        "new_cases = increase_df['cases'].iloc[0]\n",
        "\n",
        "#Display country with most recovered cases\n",
        "country_recover = high_recovered_df['country'].iloc[0]\n",
        "cases_recover = high_recovered_df['cases'].iloc[0]\n",
        "perct_recovered = total_recovered / total_cases\n",
        "\n",
        "#Display countries with most deaths\n",
        "country_death = high_death_cases_df['country'].iloc[0]\n",
        "cases_death = high_death_cases_df['cases'].iloc[0]\n",
        "\n",
        "\n",
        "popupmsg = ('              Report Covid-19 cases in {}:'\n",
        "        '\\n{} is the country with more recovered with {:,} cases reported. The worldwide total report of recovered cases is {:,} until now.'\n",
        "        '\\n  The percentage of recoverd cases is {:.2%}.'\n",
        "        '\\n\\n               Countries with more confirmed cases:'\n",
        "        '\\n  1: {} with {:,} confirmed cases. It´s represent {:.3%} of {} population.'\n",
        "        '\\n  2: {} with {:,} confirmed cases. It´s represents {:.3%} of {} population.'\n",
        "        '\\n  3: {} with {:,} confirmed cases. It´s represents {:.3%} of {} population.'\n",
        "        '\\n\\nThe country with biggest increase is {} with {:,} new cases.'\n",
        "        '\\nThe total of new reported cases is {:,}. The total confirmed cases is {:,}.'\n",
        "        '\\n\\n{} is the country with more death reported with {:,}. Worldwide deaths reported by covid is {:,}.'\n",
        "        .format(\n",
        "            last_date,\n",
        "            country_recover, cases_recover, total_recovered,\n",
        "            perct_recovered,\n",
        "            \n",
        "            country1,cases1,percent_pop1,country1,\n",
        "            country2,cases2,percent_pop2,country2,\n",
        "            country3,cases3,percent_pop3,country3,\n",
        "            increase_country,new_cases,\n",
        "            total_increase,total_cases,\n",
        "            country_death, cases_death, total_death)\n",
        "        )\n",
        "\n",
        "print(popupmsg)"
      ],
      "execution_count": 108,
      "outputs": [
        {
          "output_type": "stream",
          "text": [
            "              Report Covid-19 cases in 2020-03-31:\n",
            "Spain is the country with more recovered with 19,259 cases reported. The worldwide total report of recovered cases is 95,431 until now.\n",
            "  The percentage of recoverd cases is 15.52%.\n",
            "\n",
            "               Countries with more confirmed cases:\n",
            "  1: US with 188,172 confirmed cases. It´s represent 0.058% of US population.\n",
            "  2: Italy with 105,792 confirmed cases. It´s represents 0.175% of Italy population.\n",
            "  3: Spain with 95,923 confirmed cases. It´s represents 0.205% of Spain population.\n",
            "\n",
            "The country with biggest increase is US with 26,365 new cases.\n",
            "The total of new reported cases is 59,749. The total confirmed cases is 614,705.\n",
            "\n",
            "Italy is the country with more death reported with 12,428. Worldwide deaths reported by covid is 34,362.\n"
          ],
          "name": "stdout"
        }
      ]
    },
    {
      "cell_type": "code",
      "metadata": {
        "colab_type": "code",
        "id": "CTYK_ajxxXL1",
        "colab": {}
      },
      "source": [
        "#import tkinter as tk\n",
        "#def popupmsg(msg):\n",
        "#     gui = tk.Toplevel()\n",
        "#     gui.title(\"Covid Cases\")\n",
        "#     label = tk.Label(gui, text=msg) #Can add a font arg here\n",
        "#     label.pack(side=\"top\", fill=\"x\", pady=10)\n",
        "#     B1 = tk.Button(gui, text=\"Okay\", command = gui.destroy)\n",
        "#     B1.pack()\n",
        "#     gui.mainloop()\n",
        "\n",
        "#popupmsg (pop_up_msg)\n",
        "\n"
      ],
      "execution_count": 0,
      "outputs": []
    }
  ]
}